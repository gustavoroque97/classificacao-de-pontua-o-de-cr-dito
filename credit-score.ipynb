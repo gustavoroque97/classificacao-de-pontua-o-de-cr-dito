{
 "cells": [
  {
   "cell_type": "code",
   "execution_count": 1,
   "id": "d66338c0",
   "metadata": {
    "_cell_guid": "b1076dfc-b9ad-4769-8c92-a6c4dae69d19",
    "_uuid": "8f2839f25d086af736a60e9eeb907d3b93b6e0e5",
    "execution": {
     "iopub.execute_input": "2024-04-18T22:59:34.111323Z",
     "iopub.status.busy": "2024-04-18T22:59:34.110569Z",
     "iopub.status.idle": "2024-04-18T22:59:37.213124Z",
     "shell.execute_reply": "2024-04-18T22:59:37.211681Z"
    },
    "papermill": {
     "duration": 3.129049,
     "end_time": "2024-04-18T22:59:37.216066",
     "exception": false,
     "start_time": "2024-04-18T22:59:34.087017",
     "status": "completed"
    },
    "tags": []
   },
   "outputs": [],
   "source": [
    "import pandas as pd\n",
    "import numpy as np\n",
    "import seaborn as sns\n",
    "from matplotlib import pyplot as plt\n",
    "from sklearn.ensemble import RandomForestClassifier\n",
    "from sklearn.ensemble import GradientBoostingClassifier\n",
    "from sklearn.model_selection import train_test_split\n",
    "from sklearn.model_selection import GridSearchCV\n",
    "from sklearn.metrics import accuracy_score\n",
    "from sklearn.preprocessing import LabelEncoder"
   ]
  },
  {
   "cell_type": "code",
   "execution_count": 2,
   "id": "f50087a3",
   "metadata": {
    "execution": {
     "iopub.execute_input": "2024-04-18T22:59:37.263397Z",
     "iopub.status.busy": "2024-04-18T22:59:37.262771Z",
     "iopub.status.idle": "2024-04-18T22:59:38.600270Z",
     "shell.execute_reply": "2024-04-18T22:59:38.598725Z"
    },
    "papermill": {
     "duration": 1.363655,
     "end_time": "2024-04-18T22:59:38.603212",
     "exception": false,
     "start_time": "2024-04-18T22:59:37.239557",
     "status": "completed"
    },
    "tags": []
   },
   "outputs": [
    {
     "name": "stderr",
     "output_type": "stream",
     "text": [
      "/tmp/ipykernel_18/2501619468.py:1: DtypeWarning: Columns (26) have mixed types. Specify dtype option on import or set low_memory=False.\n",
      "  df = pd.read_csv(\"/kaggle/input/credit-score-classification/train.csv\") # reading train data\n"
     ]
    },
    {
     "data": {
      "text/html": [
       "<div>\n",
       "<style scoped>\n",
       "    .dataframe tbody tr th:only-of-type {\n",
       "        vertical-align: middle;\n",
       "    }\n",
       "\n",
       "    .dataframe tbody tr th {\n",
       "        vertical-align: top;\n",
       "    }\n",
       "\n",
       "    .dataframe thead th {\n",
       "        text-align: right;\n",
       "    }\n",
       "</style>\n",
       "<table border=\"1\" class=\"dataframe\">\n",
       "  <thead>\n",
       "    <tr style=\"text-align: right;\">\n",
       "      <th></th>\n",
       "      <th>ID</th>\n",
       "      <th>Customer_ID</th>\n",
       "      <th>Month</th>\n",
       "      <th>Name</th>\n",
       "      <th>Age</th>\n",
       "      <th>SSN</th>\n",
       "      <th>Occupation</th>\n",
       "      <th>Annual_Income</th>\n",
       "      <th>Monthly_Inhand_Salary</th>\n",
       "      <th>Num_Bank_Accounts</th>\n",
       "      <th>...</th>\n",
       "      <th>Credit_Mix</th>\n",
       "      <th>Outstanding_Debt</th>\n",
       "      <th>Credit_Utilization_Ratio</th>\n",
       "      <th>Credit_History_Age</th>\n",
       "      <th>Payment_of_Min_Amount</th>\n",
       "      <th>Total_EMI_per_month</th>\n",
       "      <th>Amount_invested_monthly</th>\n",
       "      <th>Payment_Behaviour</th>\n",
       "      <th>Monthly_Balance</th>\n",
       "      <th>Credit_Score</th>\n",
       "    </tr>\n",
       "  </thead>\n",
       "  <tbody>\n",
       "    <tr>\n",
       "      <th>0</th>\n",
       "      <td>0x1602</td>\n",
       "      <td>CUS_0xd40</td>\n",
       "      <td>January</td>\n",
       "      <td>Aaron Maashoh</td>\n",
       "      <td>23</td>\n",
       "      <td>821-00-0265</td>\n",
       "      <td>Scientist</td>\n",
       "      <td>19114.12</td>\n",
       "      <td>1824.843333</td>\n",
       "      <td>3</td>\n",
       "      <td>...</td>\n",
       "      <td>_</td>\n",
       "      <td>809.98</td>\n",
       "      <td>26.822620</td>\n",
       "      <td>22 Years and 1 Months</td>\n",
       "      <td>No</td>\n",
       "      <td>49.574949</td>\n",
       "      <td>80.41529543900253</td>\n",
       "      <td>High_spent_Small_value_payments</td>\n",
       "      <td>312.49408867943663</td>\n",
       "      <td>Good</td>\n",
       "    </tr>\n",
       "    <tr>\n",
       "      <th>1</th>\n",
       "      <td>0x1603</td>\n",
       "      <td>CUS_0xd40</td>\n",
       "      <td>February</td>\n",
       "      <td>Aaron Maashoh</td>\n",
       "      <td>23</td>\n",
       "      <td>821-00-0265</td>\n",
       "      <td>Scientist</td>\n",
       "      <td>19114.12</td>\n",
       "      <td>NaN</td>\n",
       "      <td>3</td>\n",
       "      <td>...</td>\n",
       "      <td>Good</td>\n",
       "      <td>809.98</td>\n",
       "      <td>31.944960</td>\n",
       "      <td>NaN</td>\n",
       "      <td>No</td>\n",
       "      <td>49.574949</td>\n",
       "      <td>118.28022162236736</td>\n",
       "      <td>Low_spent_Large_value_payments</td>\n",
       "      <td>284.62916249607184</td>\n",
       "      <td>Good</td>\n",
       "    </tr>\n",
       "    <tr>\n",
       "      <th>2</th>\n",
       "      <td>0x1604</td>\n",
       "      <td>CUS_0xd40</td>\n",
       "      <td>March</td>\n",
       "      <td>Aaron Maashoh</td>\n",
       "      <td>-500</td>\n",
       "      <td>821-00-0265</td>\n",
       "      <td>Scientist</td>\n",
       "      <td>19114.12</td>\n",
       "      <td>NaN</td>\n",
       "      <td>3</td>\n",
       "      <td>...</td>\n",
       "      <td>Good</td>\n",
       "      <td>809.98</td>\n",
       "      <td>28.609352</td>\n",
       "      <td>22 Years and 3 Months</td>\n",
       "      <td>No</td>\n",
       "      <td>49.574949</td>\n",
       "      <td>81.699521264648</td>\n",
       "      <td>Low_spent_Medium_value_payments</td>\n",
       "      <td>331.2098628537912</td>\n",
       "      <td>Good</td>\n",
       "    </tr>\n",
       "    <tr>\n",
       "      <th>3</th>\n",
       "      <td>0x1605</td>\n",
       "      <td>CUS_0xd40</td>\n",
       "      <td>April</td>\n",
       "      <td>Aaron Maashoh</td>\n",
       "      <td>23</td>\n",
       "      <td>821-00-0265</td>\n",
       "      <td>Scientist</td>\n",
       "      <td>19114.12</td>\n",
       "      <td>NaN</td>\n",
       "      <td>3</td>\n",
       "      <td>...</td>\n",
       "      <td>Good</td>\n",
       "      <td>809.98</td>\n",
       "      <td>31.377862</td>\n",
       "      <td>22 Years and 4 Months</td>\n",
       "      <td>No</td>\n",
       "      <td>49.574949</td>\n",
       "      <td>199.4580743910713</td>\n",
       "      <td>Low_spent_Small_value_payments</td>\n",
       "      <td>223.45130972736786</td>\n",
       "      <td>Good</td>\n",
       "    </tr>\n",
       "    <tr>\n",
       "      <th>4</th>\n",
       "      <td>0x1606</td>\n",
       "      <td>CUS_0xd40</td>\n",
       "      <td>May</td>\n",
       "      <td>Aaron Maashoh</td>\n",
       "      <td>23</td>\n",
       "      <td>821-00-0265</td>\n",
       "      <td>Scientist</td>\n",
       "      <td>19114.12</td>\n",
       "      <td>1824.843333</td>\n",
       "      <td>3</td>\n",
       "      <td>...</td>\n",
       "      <td>Good</td>\n",
       "      <td>809.98</td>\n",
       "      <td>24.797347</td>\n",
       "      <td>22 Years and 5 Months</td>\n",
       "      <td>No</td>\n",
       "      <td>49.574949</td>\n",
       "      <td>41.420153086217326</td>\n",
       "      <td>High_spent_Medium_value_payments</td>\n",
       "      <td>341.48923103222177</td>\n",
       "      <td>Good</td>\n",
       "    </tr>\n",
       "  </tbody>\n",
       "</table>\n",
       "<p>5 rows × 28 columns</p>\n",
       "</div>"
      ],
      "text/plain": [
       "       ID Customer_ID     Month           Name   Age          SSN Occupation  \\\n",
       "0  0x1602   CUS_0xd40   January  Aaron Maashoh    23  821-00-0265  Scientist   \n",
       "1  0x1603   CUS_0xd40  February  Aaron Maashoh    23  821-00-0265  Scientist   \n",
       "2  0x1604   CUS_0xd40     March  Aaron Maashoh  -500  821-00-0265  Scientist   \n",
       "3  0x1605   CUS_0xd40     April  Aaron Maashoh    23  821-00-0265  Scientist   \n",
       "4  0x1606   CUS_0xd40       May  Aaron Maashoh    23  821-00-0265  Scientist   \n",
       "\n",
       "  Annual_Income  Monthly_Inhand_Salary  Num_Bank_Accounts  ...  Credit_Mix  \\\n",
       "0      19114.12            1824.843333                  3  ...           _   \n",
       "1      19114.12                    NaN                  3  ...        Good   \n",
       "2      19114.12                    NaN                  3  ...        Good   \n",
       "3      19114.12                    NaN                  3  ...        Good   \n",
       "4      19114.12            1824.843333                  3  ...        Good   \n",
       "\n",
       "   Outstanding_Debt Credit_Utilization_Ratio     Credit_History_Age  \\\n",
       "0            809.98                26.822620  22 Years and 1 Months   \n",
       "1            809.98                31.944960                    NaN   \n",
       "2            809.98                28.609352  22 Years and 3 Months   \n",
       "3            809.98                31.377862  22 Years and 4 Months   \n",
       "4            809.98                24.797347  22 Years and 5 Months   \n",
       "\n",
       "   Payment_of_Min_Amount Total_EMI_per_month Amount_invested_monthly  \\\n",
       "0                     No           49.574949       80.41529543900253   \n",
       "1                     No           49.574949      118.28022162236736   \n",
       "2                     No           49.574949         81.699521264648   \n",
       "3                     No           49.574949       199.4580743910713   \n",
       "4                     No           49.574949      41.420153086217326   \n",
       "\n",
       "                  Payment_Behaviour     Monthly_Balance Credit_Score  \n",
       "0   High_spent_Small_value_payments  312.49408867943663         Good  \n",
       "1    Low_spent_Large_value_payments  284.62916249607184         Good  \n",
       "2   Low_spent_Medium_value_payments   331.2098628537912         Good  \n",
       "3    Low_spent_Small_value_payments  223.45130972736786         Good  \n",
       "4  High_spent_Medium_value_payments  341.48923103222177         Good  \n",
       "\n",
       "[5 rows x 28 columns]"
      ]
     },
     "execution_count": 2,
     "metadata": {},
     "output_type": "execute_result"
    }
   ],
   "source": [
    "df = pd.read_csv(\"/kaggle/input/credit-score-classification/train.csv\") # reading train data\n",
    "df.head()"
   ]
  },
  {
   "cell_type": "markdown",
   "id": "d955ead6",
   "metadata": {
    "papermill": {
     "duration": 0.02179,
     "end_time": "2024-04-18T22:59:38.647730",
     "exception": false,
     "start_time": "2024-04-18T22:59:38.625940",
     "status": "completed"
    },
    "tags": []
   },
   "source": [
    "# Iniciando o tratamento dos dados"
   ]
  },
  {
   "cell_type": "code",
   "execution_count": 3,
   "id": "8ed41abb",
   "metadata": {
    "execution": {
     "iopub.execute_input": "2024-04-18T22:59:38.695283Z",
     "iopub.status.busy": "2024-04-18T22:59:38.694878Z",
     "iopub.status.idle": "2024-04-18T22:59:38.702423Z",
     "shell.execute_reply": "2024-04-18T22:59:38.701153Z"
    },
    "papermill": {
     "duration": 0.033291,
     "end_time": "2024-04-18T22:59:38.704531",
     "exception": false,
     "start_time": "2024-04-18T22:59:38.671240",
     "status": "completed"
    },
    "tags": []
   },
   "outputs": [
    {
     "data": {
      "text/plain": [
       "(100000, 28)"
      ]
     },
     "execution_count": 3,
     "metadata": {},
     "output_type": "execute_result"
    }
   ],
   "source": [
    "df.shape"
   ]
  },
  {
   "cell_type": "code",
   "execution_count": 4,
   "id": "7d153d35",
   "metadata": {
    "execution": {
     "iopub.execute_input": "2024-04-18T22:59:38.750545Z",
     "iopub.status.busy": "2024-04-18T22:59:38.750155Z",
     "iopub.status.idle": "2024-04-18T22:59:38.758910Z",
     "shell.execute_reply": "2024-04-18T22:59:38.757673Z"
    },
    "papermill": {
     "duration": 0.034679,
     "end_time": "2024-04-18T22:59:38.761361",
     "exception": false,
     "start_time": "2024-04-18T22:59:38.726682",
     "status": "completed"
    },
    "tags": []
   },
   "outputs": [
    {
     "data": {
      "text/plain": [
       "ID                           object\n",
       "Customer_ID                  object\n",
       "Month                        object\n",
       "Name                         object\n",
       "Age                          object\n",
       "SSN                          object\n",
       "Occupation                   object\n",
       "Annual_Income                object\n",
       "Monthly_Inhand_Salary       float64\n",
       "Num_Bank_Accounts             int64\n",
       "Num_Credit_Card               int64\n",
       "Interest_Rate                 int64\n",
       "Num_of_Loan                  object\n",
       "Type_of_Loan                 object\n",
       "Delay_from_due_date           int64\n",
       "Num_of_Delayed_Payment       object\n",
       "Changed_Credit_Limit         object\n",
       "Num_Credit_Inquiries        float64\n",
       "Credit_Mix                   object\n",
       "Outstanding_Debt             object\n",
       "Credit_Utilization_Ratio    float64\n",
       "Credit_History_Age           object\n",
       "Payment_of_Min_Amount        object\n",
       "Total_EMI_per_month         float64\n",
       "Amount_invested_monthly      object\n",
       "Payment_Behaviour            object\n",
       "Monthly_Balance              object\n",
       "Credit_Score                 object\n",
       "dtype: object"
      ]
     },
     "execution_count": 4,
     "metadata": {},
     "output_type": "execute_result"
    }
   ],
   "source": [
    "df.dtypes"
   ]
  },
  {
   "cell_type": "markdown",
   "id": "e6ddd92a",
   "metadata": {
    "papermill": {
     "duration": 0.021673,
     "end_time": "2024-04-18T22:59:38.804975",
     "exception": false,
     "start_time": "2024-04-18T22:59:38.783302",
     "status": "completed"
    },
    "tags": []
   },
   "source": [
    "## Podemos eliminar algumas colunas que não são tão relevantes."
   ]
  },
  {
   "cell_type": "code",
   "execution_count": 5,
   "id": "2f207b82",
   "metadata": {
    "execution": {
     "iopub.execute_input": "2024-04-18T22:59:38.850719Z",
     "iopub.status.busy": "2024-04-18T22:59:38.850257Z",
     "iopub.status.idle": "2024-04-18T22:59:38.869895Z",
     "shell.execute_reply": "2024-04-18T22:59:38.868404Z"
    },
    "papermill": {
     "duration": 0.046064,
     "end_time": "2024-04-18T22:59:38.872913",
     "exception": false,
     "start_time": "2024-04-18T22:59:38.826849",
     "status": "completed"
    },
    "tags": []
   },
   "outputs": [],
   "source": [
    "df = df.drop(['ID','Customer_ID','Month','Name','SSN', 'Type_of_Loan', 'Changed_Credit_Limit', 'Monthly_Inhand_Salary'], axis = 1)"
   ]
  },
  {
   "cell_type": "code",
   "execution_count": 6,
   "id": "fb852092",
   "metadata": {
    "execution": {
     "iopub.execute_input": "2024-04-18T22:59:38.921120Z",
     "iopub.status.busy": "2024-04-18T22:59:38.920707Z",
     "iopub.status.idle": "2024-04-18T22:59:38.942692Z",
     "shell.execute_reply": "2024-04-18T22:59:38.941362Z"
    },
    "papermill": {
     "duration": 0.049374,
     "end_time": "2024-04-18T22:59:38.945215",
     "exception": false,
     "start_time": "2024-04-18T22:59:38.895841",
     "status": "completed"
    },
    "tags": []
   },
   "outputs": [
    {
     "data": {
      "text/html": [
       "<div>\n",
       "<style scoped>\n",
       "    .dataframe tbody tr th:only-of-type {\n",
       "        vertical-align: middle;\n",
       "    }\n",
       "\n",
       "    .dataframe tbody tr th {\n",
       "        vertical-align: top;\n",
       "    }\n",
       "\n",
       "    .dataframe thead th {\n",
       "        text-align: right;\n",
       "    }\n",
       "</style>\n",
       "<table border=\"1\" class=\"dataframe\">\n",
       "  <thead>\n",
       "    <tr style=\"text-align: right;\">\n",
       "      <th></th>\n",
       "      <th>Age</th>\n",
       "      <th>Occupation</th>\n",
       "      <th>Annual_Income</th>\n",
       "      <th>Num_Bank_Accounts</th>\n",
       "      <th>Num_Credit_Card</th>\n",
       "      <th>Interest_Rate</th>\n",
       "      <th>Num_of_Loan</th>\n",
       "      <th>Delay_from_due_date</th>\n",
       "      <th>Num_of_Delayed_Payment</th>\n",
       "      <th>Num_Credit_Inquiries</th>\n",
       "      <th>Credit_Mix</th>\n",
       "      <th>Outstanding_Debt</th>\n",
       "      <th>Credit_Utilization_Ratio</th>\n",
       "      <th>Credit_History_Age</th>\n",
       "      <th>Payment_of_Min_Amount</th>\n",
       "      <th>Total_EMI_per_month</th>\n",
       "      <th>Amount_invested_monthly</th>\n",
       "      <th>Payment_Behaviour</th>\n",
       "      <th>Monthly_Balance</th>\n",
       "      <th>Credit_Score</th>\n",
       "    </tr>\n",
       "  </thead>\n",
       "  <tbody>\n",
       "    <tr>\n",
       "      <th>0</th>\n",
       "      <td>23</td>\n",
       "      <td>Scientist</td>\n",
       "      <td>19114.12</td>\n",
       "      <td>3</td>\n",
       "      <td>4</td>\n",
       "      <td>3</td>\n",
       "      <td>4</td>\n",
       "      <td>3</td>\n",
       "      <td>7</td>\n",
       "      <td>4.0</td>\n",
       "      <td>_</td>\n",
       "      <td>809.98</td>\n",
       "      <td>26.822620</td>\n",
       "      <td>22 Years and 1 Months</td>\n",
       "      <td>No</td>\n",
       "      <td>49.574949</td>\n",
       "      <td>80.41529543900253</td>\n",
       "      <td>High_spent_Small_value_payments</td>\n",
       "      <td>312.49408867943663</td>\n",
       "      <td>Good</td>\n",
       "    </tr>\n",
       "    <tr>\n",
       "      <th>1</th>\n",
       "      <td>23</td>\n",
       "      <td>Scientist</td>\n",
       "      <td>19114.12</td>\n",
       "      <td>3</td>\n",
       "      <td>4</td>\n",
       "      <td>3</td>\n",
       "      <td>4</td>\n",
       "      <td>-1</td>\n",
       "      <td>NaN</td>\n",
       "      <td>4.0</td>\n",
       "      <td>Good</td>\n",
       "      <td>809.98</td>\n",
       "      <td>31.944960</td>\n",
       "      <td>NaN</td>\n",
       "      <td>No</td>\n",
       "      <td>49.574949</td>\n",
       "      <td>118.28022162236736</td>\n",
       "      <td>Low_spent_Large_value_payments</td>\n",
       "      <td>284.62916249607184</td>\n",
       "      <td>Good</td>\n",
       "    </tr>\n",
       "    <tr>\n",
       "      <th>2</th>\n",
       "      <td>-500</td>\n",
       "      <td>Scientist</td>\n",
       "      <td>19114.12</td>\n",
       "      <td>3</td>\n",
       "      <td>4</td>\n",
       "      <td>3</td>\n",
       "      <td>4</td>\n",
       "      <td>3</td>\n",
       "      <td>7</td>\n",
       "      <td>4.0</td>\n",
       "      <td>Good</td>\n",
       "      <td>809.98</td>\n",
       "      <td>28.609352</td>\n",
       "      <td>22 Years and 3 Months</td>\n",
       "      <td>No</td>\n",
       "      <td>49.574949</td>\n",
       "      <td>81.699521264648</td>\n",
       "      <td>Low_spent_Medium_value_payments</td>\n",
       "      <td>331.2098628537912</td>\n",
       "      <td>Good</td>\n",
       "    </tr>\n",
       "    <tr>\n",
       "      <th>3</th>\n",
       "      <td>23</td>\n",
       "      <td>Scientist</td>\n",
       "      <td>19114.12</td>\n",
       "      <td>3</td>\n",
       "      <td>4</td>\n",
       "      <td>3</td>\n",
       "      <td>4</td>\n",
       "      <td>5</td>\n",
       "      <td>4</td>\n",
       "      <td>4.0</td>\n",
       "      <td>Good</td>\n",
       "      <td>809.98</td>\n",
       "      <td>31.377862</td>\n",
       "      <td>22 Years and 4 Months</td>\n",
       "      <td>No</td>\n",
       "      <td>49.574949</td>\n",
       "      <td>199.4580743910713</td>\n",
       "      <td>Low_spent_Small_value_payments</td>\n",
       "      <td>223.45130972736786</td>\n",
       "      <td>Good</td>\n",
       "    </tr>\n",
       "    <tr>\n",
       "      <th>4</th>\n",
       "      <td>23</td>\n",
       "      <td>Scientist</td>\n",
       "      <td>19114.12</td>\n",
       "      <td>3</td>\n",
       "      <td>4</td>\n",
       "      <td>3</td>\n",
       "      <td>4</td>\n",
       "      <td>6</td>\n",
       "      <td>NaN</td>\n",
       "      <td>4.0</td>\n",
       "      <td>Good</td>\n",
       "      <td>809.98</td>\n",
       "      <td>24.797347</td>\n",
       "      <td>22 Years and 5 Months</td>\n",
       "      <td>No</td>\n",
       "      <td>49.574949</td>\n",
       "      <td>41.420153086217326</td>\n",
       "      <td>High_spent_Medium_value_payments</td>\n",
       "      <td>341.48923103222177</td>\n",
       "      <td>Good</td>\n",
       "    </tr>\n",
       "  </tbody>\n",
       "</table>\n",
       "</div>"
      ],
      "text/plain": [
       "    Age Occupation Annual_Income  Num_Bank_Accounts  Num_Credit_Card  \\\n",
       "0    23  Scientist      19114.12                  3                4   \n",
       "1    23  Scientist      19114.12                  3                4   \n",
       "2  -500  Scientist      19114.12                  3                4   \n",
       "3    23  Scientist      19114.12                  3                4   \n",
       "4    23  Scientist      19114.12                  3                4   \n",
       "\n",
       "   Interest_Rate Num_of_Loan  Delay_from_due_date Num_of_Delayed_Payment  \\\n",
       "0              3           4                    3                      7   \n",
       "1              3           4                   -1                    NaN   \n",
       "2              3           4                    3                      7   \n",
       "3              3           4                    5                      4   \n",
       "4              3           4                    6                    NaN   \n",
       "\n",
       "   Num_Credit_Inquiries Credit_Mix Outstanding_Debt  Credit_Utilization_Ratio  \\\n",
       "0                   4.0          _           809.98                 26.822620   \n",
       "1                   4.0       Good           809.98                 31.944960   \n",
       "2                   4.0       Good           809.98                 28.609352   \n",
       "3                   4.0       Good           809.98                 31.377862   \n",
       "4                   4.0       Good           809.98                 24.797347   \n",
       "\n",
       "      Credit_History_Age Payment_of_Min_Amount  Total_EMI_per_month  \\\n",
       "0  22 Years and 1 Months                    No            49.574949   \n",
       "1                    NaN                    No            49.574949   \n",
       "2  22 Years and 3 Months                    No            49.574949   \n",
       "3  22 Years and 4 Months                    No            49.574949   \n",
       "4  22 Years and 5 Months                    No            49.574949   \n",
       "\n",
       "  Amount_invested_monthly                 Payment_Behaviour  \\\n",
       "0       80.41529543900253   High_spent_Small_value_payments   \n",
       "1      118.28022162236736    Low_spent_Large_value_payments   \n",
       "2         81.699521264648   Low_spent_Medium_value_payments   \n",
       "3       199.4580743910713    Low_spent_Small_value_payments   \n",
       "4      41.420153086217326  High_spent_Medium_value_payments   \n",
       "\n",
       "      Monthly_Balance Credit_Score  \n",
       "0  312.49408867943663         Good  \n",
       "1  284.62916249607184         Good  \n",
       "2   331.2098628537912         Good  \n",
       "3  223.45130972736786         Good  \n",
       "4  341.48923103222177         Good  "
      ]
     },
     "execution_count": 6,
     "metadata": {},
     "output_type": "execute_result"
    }
   ],
   "source": [
    "df.head()"
   ]
  },
  {
   "cell_type": "code",
   "execution_count": 7,
   "id": "a62d9f46",
   "metadata": {
    "execution": {
     "iopub.execute_input": "2024-04-18T22:59:38.993088Z",
     "iopub.status.busy": "2024-04-18T22:59:38.992670Z",
     "iopub.status.idle": "2024-04-18T22:59:39.008637Z",
     "shell.execute_reply": "2024-04-18T22:59:39.007367Z"
    },
    "papermill": {
     "duration": 0.043382,
     "end_time": "2024-04-18T22:59:39.011018",
     "exception": false,
     "start_time": "2024-04-18T22:59:38.967636",
     "status": "completed"
    },
    "tags": []
   },
   "outputs": [],
   "source": [
    "target_map = {'Poor': 0, 'Standard': 1, 'Good': 2}\n",
    "df['Credit_Score'] = df['Credit_Score'].map(target_map)"
   ]
  },
  {
   "cell_type": "code",
   "execution_count": 8,
   "id": "46cb715d",
   "metadata": {
    "execution": {
     "iopub.execute_input": "2024-04-18T22:59:39.142339Z",
     "iopub.status.busy": "2024-04-18T22:59:39.141875Z",
     "iopub.status.idle": "2024-04-18T22:59:40.052233Z",
     "shell.execute_reply": "2024-04-18T22:59:40.051394Z"
    },
    "papermill": {
     "duration": 1.021846,
     "end_time": "2024-04-18T22:59:40.055524",
     "exception": false,
     "start_time": "2024-04-18T22:59:39.033678",
     "status": "completed"
    },
    "tags": []
   },
   "outputs": [
    {
     "data": {
      "text/html": [
       "<div>\n",
       "<style scoped>\n",
       "    .dataframe tbody tr th:only-of-type {\n",
       "        vertical-align: middle;\n",
       "    }\n",
       "\n",
       "    .dataframe tbody tr th {\n",
       "        vertical-align: top;\n",
       "    }\n",
       "\n",
       "    .dataframe thead th {\n",
       "        text-align: right;\n",
       "    }\n",
       "</style>\n",
       "<table border=\"1\" class=\"dataframe\">\n",
       "  <thead>\n",
       "    <tr style=\"text-align: right;\">\n",
       "      <th></th>\n",
       "      <th>Age</th>\n",
       "      <th>Occupation</th>\n",
       "      <th>Annual_Income</th>\n",
       "      <th>Num_Bank_Accounts</th>\n",
       "      <th>Num_Credit_Card</th>\n",
       "      <th>Interest_Rate</th>\n",
       "      <th>Num_of_Loan</th>\n",
       "      <th>Delay_from_due_date</th>\n",
       "      <th>Num_of_Delayed_Payment</th>\n",
       "      <th>Num_Credit_Inquiries</th>\n",
       "      <th>Credit_Mix</th>\n",
       "      <th>Outstanding_Debt</th>\n",
       "      <th>Credit_Utilization_Ratio</th>\n",
       "      <th>Credit_History_Age</th>\n",
       "      <th>Payment_of_Min_Amount</th>\n",
       "      <th>Total_EMI_per_month</th>\n",
       "      <th>Amount_invested_monthly</th>\n",
       "      <th>Payment_Behaviour</th>\n",
       "      <th>Monthly_Balance</th>\n",
       "      <th>Credit_Score</th>\n",
       "    </tr>\n",
       "  </thead>\n",
       "  <tbody>\n",
       "    <tr>\n",
       "      <th>0</th>\n",
       "      <td>23</td>\n",
       "      <td>Scientist</td>\n",
       "      <td>19114.12</td>\n",
       "      <td>3</td>\n",
       "      <td>4</td>\n",
       "      <td>3</td>\n",
       "      <td>4</td>\n",
       "      <td>3</td>\n",
       "      <td>7</td>\n",
       "      <td>4.0</td>\n",
       "      <td></td>\n",
       "      <td>809.98</td>\n",
       "      <td>26.822620</td>\n",
       "      <td>22 Years and 1 Months</td>\n",
       "      <td>No</td>\n",
       "      <td>49.574949</td>\n",
       "      <td>80.41529543900253</td>\n",
       "      <td>HighspentSmallvaluepayments</td>\n",
       "      <td>312.49408867943663</td>\n",
       "      <td>2</td>\n",
       "    </tr>\n",
       "    <tr>\n",
       "      <th>8</th>\n",
       "      <td>28</td>\n",
       "      <td></td>\n",
       "      <td>34847.84</td>\n",
       "      <td>2</td>\n",
       "      <td>4</td>\n",
       "      <td>6</td>\n",
       "      <td>1</td>\n",
       "      <td>3</td>\n",
       "      <td>4</td>\n",
       "      <td>2.0</td>\n",
       "      <td>Good</td>\n",
       "      <td>605.03</td>\n",
       "      <td>24.464031</td>\n",
       "      <td>26 Years and 7 Months</td>\n",
       "      <td>No</td>\n",
       "      <td>18.816215</td>\n",
       "      <td>104.291825168246</td>\n",
       "      <td>LowspentSmallvaluepayments</td>\n",
       "      <td>470.69062692529184</td>\n",
       "      <td>1</td>\n",
       "    </tr>\n",
       "    <tr>\n",
       "      <th>10</th>\n",
       "      <td>28</td>\n",
       "      <td>Teacher</td>\n",
       "      <td>34847.84</td>\n",
       "      <td>2</td>\n",
       "      <td>1385</td>\n",
       "      <td>6</td>\n",
       "      <td>1</td>\n",
       "      <td>3</td>\n",
       "      <td>-1</td>\n",
       "      <td>2.0</td>\n",
       "      <td></td>\n",
       "      <td>605.03</td>\n",
       "      <td>33.224951</td>\n",
       "      <td>26 Years and 9 Months</td>\n",
       "      <td>No</td>\n",
       "      <td>18.816215</td>\n",
       "      <td>58.51597569589465</td>\n",
       "      <td>HighspentLargevaluepayments</td>\n",
       "      <td>466.46647639764313</td>\n",
       "      <td>1</td>\n",
       "    </tr>\n",
       "    <tr>\n",
       "      <th>16</th>\n",
       "      <td>34</td>\n",
       "      <td></td>\n",
       "      <td>143162.64</td>\n",
       "      <td>1</td>\n",
       "      <td>5</td>\n",
       "      <td>8</td>\n",
       "      <td>3</td>\n",
       "      <td>5</td>\n",
       "      <td>8</td>\n",
       "      <td>3.0</td>\n",
       "      <td>Good</td>\n",
       "      <td>1303.01</td>\n",
       "      <td>28.616735</td>\n",
       "      <td>17 Years and 9 Months</td>\n",
       "      <td>No</td>\n",
       "      <td>246.992319</td>\n",
       "      <td>168.413702679309</td>\n",
       "      <td>!@9#%8</td>\n",
       "      <td>1043.3159778669492</td>\n",
       "      <td>2</td>\n",
       "    </tr>\n",
       "    <tr>\n",
       "      <th>18</th>\n",
       "      <td>34</td>\n",
       "      <td></td>\n",
       "      <td>143162.64</td>\n",
       "      <td>1</td>\n",
       "      <td>5</td>\n",
       "      <td>8</td>\n",
       "      <td>3</td>\n",
       "      <td>8</td>\n",
       "      <td>7</td>\n",
       "      <td>NaN</td>\n",
       "      <td>Good</td>\n",
       "      <td>1303.01</td>\n",
       "      <td>26.519815</td>\n",
       "      <td>17 Years and 11 Months</td>\n",
       "      <td>No</td>\n",
       "      <td>246.992319</td>\n",
       "      <td>10000</td>\n",
       "      <td>HighspentSmallvaluepayments</td>\n",
       "      <td>715.741367403555</td>\n",
       "      <td>2</td>\n",
       "    </tr>\n",
       "    <tr>\n",
       "      <th>...</th>\n",
       "      <td>...</td>\n",
       "      <td>...</td>\n",
       "      <td>...</td>\n",
       "      <td>...</td>\n",
       "      <td>...</td>\n",
       "      <td>...</td>\n",
       "      <td>...</td>\n",
       "      <td>...</td>\n",
       "      <td>...</td>\n",
       "      <td>...</td>\n",
       "      <td>...</td>\n",
       "      <td>...</td>\n",
       "      <td>...</td>\n",
       "      <td>...</td>\n",
       "      <td>...</td>\n",
       "      <td>...</td>\n",
       "      <td>...</td>\n",
       "      <td>...</td>\n",
       "      <td>...</td>\n",
       "      <td>...</td>\n",
       "    </tr>\n",
       "    <tr>\n",
       "      <th>99989</th>\n",
       "      <td>28</td>\n",
       "      <td></td>\n",
       "      <td>20002.88</td>\n",
       "      <td>10</td>\n",
       "      <td>8</td>\n",
       "      <td>29</td>\n",
       "      <td>5</td>\n",
       "      <td>33</td>\n",
       "      <td>25</td>\n",
       "      <td>9.0</td>\n",
       "      <td>Bad</td>\n",
       "      <td>3571.7</td>\n",
       "      <td>33.359987</td>\n",
       "      <td>6 Years and 1 Months</td>\n",
       "      <td>Yes</td>\n",
       "      <td>60.964772</td>\n",
       "      <td>74.36660309585342</td>\n",
       "      <td>!@9#%8</td>\n",
       "      <td>307.659291</td>\n",
       "      <td>1</td>\n",
       "    </tr>\n",
       "    <tr>\n",
       "      <th>99992</th>\n",
       "      <td>24</td>\n",
       "      <td>Mechanic</td>\n",
       "      <td>39628.99</td>\n",
       "      <td>4</td>\n",
       "      <td>6</td>\n",
       "      <td>7</td>\n",
       "      <td>2</td>\n",
       "      <td>23</td>\n",
       "      <td>NaN</td>\n",
       "      <td>3.0</td>\n",
       "      <td></td>\n",
       "      <td>502.38</td>\n",
       "      <td>32.991333</td>\n",
       "      <td>31 Years and 3 Months</td>\n",
       "      <td>No</td>\n",
       "      <td>35.104023</td>\n",
       "      <td>401.1964806036356</td>\n",
       "      <td>LowspentSmallvaluepayments</td>\n",
       "      <td>189.64108</td>\n",
       "      <td>0</td>\n",
       "    </tr>\n",
       "    <tr>\n",
       "      <th>99994</th>\n",
       "      <td>25</td>\n",
       "      <td>Mechanic</td>\n",
       "      <td>39628.99</td>\n",
       "      <td>4</td>\n",
       "      <td>6</td>\n",
       "      <td>7</td>\n",
       "      <td>2</td>\n",
       "      <td>20</td>\n",
       "      <td>6</td>\n",
       "      <td>3.0</td>\n",
       "      <td></td>\n",
       "      <td>502.38</td>\n",
       "      <td>39.323569</td>\n",
       "      <td>31 Years and 5 Months</td>\n",
       "      <td>No</td>\n",
       "      <td>35.104023</td>\n",
       "      <td>140.58140274528395</td>\n",
       "      <td>HighspentMediumvaluepayments</td>\n",
       "      <td>410.256158</td>\n",
       "      <td>0</td>\n",
       "    </tr>\n",
       "    <tr>\n",
       "      <th>99995</th>\n",
       "      <td>25</td>\n",
       "      <td>Mechanic</td>\n",
       "      <td>39628.99</td>\n",
       "      <td>4</td>\n",
       "      <td>6</td>\n",
       "      <td>7</td>\n",
       "      <td>2</td>\n",
       "      <td>23</td>\n",
       "      <td>7</td>\n",
       "      <td>3.0</td>\n",
       "      <td></td>\n",
       "      <td>502.38</td>\n",
       "      <td>34.663572</td>\n",
       "      <td>31 Years and 6 Months</td>\n",
       "      <td>No</td>\n",
       "      <td>35.104023</td>\n",
       "      <td>60.97133255718485</td>\n",
       "      <td>HighspentLargevaluepayments</td>\n",
       "      <td>479.866228</td>\n",
       "      <td>0</td>\n",
       "    </tr>\n",
       "    <tr>\n",
       "      <th>99996</th>\n",
       "      <td>25</td>\n",
       "      <td>Mechanic</td>\n",
       "      <td>39628.99</td>\n",
       "      <td>4</td>\n",
       "      <td>6</td>\n",
       "      <td>7</td>\n",
       "      <td>2</td>\n",
       "      <td>18</td>\n",
       "      <td>7</td>\n",
       "      <td>3.0</td>\n",
       "      <td></td>\n",
       "      <td>502.38</td>\n",
       "      <td>40.565631</td>\n",
       "      <td>31 Years and 7 Months</td>\n",
       "      <td>No</td>\n",
       "      <td>35.104023</td>\n",
       "      <td>54.18595028760385</td>\n",
       "      <td>HighspentMediumvaluepayments</td>\n",
       "      <td>496.65161</td>\n",
       "      <td>0</td>\n",
       "    </tr>\n",
       "  </tbody>\n",
       "</table>\n",
       "<p>25836 rows × 20 columns</p>\n",
       "</div>"
      ],
      "text/plain": [
       "      Age Occupation Annual_Income  Num_Bank_Accounts  Num_Credit_Card  \\\n",
       "0      23  Scientist      19114.12                  3                4   \n",
       "8      28                 34847.84                  2                4   \n",
       "10     28    Teacher      34847.84                  2             1385   \n",
       "16     34                143162.64                  1                5   \n",
       "18     34                143162.64                  1                5   \n",
       "...    ..        ...           ...                ...              ...   \n",
       "99989  28                 20002.88                 10                8   \n",
       "99992  24   Mechanic      39628.99                  4                6   \n",
       "99994  25   Mechanic      39628.99                  4                6   \n",
       "99995  25   Mechanic      39628.99                  4                6   \n",
       "99996  25   Mechanic      39628.99                  4                6   \n",
       "\n",
       "       Interest_Rate Num_of_Loan  Delay_from_due_date Num_of_Delayed_Payment  \\\n",
       "0                  3           4                    3                      7   \n",
       "8                  6           1                    3                      4   \n",
       "10                 6           1                    3                     -1   \n",
       "16                 8           3                    5                      8   \n",
       "18                 8           3                    8                      7   \n",
       "...              ...         ...                  ...                    ...   \n",
       "99989             29           5                   33                     25   \n",
       "99992              7           2                   23                    NaN   \n",
       "99994              7           2                   20                      6   \n",
       "99995              7           2                   23                      7   \n",
       "99996              7           2                   18                      7   \n",
       "\n",
       "       Num_Credit_Inquiries Credit_Mix Outstanding_Debt  \\\n",
       "0                       4.0                      809.98   \n",
       "8                       2.0       Good           605.03   \n",
       "10                      2.0                      605.03   \n",
       "16                      3.0       Good          1303.01   \n",
       "18                      NaN       Good          1303.01   \n",
       "...                     ...        ...              ...   \n",
       "99989                   9.0        Bad           3571.7   \n",
       "99992                   3.0                      502.38   \n",
       "99994                   3.0                      502.38   \n",
       "99995                   3.0                      502.38   \n",
       "99996                   3.0                      502.38   \n",
       "\n",
       "       Credit_Utilization_Ratio      Credit_History_Age Payment_of_Min_Amount  \\\n",
       "0                     26.822620   22 Years and 1 Months                    No   \n",
       "8                     24.464031   26 Years and 7 Months                    No   \n",
       "10                    33.224951   26 Years and 9 Months                    No   \n",
       "16                    28.616735   17 Years and 9 Months                    No   \n",
       "18                    26.519815  17 Years and 11 Months                    No   \n",
       "...                         ...                     ...                   ...   \n",
       "99989                 33.359987    6 Years and 1 Months                   Yes   \n",
       "99992                 32.991333   31 Years and 3 Months                    No   \n",
       "99994                 39.323569   31 Years and 5 Months                    No   \n",
       "99995                 34.663572   31 Years and 6 Months                    No   \n",
       "99996                 40.565631   31 Years and 7 Months                    No   \n",
       "\n",
       "       Total_EMI_per_month Amount_invested_monthly  \\\n",
       "0                49.574949       80.41529543900253   \n",
       "8                18.816215        104.291825168246   \n",
       "10               18.816215       58.51597569589465   \n",
       "16              246.992319        168.413702679309   \n",
       "18              246.992319                   10000   \n",
       "...                    ...                     ...   \n",
       "99989            60.964772       74.36660309585342   \n",
       "99992            35.104023       401.1964806036356   \n",
       "99994            35.104023      140.58140274528395   \n",
       "99995            35.104023       60.97133255718485   \n",
       "99996            35.104023       54.18595028760385   \n",
       "\n",
       "                  Payment_Behaviour     Monthly_Balance  Credit_Score  \n",
       "0       HighspentSmallvaluepayments  312.49408867943663             2  \n",
       "8        LowspentSmallvaluepayments  470.69062692529184             1  \n",
       "10      HighspentLargevaluepayments  466.46647639764313             1  \n",
       "16                           !@9#%8  1043.3159778669492             2  \n",
       "18      HighspentSmallvaluepayments    715.741367403555             2  \n",
       "...                             ...                 ...           ...  \n",
       "99989                        !@9#%8          307.659291             1  \n",
       "99992    LowspentSmallvaluepayments           189.64108             0  \n",
       "99994  HighspentMediumvaluepayments          410.256158             0  \n",
       "99995   HighspentLargevaluepayments          479.866228             0  \n",
       "99996  HighspentMediumvaluepayments           496.65161             0  \n",
       "\n",
       "[25836 rows x 20 columns]"
      ]
     },
     "execution_count": 8,
     "metadata": {},
     "output_type": "execute_result"
    }
   ],
   "source": [
    "df = df.replace(\"_\", \"\", regex=True)\n",
    "df[df.eq('').any(axis=1)]"
   ]
  },
  {
   "cell_type": "code",
   "execution_count": 9,
   "id": "191ee2db",
   "metadata": {
    "execution": {
     "iopub.execute_input": "2024-04-18T22:59:40.109370Z",
     "iopub.status.busy": "2024-04-18T22:59:40.108972Z",
     "iopub.status.idle": "2024-04-18T22:59:40.298108Z",
     "shell.execute_reply": "2024-04-18T22:59:40.297030Z"
    },
    "papermill": {
     "duration": 0.216592,
     "end_time": "2024-04-18T22:59:40.301015",
     "exception": false,
     "start_time": "2024-04-18T22:59:40.084423",
     "status": "completed"
    },
    "tags": []
   },
   "outputs": [],
   "source": [
    "rows_with_empty_values = df[df.eq('').any(axis=1)]\n",
    "\n",
    "# Vamos preencher os valores faltantes com NaN\n",
    "df.loc[rows_with_empty_values.index] = df.loc[rows_with_empty_values.index].replace('', np.nan)"
   ]
  },
  {
   "cell_type": "code",
   "execution_count": 10,
   "id": "a53f7f32",
   "metadata": {
    "execution": {
     "iopub.execute_input": "2024-04-18T22:59:40.351441Z",
     "iopub.status.busy": "2024-04-18T22:59:40.350216Z",
     "iopub.status.idle": "2024-04-18T22:59:40.418279Z",
     "shell.execute_reply": "2024-04-18T22:59:40.417057Z"
    },
    "papermill": {
     "duration": 0.096296,
     "end_time": "2024-04-18T22:59:40.421226",
     "exception": false,
     "start_time": "2024-04-18T22:59:40.324930",
     "status": "completed"
    },
    "tags": []
   },
   "outputs": [
    {
     "data": {
      "text/plain": [
       "Age                             0\n",
       "Occupation                   7062\n",
       "Annual_Income                   0\n",
       "Num_Bank_Accounts               0\n",
       "Num_Credit_Card                 0\n",
       "Interest_Rate                   0\n",
       "Num_of_Loan                     0\n",
       "Delay_from_due_date             0\n",
       "Num_of_Delayed_Payment       7002\n",
       "Num_Credit_Inquiries         1965\n",
       "Credit_Mix                  20195\n",
       "Outstanding_Debt                0\n",
       "Credit_Utilization_Ratio        0\n",
       "Credit_History_Age           9030\n",
       "Payment_of_Min_Amount           0\n",
       "Total_EMI_per_month             0\n",
       "Amount_invested_monthly      4479\n",
       "Payment_Behaviour               0\n",
       "Monthly_Balance              1200\n",
       "Credit_Score                    0\n",
       "dtype: int64"
      ]
     },
     "execution_count": 10,
     "metadata": {},
     "output_type": "execute_result"
    }
   ],
   "source": [
    "df.isna().sum()"
   ]
  },
  {
   "cell_type": "markdown",
   "id": "131f124f",
   "metadata": {
    "papermill": {
     "duration": 0.024637,
     "end_time": "2024-04-18T22:59:40.475296",
     "exception": false,
     "start_time": "2024-04-18T22:59:40.450659",
     "status": "completed"
    },
    "tags": []
   },
   "source": [
    "## Temos muitos dados faltantes e errados para tratar."
   ]
  },
  {
   "cell_type": "markdown",
   "id": "c9d3cf22",
   "metadata": {
    "papermill": {
     "duration": 0.023042,
     "end_time": "2024-04-18T22:59:40.524767",
     "exception": false,
     "start_time": "2024-04-18T22:59:40.501725",
     "status": "completed"
    },
    "tags": []
   },
   "source": [
    "### Age:"
   ]
  },
  {
   "cell_type": "code",
   "execution_count": 11,
   "id": "a88b3826",
   "metadata": {
    "execution": {
     "iopub.execute_input": "2024-04-18T22:59:40.573735Z",
     "iopub.status.busy": "2024-04-18T22:59:40.573331Z",
     "iopub.status.idle": "2024-04-18T22:59:40.631577Z",
     "shell.execute_reply": "2024-04-18T22:59:40.630373Z"
    },
    "papermill": {
     "duration": 0.08607,
     "end_time": "2024-04-18T22:59:40.634129",
     "exception": false,
     "start_time": "2024-04-18T22:59:40.548059",
     "status": "completed"
    },
    "tags": []
   },
   "outputs": [
    {
     "data": {
      "text/plain": [
       "dtype('int64')"
      ]
     },
     "execution_count": 11,
     "metadata": {},
     "output_type": "execute_result"
    }
   ],
   "source": [
    "df['Age'] = pd.to_numeric(df['Age'])\n",
    "df['Age'].dtype"
   ]
  },
  {
   "cell_type": "code",
   "execution_count": 12,
   "id": "a33eb976",
   "metadata": {
    "execution": {
     "iopub.execute_input": "2024-04-18T22:59:40.681956Z",
     "iopub.status.busy": "2024-04-18T22:59:40.681472Z",
     "iopub.status.idle": "2024-04-18T22:59:40.913261Z",
     "shell.execute_reply": "2024-04-18T22:59:40.910683Z"
    },
    "papermill": {
     "duration": 0.258739,
     "end_time": "2024-04-18T22:59:40.915915",
     "exception": false,
     "start_time": "2024-04-18T22:59:40.657176",
     "status": "completed"
    },
    "tags": []
   },
   "outputs": [
    {
     "data": {
      "text/plain": [
       "<Axes: xlabel='Age'>"
      ]
     },
     "execution_count": 12,
     "metadata": {},
     "output_type": "execute_result"
    },
    {
     "data": {
      "image/png": "[encoded data removed]",
      "text/plain": [
       "<Figure size 640x480 with 1 Axes>"
      ]
     },
     "metadata": {},
     "output_type": "display_data"
    }
   ],
   "source": [
    "sns.boxplot(df,x = 'Age')"
   ]
  },
  {
   "cell_type": "code",
   "execution_count": 13,
   "id": "ba3b7807",
   "metadata": {
    "execution": {
     "iopub.execute_input": "2024-04-18T22:59:40.966313Z",
     "iopub.status.busy": "2024-04-18T22:59:40.965885Z",
     "iopub.status.idle": "2024-04-18T22:59:40.981180Z",
     "shell.execute_reply": "2024-04-18T22:59:40.980190Z"
    },
    "papermill": {
     "duration": 0.043302,
     "end_time": "2024-04-18T22:59:40.983319",
     "exception": false,
     "start_time": "2024-04-18T22:59:40.940017",
     "status": "completed"
    },
    "tags": []
   },
   "outputs": [
    {
     "data": {
      "text/plain": [
       "array([-500])"
      ]
     },
     "execution_count": 13,
     "metadata": {},
     "output_type": "execute_result"
    }
   ],
   "source": [
    "df[df['Age']<0]['Age'].unique()"
   ]
  },
  {
   "cell_type": "code",
   "execution_count": 14,
   "id": "dd36dbdc",
   "metadata": {
    "execution": {
     "iopub.execute_input": "2024-04-18T22:59:41.037442Z",
     "iopub.status.busy": "2024-04-18T22:59:41.036735Z",
     "iopub.status.idle": "2024-04-18T22:59:41.048338Z",
     "shell.execute_reply": "2024-04-18T22:59:41.047309Z"
    },
    "papermill": {
     "duration": 0.041671,
     "end_time": "2024-04-18T22:59:41.050654",
     "exception": false,
     "start_time": "2024-04-18T22:59:41.008983",
     "status": "completed"
    },
    "tags": []
   },
   "outputs": [
    {
     "data": {
      "text/plain": [
       "array([7580,  181,  995, ..., 4808, 2263, 1342])"
      ]
     },
     "execution_count": 14,
     "metadata": {},
     "output_type": "execute_result"
    }
   ],
   "source": [
    "df[df['Age']>100]['Age'].unique()"
   ]
  },
  {
   "cell_type": "code",
   "execution_count": 15,
   "id": "36c5e218",
   "metadata": {
    "execution": {
     "iopub.execute_input": "2024-04-18T22:59:41.100990Z",
     "iopub.status.busy": "2024-04-18T22:59:41.100315Z",
     "iopub.status.idle": "2024-04-18T22:59:41.175216Z",
     "shell.execute_reply": "2024-04-18T22:59:41.174335Z"
    },
    "papermill": {
     "duration": 0.102059,
     "end_time": "2024-04-18T22:59:41.177398",
     "exception": false,
     "start_time": "2024-04-18T22:59:41.075339",
     "status": "completed"
    },
    "tags": []
   },
   "outputs": [
    {
     "data": {
      "text/plain": [
       "(97224, 20)"
      ]
     },
     "execution_count": 15,
     "metadata": {},
     "output_type": "execute_result"
    }
   ],
   "source": [
    "df.drop(df[df['Age'] > 100].index, inplace = True)\n",
    "df.drop(df[df['Age'] < 0].index, inplace = True)\n",
    "df.shape"
   ]
  },
  {
   "cell_type": "code",
   "execution_count": 16,
   "id": "51eb9804",
   "metadata": {
    "execution": {
     "iopub.execute_input": "2024-04-18T22:59:41.226437Z",
     "iopub.status.busy": "2024-04-18T22:59:41.225728Z",
     "iopub.status.idle": "2024-04-18T22:59:41.414472Z",
     "shell.execute_reply": "2024-04-18T22:59:41.413235Z"
    },
    "papermill": {
     "duration": 0.216152,
     "end_time": "2024-04-18T22:59:41.416962",
     "exception": false,
     "start_time": "2024-04-18T22:59:41.200810",
     "status": "completed"
    },
    "tags": []
   },
   "outputs": [
    {
     "data": {
      "text/plain": [
       "<Axes: xlabel='Age'>"
      ]
     },
     "execution_count": 16,
     "metadata": {},
     "output_type": "execute_result"
    },
    {
     "data": {
      "image/png": "[encoded data removed]",
      "text/plain": [
       "<Figure size 640x480 with 1 Axes>"
      ]
     },
     "metadata": {},
     "output_type": "display_data"
    }
   ],
   "source": [
    "sns.boxplot(df,x = 'Age')"
   ]
  },
  {
   "cell_type": "markdown",
   "id": "72f152b4",
   "metadata": {
    "papermill": {
     "duration": 0.024488,
     "end_time": "2024-04-18T22:59:41.465739",
     "exception": false,
     "start_time": "2024-04-18T22:59:41.441251",
     "status": "completed"
    },
    "tags": []
   },
   "source": [
    "### Occupation"
   ]
  },
  {
   "cell_type": "code",
   "execution_count": 17,
   "id": "e5e8a2ec",
   "metadata": {
    "execution": {
     "iopub.execute_input": "2024-04-18T22:59:41.516928Z",
     "iopub.status.busy": "2024-04-18T22:59:41.516185Z",
     "iopub.status.idle": "2024-04-18T22:59:41.527738Z",
     "shell.execute_reply": "2024-04-18T22:59:41.526874Z"
    },
    "papermill": {
     "duration": 0.039876,
     "end_time": "2024-04-18T22:59:41.529746",
     "exception": false,
     "start_time": "2024-04-18T22:59:41.489870",
     "status": "completed"
    },
    "tags": []
   },
   "outputs": [
    {
     "data": {
      "text/plain": [
       "6873"
      ]
     },
     "execution_count": 17,
     "metadata": {},
     "output_type": "execute_result"
    }
   ],
   "source": [
    "df.Occupation.isna().sum()"
   ]
  },
  {
   "cell_type": "code",
   "execution_count": 18,
   "id": "f8fbd17e",
   "metadata": {
    "execution": {
     "iopub.execute_input": "2024-04-18T22:59:41.580523Z",
     "iopub.status.busy": "2024-04-18T22:59:41.580057Z",
     "iopub.status.idle": "2024-04-18T22:59:41.595736Z",
     "shell.execute_reply": "2024-04-18T22:59:41.594662Z"
    },
    "papermill": {
     "duration": 0.044628,
     "end_time": "2024-04-18T22:59:41.598026",
     "exception": false,
     "start_time": "2024-04-18T22:59:41.553398",
     "status": "completed"
    },
    "tags": []
   },
   "outputs": [
    {
     "data": {
      "text/plain": [
       "8        NaN\n",
       "16       NaN\n",
       "18       NaN\n",
       "20       NaN\n",
       "29       NaN\n",
       "        ... \n",
       "99912    NaN\n",
       "99920    NaN\n",
       "99935    NaN\n",
       "99943    NaN\n",
       "99989    NaN\n",
       "Name: Occupation, Length: 6873, dtype: object"
      ]
     },
     "execution_count": 18,
     "metadata": {},
     "output_type": "execute_result"
    }
   ],
   "source": [
    "df.loc[pd.isna(df['Occupation']),'Occupation']"
   ]
  },
  {
   "cell_type": "code",
   "execution_count": 19,
   "id": "87eaa69b",
   "metadata": {
    "execution": {
     "iopub.execute_input": "2024-04-18T22:59:41.649358Z",
     "iopub.status.busy": "2024-04-18T22:59:41.648963Z",
     "iopub.status.idle": "2024-04-18T22:59:41.660948Z",
     "shell.execute_reply": "2024-04-18T22:59:41.659972Z"
    },
    "papermill": {
     "duration": 0.039753,
     "end_time": "2024-04-18T22:59:41.663150",
     "exception": false,
     "start_time": "2024-04-18T22:59:41.623397",
     "status": "completed"
    },
    "tags": []
   },
   "outputs": [],
   "source": [
    "df.loc[pd.isna(df['Occupation']),'Occupation'] = 'Other'"
   ]
  },
  {
   "cell_type": "code",
   "execution_count": 20,
   "id": "c6886afd",
   "metadata": {
    "execution": {
     "iopub.execute_input": "2024-04-18T22:59:41.713829Z",
     "iopub.status.busy": "2024-04-18T22:59:41.712802Z",
     "iopub.status.idle": "2024-04-18T22:59:41.725640Z",
     "shell.execute_reply": "2024-04-18T22:59:41.724545Z"
    },
    "papermill": {
     "duration": 0.040252,
     "end_time": "2024-04-18T22:59:41.727659",
     "exception": false,
     "start_time": "2024-04-18T22:59:41.687407",
     "status": "completed"
    },
    "tags": []
   },
   "outputs": [
    {
     "data": {
      "text/plain": [
       "0"
      ]
     },
     "execution_count": 20,
     "metadata": {},
     "output_type": "execute_result"
    }
   ],
   "source": [
    "df['Occupation'].isna().sum()"
   ]
  },
  {
   "cell_type": "code",
   "execution_count": 21,
   "id": "91592c40",
   "metadata": {
    "execution": {
     "iopub.execute_input": "2024-04-18T22:59:41.778585Z",
     "iopub.status.busy": "2024-04-18T22:59:41.777625Z",
     "iopub.status.idle": "2024-04-18T22:59:42.360480Z",
     "shell.execute_reply": "2024-04-18T22:59:42.359661Z"
    },
    "papermill": {
     "duration": 0.610414,
     "end_time": "2024-04-18T22:59:42.362431",
     "exception": false,
     "start_time": "2024-04-18T22:59:41.752017",
     "status": "completed"
    },
    "tags": []
   },
   "outputs": [
    {
     "data": {
      "text/plain": [
       "(array([ 0,  1,  2,  3,  4,  5,  6,  7,  8,  9, 10, 11, 12, 13, 14, 15]),\n",
       " [Text(0, 0, 'Scientist'),\n",
       "  Text(1, 0, 'Other'),\n",
       "  Text(2, 0, 'Teacher'),\n",
       "  Text(3, 0, 'Engineer'),\n",
       "  Text(4, 0, 'Entrepreneur'),\n",
       "  Text(5, 0, 'Developer'),\n",
       "  Text(6, 0, 'Lawyer'),\n",
       "  Text(7, 0, 'MediaManager'),\n",
       "  Text(8, 0, 'Doctor'),\n",
       "  Text(9, 0, 'Journalist'),\n",
       "  Text(10, 0, 'Manager'),\n",
       "  Text(11, 0, 'Accountant'),\n",
       "  Text(12, 0, 'Musician'),\n",
       "  Text(13, 0, 'Mechanic'),\n",
       "  Text(14, 0, 'Writer'),\n",
       "  Text(15, 0, 'Architect')])"
      ]
     },
     "execution_count": 21,
     "metadata": {},
     "output_type": "execute_result"
    },
    {
     "data": {
      "image/png": "[encoded data removed]",
      "text/plain": [
       "<Figure size 640x480 with 1 Axes>"
      ]
     },
     "metadata": {},
     "output_type": "display_data"
    }
   ],
   "source": [
    "plt.figure()\n",
    "sns.countplot(data = df, x = 'Occupation', hue = 'Credit_Score')\n",
    "plt.xticks(rotation=90)"
   ]
  },
  {
   "cell_type": "markdown",
   "id": "d3b3ece8",
   "metadata": {
    "papermill": {
     "duration": 0.024706,
     "end_time": "2024-04-18T22:59:42.412131",
     "exception": false,
     "start_time": "2024-04-18T22:59:42.387425",
     "status": "completed"
    },
    "tags": []
   },
   "source": [
    "A profissão não parece ter muito a ver com o credit score."
   ]
  },
  {
   "cell_type": "markdown",
   "id": "d67d5de6",
   "metadata": {
    "papermill": {
     "duration": 0.024661,
     "end_time": "2024-04-18T22:59:42.463621",
     "exception": false,
     "start_time": "2024-04-18T22:59:42.438960",
     "status": "completed"
    },
    "tags": []
   },
   "source": [
    "### Num Bank Accounts"
   ]
  },
  {
   "cell_type": "code",
   "execution_count": 22,
   "id": "810f0e5f",
   "metadata": {
    "execution": {
     "iopub.execute_input": "2024-04-18T22:59:42.516340Z",
     "iopub.status.busy": "2024-04-18T22:59:42.515695Z",
     "iopub.status.idle": "2024-04-18T22:59:42.524058Z",
     "shell.execute_reply": "2024-04-18T22:59:42.522950Z"
    },
    "papermill": {
     "duration": 0.037432,
     "end_time": "2024-04-18T22:59:42.526130",
     "exception": false,
     "start_time": "2024-04-18T22:59:42.488698",
     "status": "completed"
    },
    "tags": []
   },
   "outputs": [
    {
     "data": {
      "text/plain": [
       "21"
      ]
     },
     "execution_count": 22,
     "metadata": {},
     "output_type": "execute_result"
    }
   ],
   "source": [
    "df[df['Num_Bank_Accounts']<0]['Num_Bank_Accounts'].count()"
   ]
  },
  {
   "cell_type": "code",
   "execution_count": 23,
   "id": "ec2192cf",
   "metadata": {
    "execution": {
     "iopub.execute_input": "2024-04-18T22:59:42.579664Z",
     "iopub.status.busy": "2024-04-18T22:59:42.578543Z",
     "iopub.status.idle": "2024-04-18T22:59:42.611411Z",
     "shell.execute_reply": "2024-04-18T22:59:42.610514Z"
    },
    "papermill": {
     "duration": 0.062721,
     "end_time": "2024-04-18T22:59:42.614697",
     "exception": false,
     "start_time": "2024-04-18T22:59:42.551976",
     "status": "completed"
    },
    "tags": []
   },
   "outputs": [],
   "source": [
    "df.drop(df[df['Num_Bank_Accounts']<0].index, inplace=True)"
   ]
  },
  {
   "cell_type": "markdown",
   "id": "da9a0549",
   "metadata": {
    "papermill": {
     "duration": 0.025244,
     "end_time": "2024-04-18T22:59:42.665402",
     "exception": false,
     "start_time": "2024-04-18T22:59:42.640158",
     "status": "completed"
    },
    "tags": []
   },
   "source": [
    "### Num_of_Loan"
   ]
  },
  {
   "cell_type": "code",
   "execution_count": 24,
   "id": "b2c5f426",
   "metadata": {
    "execution": {
     "iopub.execute_input": "2024-04-18T22:59:42.719003Z",
     "iopub.status.busy": "2024-04-18T22:59:42.717857Z",
     "iopub.status.idle": "2024-04-18T22:59:42.726367Z",
     "shell.execute_reply": "2024-04-18T22:59:42.725356Z"
    },
    "papermill": {
     "duration": 0.037132,
     "end_time": "2024-04-18T22:59:42.728492",
     "exception": false,
     "start_time": "2024-04-18T22:59:42.691360",
     "status": "completed"
    },
    "tags": []
   },
   "outputs": [
    {
     "data": {
      "text/plain": [
       "Age                           int64\n",
       "Occupation                   object\n",
       "Annual_Income                object\n",
       "Num_Bank_Accounts             int64\n",
       "Num_Credit_Card               int64\n",
       "Interest_Rate                 int64\n",
       "Num_of_Loan                  object\n",
       "Delay_from_due_date           int64\n",
       "Num_of_Delayed_Payment       object\n",
       "Num_Credit_Inquiries        float64\n",
       "Credit_Mix                   object\n",
       "Outstanding_Debt             object\n",
       "Credit_Utilization_Ratio    float64\n",
       "Credit_History_Age           object\n",
       "Payment_of_Min_Amount        object\n",
       "Total_EMI_per_month         float64\n",
       "Amount_invested_monthly      object\n",
       "Payment_Behaviour            object\n",
       "Monthly_Balance              object\n",
       "Credit_Score                  int64\n",
       "dtype: object"
      ]
     },
     "execution_count": 24,
     "metadata": {},
     "output_type": "execute_result"
    }
   ],
   "source": [
    "df.dtypes"
   ]
  },
  {
   "cell_type": "code",
   "execution_count": 25,
   "id": "967af97c",
   "metadata": {
    "execution": {
     "iopub.execute_input": "2024-04-18T22:59:42.780943Z",
     "iopub.status.busy": "2024-04-18T22:59:42.780090Z",
     "iopub.status.idle": "2024-04-18T22:59:42.831127Z",
     "shell.execute_reply": "2024-04-18T22:59:42.830077Z"
    },
    "papermill": {
     "duration": 0.079637,
     "end_time": "2024-04-18T22:59:42.833504",
     "exception": false,
     "start_time": "2024-04-18T22:59:42.753867",
     "status": "completed"
    },
    "tags": []
   },
   "outputs": [],
   "source": [
    "df['Num_of_Loan'] = pd.to_numeric(df['Num_of_Loan'])"
   ]
  },
  {
   "cell_type": "code",
   "execution_count": 26,
   "id": "49e857a9",
   "metadata": {
    "execution": {
     "iopub.execute_input": "2024-04-18T22:59:42.885012Z",
     "iopub.status.busy": "2024-04-18T22:59:42.884636Z",
     "iopub.status.idle": "2024-04-18T22:59:42.896950Z",
     "shell.execute_reply": "2024-04-18T22:59:42.895908Z"
    },
    "papermill": {
     "duration": 0.04059,
     "end_time": "2024-04-18T22:59:42.899034",
     "exception": false,
     "start_time": "2024-04-18T22:59:42.858444",
     "status": "completed"
    },
    "tags": []
   },
   "outputs": [
    {
     "data": {
      "text/plain": [
       "array([-100])"
      ]
     },
     "execution_count": 26,
     "metadata": {},
     "output_type": "execute_result"
    }
   ],
   "source": [
    "df[df['Num_of_Loan']<0]['Num_of_Loan'].unique()"
   ]
  },
  {
   "cell_type": "code",
   "execution_count": 27,
   "id": "5e5de1d6",
   "metadata": {
    "execution": {
     "iopub.execute_input": "2024-04-18T22:59:42.951157Z",
     "iopub.status.busy": "2024-04-18T22:59:42.950558Z",
     "iopub.status.idle": "2024-04-18T22:59:42.983357Z",
     "shell.execute_reply": "2024-04-18T22:59:42.982446Z"
    },
    "papermill": {
     "duration": 0.061591,
     "end_time": "2024-04-18T22:59:42.985715",
     "exception": false,
     "start_time": "2024-04-18T22:59:42.924124",
     "status": "completed"
    },
    "tags": []
   },
   "outputs": [],
   "source": [
    "df.drop(df[df['Num_of_Loan']<0].index, inplace=True)"
   ]
  },
  {
   "cell_type": "markdown",
   "id": "5ca7c524",
   "metadata": {
    "papermill": {
     "duration": 0.024997,
     "end_time": "2024-04-18T22:59:43.035881",
     "exception": false,
     "start_time": "2024-04-18T22:59:43.010884",
     "status": "completed"
    },
    "tags": []
   },
   "source": [
    "### Delay_from_due_date "
   ]
  },
  {
   "cell_type": "code",
   "execution_count": 28,
   "id": "6a123bea",
   "metadata": {
    "execution": {
     "iopub.execute_input": "2024-04-18T22:59:43.087873Z",
     "iopub.status.busy": "2024-04-18T22:59:43.087203Z",
     "iopub.status.idle": "2024-04-18T22:59:43.096015Z",
     "shell.execute_reply": "2024-04-18T22:59:43.095079Z"
    },
    "papermill": {
     "duration": 0.036981,
     "end_time": "2024-04-18T22:59:43.097961",
     "exception": false,
     "start_time": "2024-04-18T22:59:43.060980",
     "status": "completed"
    },
    "tags": []
   },
   "outputs": [
    {
     "data": {
      "text/plain": [
       "array([-1, -2, -3, -5, -4])"
      ]
     },
     "execution_count": 28,
     "metadata": {},
     "output_type": "execute_result"
    }
   ],
   "source": [
    "df[df['Delay_from_due_date']<0]['Delay_from_due_date'].unique()"
   ]
  },
  {
   "cell_type": "code",
   "execution_count": 29,
   "id": "2bc092ae",
   "metadata": {
    "execution": {
     "iopub.execute_input": "2024-04-18T22:59:43.150362Z",
     "iopub.status.busy": "2024-04-18T22:59:43.149692Z",
     "iopub.status.idle": "2024-04-18T22:59:43.179563Z",
     "shell.execute_reply": "2024-04-18T22:59:43.178698Z"
    },
    "papermill": {
     "duration": 0.058662,
     "end_time": "2024-04-18T22:59:43.182022",
     "exception": false,
     "start_time": "2024-04-18T22:59:43.123360",
     "status": "completed"
    },
    "tags": []
   },
   "outputs": [],
   "source": [
    "df.drop(df[df['Delay_from_due_date'] < 0].index, inplace=True)"
   ]
  },
  {
   "cell_type": "markdown",
   "id": "8ca8ec16",
   "metadata": {
    "papermill": {
     "duration": 0.024982,
     "end_time": "2024-04-18T22:59:43.232395",
     "exception": false,
     "start_time": "2024-04-18T22:59:43.207413",
     "status": "completed"
    },
    "tags": []
   },
   "source": [
    "### Num_of_Delayed_Payment"
   ]
  },
  {
   "cell_type": "code",
   "execution_count": 30,
   "id": "e6fd151d",
   "metadata": {
    "execution": {
     "iopub.execute_input": "2024-04-18T22:59:43.284633Z",
     "iopub.status.busy": "2024-04-18T22:59:43.284022Z",
     "iopub.status.idle": "2024-04-18T22:59:43.295446Z",
     "shell.execute_reply": "2024-04-18T22:59:43.294428Z"
    },
    "papermill": {
     "duration": 0.040254,
     "end_time": "2024-04-18T22:59:43.297529",
     "exception": false,
     "start_time": "2024-04-18T22:59:43.257275",
     "status": "completed"
    },
    "tags": []
   },
   "outputs": [
    {
     "data": {
      "text/plain": [
       "6490"
      ]
     },
     "execution_count": 30,
     "metadata": {},
     "output_type": "execute_result"
    }
   ],
   "source": [
    "df['Num_of_Delayed_Payment'].isna().sum()"
   ]
  },
  {
   "cell_type": "code",
   "execution_count": 31,
   "id": "9e701906",
   "metadata": {
    "execution": {
     "iopub.execute_input": "2024-04-18T22:59:43.350166Z",
     "iopub.status.busy": "2024-04-18T22:59:43.349818Z",
     "iopub.status.idle": "2024-04-18T22:59:43.404069Z",
     "shell.execute_reply": "2024-04-18T22:59:43.403050Z"
    },
    "papermill": {
     "duration": 0.083853,
     "end_time": "2024-04-18T22:59:43.406704",
     "exception": false,
     "start_time": "2024-04-18T22:59:43.322851",
     "status": "completed"
    },
    "tags": []
   },
   "outputs": [
    {
     "data": {
      "text/plain": [
       "array([-1., -3., -2.])"
      ]
     },
     "execution_count": 31,
     "metadata": {},
     "output_type": "execute_result"
    }
   ],
   "source": [
    "df['Num_of_Delayed_Payment'] = pd.to_numeric(df['Num_of_Delayed_Payment'])\n",
    "df[df['Num_of_Delayed_Payment'] < 0]['Num_of_Delayed_Payment'].unique()"
   ]
  },
  {
   "cell_type": "code",
   "execution_count": 32,
   "id": "0ce02c66",
   "metadata": {
    "execution": {
     "iopub.execute_input": "2024-04-18T22:59:43.459786Z",
     "iopub.status.busy": "2024-04-18T22:59:43.459408Z",
     "iopub.status.idle": "2024-04-18T22:59:43.489088Z",
     "shell.execute_reply": "2024-04-18T22:59:43.488097Z"
    },
    "papermill": {
     "duration": 0.059346,
     "end_time": "2024-04-18T22:59:43.491660",
     "exception": false,
     "start_time": "2024-04-18T22:59:43.432314",
     "status": "completed"
    },
    "tags": []
   },
   "outputs": [],
   "source": [
    "df.drop(df[df['Num_of_Delayed_Payment']<0].index, inplace=True)"
   ]
  },
  {
   "cell_type": "code",
   "execution_count": 33,
   "id": "298e7b78",
   "metadata": {
    "execution": {
     "iopub.execute_input": "2024-04-18T22:59:43.544429Z",
     "iopub.status.busy": "2024-04-18T22:59:43.543630Z",
     "iopub.status.idle": "2024-04-18T22:59:43.552457Z",
     "shell.execute_reply": "2024-04-18T22:59:43.551206Z"
    },
    "papermill": {
     "duration": 0.037393,
     "end_time": "2024-04-18T22:59:43.554510",
     "exception": false,
     "start_time": "2024-04-18T22:59:43.517117",
     "status": "completed"
    },
    "tags": []
   },
   "outputs": [
    {
     "name": "stderr",
     "output_type": "stream",
     "text": [
      "/tmp/ipykernel_18/542884467.py:1: FutureWarning: A value is trying to be set on a copy of a DataFrame or Series through chained assignment using an inplace method.\n",
      "The behavior will change in pandas 3.0. This inplace method will never work because the intermediate object on which we are setting values always behaves as a copy.\n",
      "\n",
      "For example, when doing 'df[col].method(value, inplace=True)', try using 'df.method({col: value}, inplace=True)' or df[col] = df[col].method(value) instead, to perform the operation inplace on the original object.\n",
      "\n",
      "\n",
      "  df['Num_of_Delayed_Payment'].fillna(method='ffill', inplace=True)\n",
      "/tmp/ipykernel_18/542884467.py:1: FutureWarning: Series.fillna with 'method' is deprecated and will raise in a future version. Use obj.ffill() or obj.bfill() instead.\n",
      "  df['Num_of_Delayed_Payment'].fillna(method='ffill', inplace=True)\n"
     ]
    }
   ],
   "source": [
    "df['Num_of_Delayed_Payment'].fillna(method='ffill', inplace=True)"
   ]
  },
  {
   "cell_type": "code",
   "execution_count": 34,
   "id": "b7bd3654",
   "metadata": {
    "execution": {
     "iopub.execute_input": "2024-04-18T22:59:43.607225Z",
     "iopub.status.busy": "2024-04-18T22:59:43.606842Z",
     "iopub.status.idle": "2024-04-18T22:59:43.612947Z",
     "shell.execute_reply": "2024-04-18T22:59:43.612066Z"
    },
    "papermill": {
     "duration": 0.034973,
     "end_time": "2024-04-18T22:59:43.615016",
     "exception": false,
     "start_time": "2024-04-18T22:59:43.580043",
     "status": "completed"
    },
    "tags": []
   },
   "outputs": [
    {
     "data": {
      "text/plain": [
       "(92294, 20)"
      ]
     },
     "execution_count": 34,
     "metadata": {},
     "output_type": "execute_result"
    }
   ],
   "source": [
    "df.shape"
   ]
  },
  {
   "cell_type": "markdown",
   "id": "22af899c",
   "metadata": {
    "papermill": {
     "duration": 0.027165,
     "end_time": "2024-04-18T22:59:43.671009",
     "exception": false,
     "start_time": "2024-04-18T22:59:43.643844",
     "status": "completed"
    },
    "tags": []
   },
   "source": [
    "### Num_Credit_Inquiries"
   ]
  },
  {
   "cell_type": "code",
   "execution_count": 35,
   "id": "68bf2212",
   "metadata": {
    "execution": {
     "iopub.execute_input": "2024-04-18T22:59:43.726729Z",
     "iopub.status.busy": "2024-04-18T22:59:43.726292Z",
     "iopub.status.idle": "2024-04-18T22:59:43.734057Z",
     "shell.execute_reply": "2024-04-18T22:59:43.733192Z"
    },
    "papermill": {
     "duration": 0.038084,
     "end_time": "2024-04-18T22:59:43.736292",
     "exception": false,
     "start_time": "2024-04-18T22:59:43.698208",
     "status": "completed"
    },
    "tags": []
   },
   "outputs": [
    {
     "data": {
      "text/plain": [
       "array([], dtype=float64)"
      ]
     },
     "execution_count": 35,
     "metadata": {},
     "output_type": "execute_result"
    }
   ],
   "source": [
    "df[df['Num_Credit_Inquiries']<0]['Num_Credit_Inquiries'].unique()"
   ]
  },
  {
   "cell_type": "code",
   "execution_count": 36,
   "id": "b203ed68",
   "metadata": {
    "execution": {
     "iopub.execute_input": "2024-04-18T22:59:43.792880Z",
     "iopub.status.busy": "2024-04-18T22:59:43.792483Z",
     "iopub.status.idle": "2024-04-18T22:59:43.799888Z",
     "shell.execute_reply": "2024-04-18T22:59:43.798768Z"
    },
    "papermill": {
     "duration": 0.037891,
     "end_time": "2024-04-18T22:59:43.802075",
     "exception": false,
     "start_time": "2024-04-18T22:59:43.764184",
     "status": "completed"
    },
    "tags": []
   },
   "outputs": [
    {
     "data": {
      "text/plain": [
       "1810"
      ]
     },
     "execution_count": 36,
     "metadata": {},
     "output_type": "execute_result"
    }
   ],
   "source": [
    "df['Num_Credit_Inquiries'].isna().sum()"
   ]
  },
  {
   "cell_type": "code",
   "execution_count": 37,
   "id": "025a4df6",
   "metadata": {
    "execution": {
     "iopub.execute_input": "2024-04-18T22:59:43.858772Z",
     "iopub.status.busy": "2024-04-18T22:59:43.858339Z",
     "iopub.status.idle": "2024-04-18T22:59:43.865215Z",
     "shell.execute_reply": "2024-04-18T22:59:43.863763Z"
    },
    "papermill": {
     "duration": 0.038245,
     "end_time": "2024-04-18T22:59:43.867707",
     "exception": false,
     "start_time": "2024-04-18T22:59:43.829462",
     "status": "completed"
    },
    "tags": []
   },
   "outputs": [
    {
     "name": "stderr",
     "output_type": "stream",
     "text": [
      "/tmp/ipykernel_18/2617674282.py:1: FutureWarning: A value is trying to be set on a copy of a DataFrame or Series through chained assignment using an inplace method.\n",
      "The behavior will change in pandas 3.0. This inplace method will never work because the intermediate object on which we are setting values always behaves as a copy.\n",
      "\n",
      "For example, when doing 'df[col].method(value, inplace=True)', try using 'df.method({col: value}, inplace=True)' or df[col] = df[col].method(value) instead, to perform the operation inplace on the original object.\n",
      "\n",
      "\n",
      "  df['Num_Credit_Inquiries'].fillna(method='ffill', inplace=True)\n",
      "/tmp/ipykernel_18/2617674282.py:1: FutureWarning: Series.fillna with 'method' is deprecated and will raise in a future version. Use obj.ffill() or obj.bfill() instead.\n",
      "  df['Num_Credit_Inquiries'].fillna(method='ffill', inplace=True)\n"
     ]
    }
   ],
   "source": [
    "df['Num_Credit_Inquiries'].fillna(method='ffill', inplace=True)"
   ]
  },
  {
   "cell_type": "markdown",
   "id": "20777d77",
   "metadata": {
    "papermill": {
     "duration": 0.026199,
     "end_time": "2024-04-18T22:59:43.920123",
     "exception": false,
     "start_time": "2024-04-18T22:59:43.893924",
     "status": "completed"
    },
    "tags": []
   },
   "source": [
    "### Credit_Mix"
   ]
  },
  {
   "cell_type": "code",
   "execution_count": 38,
   "id": "f7b67989",
   "metadata": {
    "execution": {
     "iopub.execute_input": "2024-04-18T22:59:43.974697Z",
     "iopub.status.busy": "2024-04-18T22:59:43.974296Z",
     "iopub.status.idle": "2024-04-18T22:59:43.985438Z",
     "shell.execute_reply": "2024-04-18T22:59:43.984453Z"
    },
    "papermill": {
     "duration": 0.041368,
     "end_time": "2024-04-18T22:59:43.987707",
     "exception": false,
     "start_time": "2024-04-18T22:59:43.946339",
     "status": "completed"
    },
    "tags": []
   },
   "outputs": [
    {
     "data": {
      "text/plain": [
       "18667"
      ]
     },
     "execution_count": 38,
     "metadata": {},
     "output_type": "execute_result"
    }
   ],
   "source": [
    "df['Credit_Mix'].isna().sum()"
   ]
  },
  {
   "cell_type": "code",
   "execution_count": 39,
   "id": "d6f37573",
   "metadata": {
    "execution": {
     "iopub.execute_input": "2024-04-18T22:59:44.043613Z",
     "iopub.status.busy": "2024-04-18T22:59:44.043176Z",
     "iopub.status.idle": "2024-04-18T22:59:44.056731Z",
     "shell.execute_reply": "2024-04-18T22:59:44.055057Z"
    },
    "papermill": {
     "duration": 0.044213,
     "end_time": "2024-04-18T22:59:44.058968",
     "exception": false,
     "start_time": "2024-04-18T22:59:44.014755",
     "status": "completed"
    },
    "tags": []
   },
   "outputs": [
    {
     "name": "stderr",
     "output_type": "stream",
     "text": [
      "/tmp/ipykernel_18/1885168426.py:1: FutureWarning: A value is trying to be set on a copy of a DataFrame or Series through chained assignment using an inplace method.\n",
      "The behavior will change in pandas 3.0. This inplace method will never work because the intermediate object on which we are setting values always behaves as a copy.\n",
      "\n",
      "For example, when doing 'df[col].method(value, inplace=True)', try using 'df.method({col: value}, inplace=True)' or df[col] = df[col].method(value) instead, to perform the operation inplace on the original object.\n",
      "\n",
      "\n",
      "  df['Credit_Mix'].fillna('Unknown', inplace = True)\n"
     ]
    }
   ],
   "source": [
    "df['Credit_Mix'].fillna('Unknown', inplace = True)"
   ]
  },
  {
   "cell_type": "code",
   "execution_count": 40,
   "id": "7dd24e87",
   "metadata": {
    "execution": {
     "iopub.execute_input": "2024-04-18T22:59:44.114643Z",
     "iopub.status.busy": "2024-04-18T22:59:44.114202Z",
     "iopub.status.idle": "2024-04-18T22:59:44.127129Z",
     "shell.execute_reply": "2024-04-18T22:59:44.125870Z"
    },
    "papermill": {
     "duration": 0.04342,
     "end_time": "2024-04-18T22:59:44.129330",
     "exception": false,
     "start_time": "2024-04-18T22:59:44.085910",
     "status": "completed"
    },
    "tags": []
   },
   "outputs": [
    {
     "data": {
      "text/plain": [
       "8356"
      ]
     },
     "execution_count": 40,
     "metadata": {},
     "output_type": "execute_result"
    }
   ],
   "source": [
    "df['Credit_History_Age'].isna().sum()"
   ]
  },
  {
   "cell_type": "code",
   "execution_count": 41,
   "id": "1f0a5687",
   "metadata": {
    "execution": {
     "iopub.execute_input": "2024-04-18T22:59:44.190861Z",
     "iopub.status.busy": "2024-04-18T22:59:44.190222Z",
     "iopub.status.idle": "2024-04-18T22:59:44.229332Z",
     "shell.execute_reply": "2024-04-18T22:59:44.228050Z"
    },
    "papermill": {
     "duration": 0.073245,
     "end_time": "2024-04-18T22:59:44.232151",
     "exception": false,
     "start_time": "2024-04-18T22:59:44.158906",
     "status": "completed"
    },
    "tags": []
   },
   "outputs": [],
   "source": [
    "mode_by_credit_mix = df.groupby('Credit_Mix')['Credit_History_Age'].transform(lambda x: x.mode()[0])"
   ]
  },
  {
   "cell_type": "code",
   "execution_count": 42,
   "id": "2387c1bb",
   "metadata": {
    "execution": {
     "iopub.execute_input": "2024-04-18T22:59:44.288811Z",
     "iopub.status.busy": "2024-04-18T22:59:44.288340Z",
     "iopub.status.idle": "2024-04-18T22:59:44.302076Z",
     "shell.execute_reply": "2024-04-18T22:59:44.300661Z"
    },
    "papermill": {
     "duration": 0.044963,
     "end_time": "2024-04-18T22:59:44.304382",
     "exception": false,
     "start_time": "2024-04-18T22:59:44.259419",
     "status": "completed"
    },
    "tags": []
   },
   "outputs": [
    {
     "name": "stderr",
     "output_type": "stream",
     "text": [
      "/tmp/ipykernel_18/1095117967.py:1: FutureWarning: A value is trying to be set on a copy of a DataFrame or Series through chained assignment using an inplace method.\n",
      "The behavior will change in pandas 3.0. This inplace method will never work because the intermediate object on which we are setting values always behaves as a copy.\n",
      "\n",
      "For example, when doing 'df[col].method(value, inplace=True)', try using 'df.method({col: value}, inplace=True)' or df[col] = df[col].method(value) instead, to perform the operation inplace on the original object.\n",
      "\n",
      "\n",
      "  df['Credit_History_Age'].fillna(mode_by_credit_mix, inplace=True)\n"
     ]
    }
   ],
   "source": [
    "df['Credit_History_Age'].fillna(mode_by_credit_mix, inplace=True)"
   ]
  },
  {
   "cell_type": "code",
   "execution_count": 43,
   "id": "0b22491a",
   "metadata": {
    "execution": {
     "iopub.execute_input": "2024-04-18T22:59:44.361948Z",
     "iopub.status.busy": "2024-04-18T22:59:44.360553Z",
     "iopub.status.idle": "2024-04-18T22:59:44.372647Z",
     "shell.execute_reply": "2024-04-18T22:59:44.371517Z"
    },
    "papermill": {
     "duration": 0.043306,
     "end_time": "2024-04-18T22:59:44.374835",
     "exception": false,
     "start_time": "2024-04-18T22:59:44.331529",
     "status": "completed"
    },
    "tags": []
   },
   "outputs": [
    {
     "data": {
      "text/plain": [
       "0"
      ]
     },
     "execution_count": 43,
     "metadata": {},
     "output_type": "execute_result"
    }
   ],
   "source": [
    "df['Credit_History_Age'].isna().sum()"
   ]
  },
  {
   "cell_type": "code",
   "execution_count": 44,
   "id": "60d2b57e",
   "metadata": {
    "execution": {
     "iopub.execute_input": "2024-04-18T22:59:44.430280Z",
     "iopub.status.busy": "2024-04-18T22:59:44.429836Z",
     "iopub.status.idle": "2024-04-18T22:59:45.093054Z",
     "shell.execute_reply": "2024-04-18T22:59:45.091900Z"
    },
    "papermill": {
     "duration": 0.694227,
     "end_time": "2024-04-18T22:59:45.095763",
     "exception": false,
     "start_time": "2024-04-18T22:59:44.401536",
     "status": "completed"
    },
    "tags": []
   },
   "outputs": [
    {
     "data": {
      "text/html": [
       "<div>\n",
       "<style scoped>\n",
       "    .dataframe tbody tr th:only-of-type {\n",
       "        vertical-align: middle;\n",
       "    }\n",
       "\n",
       "    .dataframe tbody tr th {\n",
       "        vertical-align: top;\n",
       "    }\n",
       "\n",
       "    .dataframe thead th {\n",
       "        text-align: right;\n",
       "    }\n",
       "</style>\n",
       "<table border=\"1\" class=\"dataframe\">\n",
       "  <thead>\n",
       "    <tr style=\"text-align: right;\">\n",
       "      <th></th>\n",
       "      <th>Age</th>\n",
       "      <th>Occupation</th>\n",
       "      <th>Annual_Income</th>\n",
       "      <th>Num_Bank_Accounts</th>\n",
       "      <th>Num_Credit_Card</th>\n",
       "      <th>Interest_Rate</th>\n",
       "      <th>Num_of_Loan</th>\n",
       "      <th>Delay_from_due_date</th>\n",
       "      <th>Num_of_Delayed_Payment</th>\n",
       "      <th>Num_Credit_Inquiries</th>\n",
       "      <th>...</th>\n",
       "      <th>Outstanding_Debt</th>\n",
       "      <th>Credit_Utilization_Ratio</th>\n",
       "      <th>Payment_of_Min_Amount</th>\n",
       "      <th>Total_EMI_per_month</th>\n",
       "      <th>Amount_invested_monthly</th>\n",
       "      <th>Payment_Behaviour</th>\n",
       "      <th>Monthly_Balance</th>\n",
       "      <th>Credit_Score</th>\n",
       "      <th>Credit_History_Years</th>\n",
       "      <th>Credit_History_Months</th>\n",
       "    </tr>\n",
       "  </thead>\n",
       "  <tbody>\n",
       "    <tr>\n",
       "      <th>0</th>\n",
       "      <td>23</td>\n",
       "      <td>Scientist</td>\n",
       "      <td>19114.12</td>\n",
       "      <td>3</td>\n",
       "      <td>4</td>\n",
       "      <td>3</td>\n",
       "      <td>4</td>\n",
       "      <td>3</td>\n",
       "      <td>7.0</td>\n",
       "      <td>4.0</td>\n",
       "      <td>...</td>\n",
       "      <td>809.98</td>\n",
       "      <td>26.822620</td>\n",
       "      <td>No</td>\n",
       "      <td>49.574949</td>\n",
       "      <td>80.41529543900253</td>\n",
       "      <td>HighspentSmallvaluepayments</td>\n",
       "      <td>312.49408867943663</td>\n",
       "      <td>2</td>\n",
       "      <td>22</td>\n",
       "      <td>1</td>\n",
       "    </tr>\n",
       "    <tr>\n",
       "      <th>3</th>\n",
       "      <td>23</td>\n",
       "      <td>Scientist</td>\n",
       "      <td>19114.12</td>\n",
       "      <td>3</td>\n",
       "      <td>4</td>\n",
       "      <td>3</td>\n",
       "      <td>4</td>\n",
       "      <td>5</td>\n",
       "      <td>4.0</td>\n",
       "      <td>4.0</td>\n",
       "      <td>...</td>\n",
       "      <td>809.98</td>\n",
       "      <td>31.377862</td>\n",
       "      <td>No</td>\n",
       "      <td>49.574949</td>\n",
       "      <td>199.4580743910713</td>\n",
       "      <td>LowspentSmallvaluepayments</td>\n",
       "      <td>223.45130972736786</td>\n",
       "      <td>2</td>\n",
       "      <td>22</td>\n",
       "      <td>4</td>\n",
       "    </tr>\n",
       "    <tr>\n",
       "      <th>4</th>\n",
       "      <td>23</td>\n",
       "      <td>Scientist</td>\n",
       "      <td>19114.12</td>\n",
       "      <td>3</td>\n",
       "      <td>4</td>\n",
       "      <td>3</td>\n",
       "      <td>4</td>\n",
       "      <td>6</td>\n",
       "      <td>4.0</td>\n",
       "      <td>4.0</td>\n",
       "      <td>...</td>\n",
       "      <td>809.98</td>\n",
       "      <td>24.797347</td>\n",
       "      <td>No</td>\n",
       "      <td>49.574949</td>\n",
       "      <td>41.420153086217326</td>\n",
       "      <td>HighspentMediumvaluepayments</td>\n",
       "      <td>341.48923103222177</td>\n",
       "      <td>2</td>\n",
       "      <td>22</td>\n",
       "      <td>5</td>\n",
       "    </tr>\n",
       "    <tr>\n",
       "      <th>5</th>\n",
       "      <td>23</td>\n",
       "      <td>Scientist</td>\n",
       "      <td>19114.12</td>\n",
       "      <td>3</td>\n",
       "      <td>4</td>\n",
       "      <td>3</td>\n",
       "      <td>4</td>\n",
       "      <td>8</td>\n",
       "      <td>4.0</td>\n",
       "      <td>4.0</td>\n",
       "      <td>...</td>\n",
       "      <td>809.98</td>\n",
       "      <td>27.262259</td>\n",
       "      <td>No</td>\n",
       "      <td>49.574949</td>\n",
       "      <td>62.430172331195294</td>\n",
       "      <td>!@9#%8</td>\n",
       "      <td>340.4792117872438</td>\n",
       "      <td>2</td>\n",
       "      <td>22</td>\n",
       "      <td>6</td>\n",
       "    </tr>\n",
       "    <tr>\n",
       "      <th>6</th>\n",
       "      <td>23</td>\n",
       "      <td>Scientist</td>\n",
       "      <td>19114.12</td>\n",
       "      <td>3</td>\n",
       "      <td>4</td>\n",
       "      <td>3</td>\n",
       "      <td>4</td>\n",
       "      <td>3</td>\n",
       "      <td>8.0</td>\n",
       "      <td>4.0</td>\n",
       "      <td>...</td>\n",
       "      <td>809.98</td>\n",
       "      <td>22.537593</td>\n",
       "      <td>No</td>\n",
       "      <td>49.574949</td>\n",
       "      <td>178.3440674122349</td>\n",
       "      <td>LowspentSmallvaluepayments</td>\n",
       "      <td>244.5653167062043</td>\n",
       "      <td>2</td>\n",
       "      <td>22</td>\n",
       "      <td>7</td>\n",
       "    </tr>\n",
       "  </tbody>\n",
       "</table>\n",
       "<p>5 rows × 21 columns</p>\n",
       "</div>"
      ],
      "text/plain": [
       "   Age Occupation Annual_Income  Num_Bank_Accounts  Num_Credit_Card  \\\n",
       "0   23  Scientist      19114.12                  3                4   \n",
       "3   23  Scientist      19114.12                  3                4   \n",
       "4   23  Scientist      19114.12                  3                4   \n",
       "5   23  Scientist      19114.12                  3                4   \n",
       "6   23  Scientist      19114.12                  3                4   \n",
       "\n",
       "   Interest_Rate  Num_of_Loan  Delay_from_due_date  Num_of_Delayed_Payment  \\\n",
       "0              3            4                    3                     7.0   \n",
       "3              3            4                    5                     4.0   \n",
       "4              3            4                    6                     4.0   \n",
       "5              3            4                    8                     4.0   \n",
       "6              3            4                    3                     8.0   \n",
       "\n",
       "   Num_Credit_Inquiries  ... Outstanding_Debt Credit_Utilization_Ratio  \\\n",
       "0                   4.0  ...           809.98                26.822620   \n",
       "3                   4.0  ...           809.98                31.377862   \n",
       "4                   4.0  ...           809.98                24.797347   \n",
       "5                   4.0  ...           809.98                27.262259   \n",
       "6                   4.0  ...           809.98                22.537593   \n",
       "\n",
       "   Payment_of_Min_Amount Total_EMI_per_month  Amount_invested_monthly  \\\n",
       "0                     No           49.574949        80.41529543900253   \n",
       "3                     No           49.574949        199.4580743910713   \n",
       "4                     No           49.574949       41.420153086217326   \n",
       "5                     No           49.574949       62.430172331195294   \n",
       "6                     No           49.574949        178.3440674122349   \n",
       "\n",
       "              Payment_Behaviour     Monthly_Balance Credit_Score  \\\n",
       "0   HighspentSmallvaluepayments  312.49408867943663            2   \n",
       "3    LowspentSmallvaluepayments  223.45130972736786            2   \n",
       "4  HighspentMediumvaluepayments  341.48923103222177            2   \n",
       "5                        !@9#%8   340.4792117872438            2   \n",
       "6    LowspentSmallvaluepayments   244.5653167062043            2   \n",
       "\n",
       "   Credit_History_Years  Credit_History_Months  \n",
       "0                    22                      1  \n",
       "3                    22                      4  \n",
       "4                    22                      5  \n",
       "5                    22                      6  \n",
       "6                    22                      7  \n",
       "\n",
       "[5 rows x 21 columns]"
      ]
     },
     "execution_count": 44,
     "metadata": {},
     "output_type": "execute_result"
    }
   ],
   "source": [
    "# Vamos extrair os anos e meses da coluna\n",
    "df['Credit_History_Years'] = df['Credit_History_Age'].str.extract(r'(\\d+) Years').astype(int)\n",
    "df['Credit_History_Months'] = df['Credit_History_Age'].str.extract(r'(\\d+) Months').astype(int)\n",
    "\n",
    "df.drop(columns=['Credit_History_Age'], inplace=True)\n",
    "\n",
    "df.head()"
   ]
  },
  {
   "cell_type": "code",
   "execution_count": 45,
   "id": "62012ef7",
   "metadata": {
    "execution": {
     "iopub.execute_input": "2024-04-18T22:59:45.154179Z",
     "iopub.status.busy": "2024-04-18T22:59:45.153430Z",
     "iopub.status.idle": "2024-04-18T22:59:45.189877Z",
     "shell.execute_reply": "2024-04-18T22:59:45.188632Z"
    },
    "papermill": {
     "duration": 0.068332,
     "end_time": "2024-04-18T22:59:45.192123",
     "exception": false,
     "start_time": "2024-04-18T22:59:45.123791",
     "status": "completed"
    },
    "tags": []
   },
   "outputs": [
    {
     "data": {
      "text/html": [
       "<div>\n",
       "<style scoped>\n",
       "    .dataframe tbody tr th:only-of-type {\n",
       "        vertical-align: middle;\n",
       "    }\n",
       "\n",
       "    .dataframe tbody tr th {\n",
       "        vertical-align: top;\n",
       "    }\n",
       "\n",
       "    .dataframe thead th {\n",
       "        text-align: right;\n",
       "    }\n",
       "</style>\n",
       "<table border=\"1\" class=\"dataframe\">\n",
       "  <thead>\n",
       "    <tr style=\"text-align: right;\">\n",
       "      <th></th>\n",
       "      <th>Age</th>\n",
       "      <th>Occupation</th>\n",
       "      <th>Annual_Income</th>\n",
       "      <th>Num_Bank_Accounts</th>\n",
       "      <th>Num_Credit_Card</th>\n",
       "      <th>Interest_Rate</th>\n",
       "      <th>Num_of_Loan</th>\n",
       "      <th>Delay_from_due_date</th>\n",
       "      <th>Num_of_Delayed_Payment</th>\n",
       "      <th>Num_Credit_Inquiries</th>\n",
       "      <th>Credit_Mix</th>\n",
       "      <th>Outstanding_Debt</th>\n",
       "      <th>Credit_Utilization_Ratio</th>\n",
       "      <th>Payment_of_Min_Amount</th>\n",
       "      <th>Total_EMI_per_month</th>\n",
       "      <th>Amount_invested_monthly</th>\n",
       "      <th>Payment_Behaviour</th>\n",
       "      <th>Monthly_Balance</th>\n",
       "      <th>Credit_Score</th>\n",
       "      <th>Credit_History_Age_Months</th>\n",
       "    </tr>\n",
       "  </thead>\n",
       "  <tbody>\n",
       "    <tr>\n",
       "      <th>0</th>\n",
       "      <td>23</td>\n",
       "      <td>Scientist</td>\n",
       "      <td>19114.12</td>\n",
       "      <td>3</td>\n",
       "      <td>4</td>\n",
       "      <td>3</td>\n",
       "      <td>4</td>\n",
       "      <td>3</td>\n",
       "      <td>7.0</td>\n",
       "      <td>4.0</td>\n",
       "      <td>Unknown</td>\n",
       "      <td>809.98</td>\n",
       "      <td>26.822620</td>\n",
       "      <td>No</td>\n",
       "      <td>49.574949</td>\n",
       "      <td>80.41529543900253</td>\n",
       "      <td>HighspentSmallvaluepayments</td>\n",
       "      <td>312.49408867943663</td>\n",
       "      <td>2</td>\n",
       "      <td>265</td>\n",
       "    </tr>\n",
       "    <tr>\n",
       "      <th>3</th>\n",
       "      <td>23</td>\n",
       "      <td>Scientist</td>\n",
       "      <td>19114.12</td>\n",
       "      <td>3</td>\n",
       "      <td>4</td>\n",
       "      <td>3</td>\n",
       "      <td>4</td>\n",
       "      <td>5</td>\n",
       "      <td>4.0</td>\n",
       "      <td>4.0</td>\n",
       "      <td>Good</td>\n",
       "      <td>809.98</td>\n",
       "      <td>31.377862</td>\n",
       "      <td>No</td>\n",
       "      <td>49.574949</td>\n",
       "      <td>199.4580743910713</td>\n",
       "      <td>LowspentSmallvaluepayments</td>\n",
       "      <td>223.45130972736786</td>\n",
       "      <td>2</td>\n",
       "      <td>268</td>\n",
       "    </tr>\n",
       "    <tr>\n",
       "      <th>4</th>\n",
       "      <td>23</td>\n",
       "      <td>Scientist</td>\n",
       "      <td>19114.12</td>\n",
       "      <td>3</td>\n",
       "      <td>4</td>\n",
       "      <td>3</td>\n",
       "      <td>4</td>\n",
       "      <td>6</td>\n",
       "      <td>4.0</td>\n",
       "      <td>4.0</td>\n",
       "      <td>Good</td>\n",
       "      <td>809.98</td>\n",
       "      <td>24.797347</td>\n",
       "      <td>No</td>\n",
       "      <td>49.574949</td>\n",
       "      <td>41.420153086217326</td>\n",
       "      <td>HighspentMediumvaluepayments</td>\n",
       "      <td>341.48923103222177</td>\n",
       "      <td>2</td>\n",
       "      <td>269</td>\n",
       "    </tr>\n",
       "    <tr>\n",
       "      <th>5</th>\n",
       "      <td>23</td>\n",
       "      <td>Scientist</td>\n",
       "      <td>19114.12</td>\n",
       "      <td>3</td>\n",
       "      <td>4</td>\n",
       "      <td>3</td>\n",
       "      <td>4</td>\n",
       "      <td>8</td>\n",
       "      <td>4.0</td>\n",
       "      <td>4.0</td>\n",
       "      <td>Good</td>\n",
       "      <td>809.98</td>\n",
       "      <td>27.262259</td>\n",
       "      <td>No</td>\n",
       "      <td>49.574949</td>\n",
       "      <td>62.430172331195294</td>\n",
       "      <td>!@9#%8</td>\n",
       "      <td>340.4792117872438</td>\n",
       "      <td>2</td>\n",
       "      <td>270</td>\n",
       "    </tr>\n",
       "    <tr>\n",
       "      <th>6</th>\n",
       "      <td>23</td>\n",
       "      <td>Scientist</td>\n",
       "      <td>19114.12</td>\n",
       "      <td>3</td>\n",
       "      <td>4</td>\n",
       "      <td>3</td>\n",
       "      <td>4</td>\n",
       "      <td>3</td>\n",
       "      <td>8.0</td>\n",
       "      <td>4.0</td>\n",
       "      <td>Good</td>\n",
       "      <td>809.98</td>\n",
       "      <td>22.537593</td>\n",
       "      <td>No</td>\n",
       "      <td>49.574949</td>\n",
       "      <td>178.3440674122349</td>\n",
       "      <td>LowspentSmallvaluepayments</td>\n",
       "      <td>244.5653167062043</td>\n",
       "      <td>2</td>\n",
       "      <td>271</td>\n",
       "    </tr>\n",
       "  </tbody>\n",
       "</table>\n",
       "</div>"
      ],
      "text/plain": [
       "   Age Occupation Annual_Income  Num_Bank_Accounts  Num_Credit_Card  \\\n",
       "0   23  Scientist      19114.12                  3                4   \n",
       "3   23  Scientist      19114.12                  3                4   \n",
       "4   23  Scientist      19114.12                  3                4   \n",
       "5   23  Scientist      19114.12                  3                4   \n",
       "6   23  Scientist      19114.12                  3                4   \n",
       "\n",
       "   Interest_Rate  Num_of_Loan  Delay_from_due_date  Num_of_Delayed_Payment  \\\n",
       "0              3            4                    3                     7.0   \n",
       "3              3            4                    5                     4.0   \n",
       "4              3            4                    6                     4.0   \n",
       "5              3            4                    8                     4.0   \n",
       "6              3            4                    3                     8.0   \n",
       "\n",
       "   Num_Credit_Inquiries Credit_Mix Outstanding_Debt  Credit_Utilization_Ratio  \\\n",
       "0                   4.0    Unknown           809.98                 26.822620   \n",
       "3                   4.0       Good           809.98                 31.377862   \n",
       "4                   4.0       Good           809.98                 24.797347   \n",
       "5                   4.0       Good           809.98                 27.262259   \n",
       "6                   4.0       Good           809.98                 22.537593   \n",
       "\n",
       "  Payment_of_Min_Amount  Total_EMI_per_month Amount_invested_monthly  \\\n",
       "0                    No            49.574949       80.41529543900253   \n",
       "3                    No            49.574949       199.4580743910713   \n",
       "4                    No            49.574949      41.420153086217326   \n",
       "5                    No            49.574949      62.430172331195294   \n",
       "6                    No            49.574949       178.3440674122349   \n",
       "\n",
       "              Payment_Behaviour     Monthly_Balance  Credit_Score  \\\n",
       "0   HighspentSmallvaluepayments  312.49408867943663             2   \n",
       "3    LowspentSmallvaluepayments  223.45130972736786             2   \n",
       "4  HighspentMediumvaluepayments  341.48923103222177             2   \n",
       "5                        !@9#%8   340.4792117872438             2   \n",
       "6    LowspentSmallvaluepayments   244.5653167062043             2   \n",
       "\n",
       "   Credit_History_Age_Months  \n",
       "0                        265  \n",
       "3                        268  \n",
       "4                        269  \n",
       "5                        270  \n",
       "6                        271  "
      ]
     },
     "execution_count": 45,
     "metadata": {},
     "output_type": "execute_result"
    }
   ],
   "source": [
    "# Convertemos anos pra meses e pegamos o total de meses\n",
    "df['Credit_History_Age_Months'] = df['Credit_History_Years'] * 12 + df['Credit_History_Months']\n",
    "\n",
    "df.drop(columns=['Credit_History_Years', 'Credit_History_Months'], inplace=True)\n",
    "\n",
    "df.head()"
   ]
  },
  {
   "cell_type": "markdown",
   "id": "32524549",
   "metadata": {
    "papermill": {
     "duration": 0.027872,
     "end_time": "2024-04-18T22:59:45.248032",
     "exception": false,
     "start_time": "2024-04-18T22:59:45.220160",
     "status": "completed"
    },
    "tags": []
   },
   "source": [
    "### Payment_of_Min_Amount"
   ]
  },
  {
   "cell_type": "code",
   "execution_count": 46,
   "id": "f05ad05e",
   "metadata": {
    "execution": {
     "iopub.execute_input": "2024-04-18T22:59:45.307386Z",
     "iopub.status.busy": "2024-04-18T22:59:45.306684Z",
     "iopub.status.idle": "2024-04-18T22:59:45.659200Z",
     "shell.execute_reply": "2024-04-18T22:59:45.657528Z"
    },
    "papermill": {
     "duration": 0.386005,
     "end_time": "2024-04-18T22:59:45.662350",
     "exception": false,
     "start_time": "2024-04-18T22:59:45.276345",
     "status": "completed"
    },
    "tags": []
   },
   "outputs": [
    {
     "data": {
      "text/plain": [
       "<Axes: xlabel='Payment_of_Min_Amount', ylabel='count'>"
      ]
     },
     "execution_count": 46,
     "metadata": {},
     "output_type": "execute_result"
    },
    {
     "data": {
      "image/png": "[encoded data removed]",
      "text/plain": [
       "<Figure size 640x480 with 1 Axes>"
      ]
     },
     "metadata": {},
     "output_type": "display_data"
    }
   ],
   "source": [
    "plt.figure()\n",
    "sns.countplot(data=df,x='Payment_of_Min_Amount',hue='Credit_Score')"
   ]
  },
  {
   "cell_type": "markdown",
   "id": "72aae7fa",
   "metadata": {
    "papermill": {
     "duration": 0.027547,
     "end_time": "2024-04-18T22:59:45.719592",
     "exception": false,
     "start_time": "2024-04-18T22:59:45.692045",
     "status": "completed"
    },
    "tags": []
   },
   "source": [
    "### Amount_invested_monthly"
   ]
  },
  {
   "cell_type": "code",
   "execution_count": 47,
   "id": "7c76edf3",
   "metadata": {
    "execution": {
     "iopub.execute_input": "2024-04-18T22:59:45.778068Z",
     "iopub.status.busy": "2024-04-18T22:59:45.777594Z",
     "iopub.status.idle": "2024-04-18T22:59:45.830922Z",
     "shell.execute_reply": "2024-04-18T22:59:45.829746Z"
    },
    "papermill": {
     "duration": 0.086129,
     "end_time": "2024-04-18T22:59:45.833329",
     "exception": false,
     "start_time": "2024-04-18T22:59:45.747200",
     "status": "completed"
    },
    "tags": []
   },
   "outputs": [
    {
     "data": {
      "text/html": [
       "<div>\n",
       "<style scoped>\n",
       "    .dataframe tbody tr th:only-of-type {\n",
       "        vertical-align: middle;\n",
       "    }\n",
       "\n",
       "    .dataframe tbody tr th {\n",
       "        vertical-align: top;\n",
       "    }\n",
       "\n",
       "    .dataframe thead th {\n",
       "        text-align: right;\n",
       "    }\n",
       "</style>\n",
       "<table border=\"1\" class=\"dataframe\">\n",
       "  <thead>\n",
       "    <tr style=\"text-align: right;\">\n",
       "      <th></th>\n",
       "      <th>Age</th>\n",
       "      <th>Occupation</th>\n",
       "      <th>Annual_Income</th>\n",
       "      <th>Num_Bank_Accounts</th>\n",
       "      <th>Num_Credit_Card</th>\n",
       "      <th>Interest_Rate</th>\n",
       "      <th>Num_of_Loan</th>\n",
       "      <th>Delay_from_due_date</th>\n",
       "      <th>Num_of_Delayed_Payment</th>\n",
       "      <th>Num_Credit_Inquiries</th>\n",
       "      <th>Credit_Mix</th>\n",
       "      <th>Outstanding_Debt</th>\n",
       "      <th>Credit_Utilization_Ratio</th>\n",
       "      <th>Payment_of_Min_Amount</th>\n",
       "      <th>Total_EMI_per_month</th>\n",
       "      <th>Amount_invested_monthly</th>\n",
       "      <th>Payment_Behaviour</th>\n",
       "      <th>Monthly_Balance</th>\n",
       "      <th>Credit_Score</th>\n",
       "      <th>Credit_History_Age_Months</th>\n",
       "    </tr>\n",
       "  </thead>\n",
       "  <tbody>\n",
       "  </tbody>\n",
       "</table>\n",
       "</div>"
      ],
      "text/plain": [
       "Empty DataFrame\n",
       "Columns: [Age, Occupation, Annual_Income, Num_Bank_Accounts, Num_Credit_Card, Interest_Rate, Num_of_Loan, Delay_from_due_date, Num_of_Delayed_Payment, Num_Credit_Inquiries, Credit_Mix, Outstanding_Debt, Credit_Utilization_Ratio, Payment_of_Min_Amount, Total_EMI_per_month, Amount_invested_monthly, Payment_Behaviour, Monthly_Balance, Credit_Score, Credit_History_Age_Months]\n",
       "Index: []"
      ]
     },
     "execution_count": 47,
     "metadata": {},
     "output_type": "execute_result"
    }
   ],
   "source": [
    "df['Amount_invested_monthly'] = pd.to_numeric(df['Amount_invested_monthly'])\n",
    "df[df['Amount_invested_monthly']<0]"
   ]
  },
  {
   "cell_type": "code",
   "execution_count": 48,
   "id": "51f65b99",
   "metadata": {
    "execution": {
     "iopub.execute_input": "2024-04-18T22:59:45.891324Z",
     "iopub.status.busy": "2024-04-18T22:59:45.890949Z",
     "iopub.status.idle": "2024-04-18T22:59:45.898198Z",
     "shell.execute_reply": "2024-04-18T22:59:45.897077Z"
    },
    "papermill": {
     "duration": 0.038862,
     "end_time": "2024-04-18T22:59:45.900188",
     "exception": false,
     "start_time": "2024-04-18T22:59:45.861326",
     "status": "completed"
    },
    "tags": []
   },
   "outputs": [
    {
     "data": {
      "text/plain": [
       "4128"
      ]
     },
     "execution_count": 48,
     "metadata": {},
     "output_type": "execute_result"
    }
   ],
   "source": [
    "df['Amount_invested_monthly'].isna().sum()"
   ]
  },
  {
   "cell_type": "code",
   "execution_count": 49,
   "id": "a13f5ad1",
   "metadata": {
    "execution": {
     "iopub.execute_input": "2024-04-18T22:59:45.960520Z",
     "iopub.status.busy": "2024-04-18T22:59:45.959861Z",
     "iopub.status.idle": "2024-04-18T22:59:45.966042Z",
     "shell.execute_reply": "2024-04-18T22:59:45.965016Z"
    },
    "papermill": {
     "duration": 0.039415,
     "end_time": "2024-04-18T22:59:45.968181",
     "exception": false,
     "start_time": "2024-04-18T22:59:45.928766",
     "status": "completed"
    },
    "tags": []
   },
   "outputs": [
    {
     "name": "stderr",
     "output_type": "stream",
     "text": [
      "/tmp/ipykernel_18/4158739745.py:1: FutureWarning: A value is trying to be set on a copy of a DataFrame or Series through chained assignment using an inplace method.\n",
      "The behavior will change in pandas 3.0. This inplace method will never work because the intermediate object on which we are setting values always behaves as a copy.\n",
      "\n",
      "For example, when doing 'df[col].method(value, inplace=True)', try using 'df.method({col: value}, inplace=True)' or df[col] = df[col].method(value) instead, to perform the operation inplace on the original object.\n",
      "\n",
      "\n",
      "  df['Amount_invested_monthly'].fillna(method='ffill',inplace=True)\n",
      "/tmp/ipykernel_18/4158739745.py:1: FutureWarning: Series.fillna with 'method' is deprecated and will raise in a future version. Use obj.ffill() or obj.bfill() instead.\n",
      "  df['Amount_invested_monthly'].fillna(method='ffill',inplace=True)\n"
     ]
    }
   ],
   "source": [
    "df['Amount_invested_monthly'].fillna(method='ffill',inplace=True)"
   ]
  },
  {
   "cell_type": "code",
   "execution_count": 50,
   "id": "ad60cdc9",
   "metadata": {
    "execution": {
     "iopub.execute_input": "2024-04-18T22:59:46.027431Z",
     "iopub.status.busy": "2024-04-18T22:59:46.026712Z",
     "iopub.status.idle": "2024-04-18T22:59:46.033511Z",
     "shell.execute_reply": "2024-04-18T22:59:46.032681Z"
    },
    "papermill": {
     "duration": 0.038949,
     "end_time": "2024-04-18T22:59:46.035526",
     "exception": false,
     "start_time": "2024-04-18T22:59:45.996577",
     "status": "completed"
    },
    "tags": []
   },
   "outputs": [
    {
     "data": {
      "text/plain": [
       "0"
      ]
     },
     "execution_count": 50,
     "metadata": {},
     "output_type": "execute_result"
    }
   ],
   "source": [
    "df['Amount_invested_monthly'].isna().sum()"
   ]
  },
  {
   "cell_type": "markdown",
   "id": "e0a793d5",
   "metadata": {
    "papermill": {
     "duration": 0.028007,
     "end_time": "2024-04-18T22:59:46.091906",
     "exception": false,
     "start_time": "2024-04-18T22:59:46.063899",
     "status": "completed"
    },
    "tags": []
   },
   "source": [
    "### Payment_Behaviour"
   ]
  },
  {
   "cell_type": "code",
   "execution_count": 51,
   "id": "bde933c5",
   "metadata": {
    "execution": {
     "iopub.execute_input": "2024-04-18T22:59:46.150506Z",
     "iopub.status.busy": "2024-04-18T22:59:46.149912Z",
     "iopub.status.idle": "2024-04-18T22:59:46.156987Z",
     "shell.execute_reply": "2024-04-18T22:59:46.156118Z"
    },
    "papermill": {
     "duration": 0.038796,
     "end_time": "2024-04-18T22:59:46.159040",
     "exception": false,
     "start_time": "2024-04-18T22:59:46.120244",
     "status": "completed"
    },
    "tags": []
   },
   "outputs": [
    {
     "data": {
      "text/plain": [
       "0         HighspentSmallvaluepayments\n",
       "3          LowspentSmallvaluepayments\n",
       "4        HighspentMediumvaluepayments\n",
       "5                              !@9#%8\n",
       "6          LowspentSmallvaluepayments\n",
       "                     ...             \n",
       "99995     HighspentLargevaluepayments\n",
       "99996    HighspentMediumvaluepayments\n",
       "99997     HighspentLargevaluepayments\n",
       "99998      LowspentLargevaluepayments\n",
       "99999                          !@9#%8\n",
       "Name: Payment_Behaviour, Length: 92294, dtype: object"
      ]
     },
     "execution_count": 51,
     "metadata": {},
     "output_type": "execute_result"
    }
   ],
   "source": [
    "df['Payment_Behaviour']"
   ]
  },
  {
   "cell_type": "code",
   "execution_count": 52,
   "id": "7b4c16cc",
   "metadata": {
    "execution": {
     "iopub.execute_input": "2024-04-18T22:59:46.218807Z",
     "iopub.status.busy": "2024-04-18T22:59:46.218160Z",
     "iopub.status.idle": "2024-04-18T22:59:46.238229Z",
     "shell.execute_reply": "2024-04-18T22:59:46.237116Z"
    },
    "papermill": {
     "duration": 0.052539,
     "end_time": "2024-04-18T22:59:46.240486",
     "exception": false,
     "start_time": "2024-04-18T22:59:46.187947",
     "status": "completed"
    },
    "tags": []
   },
   "outputs": [
    {
     "data": {
      "text/plain": [
       "Payment_Behaviour\n",
       "LowspentSmallvaluepayments      23661\n",
       "HighspentMediumvaluepayments    16179\n",
       "LowspentMediumvaluepayments     12777\n",
       "HighspentLargevaluepayments     12569\n",
       "HighspentSmallvaluepayments     10468\n",
       "LowspentLargevaluepayments       9646\n",
       "!@9#%8                           6994\n",
       "Name: count, dtype: int64"
      ]
     },
     "execution_count": 52,
     "metadata": {},
     "output_type": "execute_result"
    }
   ],
   "source": [
    "df['Payment_Behaviour'].value_counts()"
   ]
  },
  {
   "cell_type": "code",
   "execution_count": 53,
   "id": "26013639",
   "metadata": {
    "execution": {
     "iopub.execute_input": "2024-04-18T22:59:46.299680Z",
     "iopub.status.busy": "2024-04-18T22:59:46.299288Z",
     "iopub.status.idle": "2024-04-18T22:59:46.317969Z",
     "shell.execute_reply": "2024-04-18T22:59:46.316865Z"
    },
    "papermill": {
     "duration": 0.051078,
     "end_time": "2024-04-18T22:59:46.320032",
     "exception": false,
     "start_time": "2024-04-18T22:59:46.268954",
     "status": "completed"
    },
    "tags": []
   },
   "outputs": [
    {
     "name": "stderr",
     "output_type": "stream",
     "text": [
      "/tmp/ipykernel_18/2321488809.py:1: SettingWithCopyWarning: \n",
      "A value is trying to be set on a copy of a slice from a DataFrame.\n",
      "Try using .loc[row_indexer,col_indexer] = value instead\n",
      "\n",
      "See the caveats in the documentation: https://pandas.pydata.org/pandas-docs/stable/user_guide/indexing.html#returning-a-view-versus-a-copy\n",
      "  df[df['Payment_Behaviour']=='!@9#%8']['Payment_Behaviour'] = np.nan\n"
     ]
    }
   ],
   "source": [
    "df[df['Payment_Behaviour']=='!@9#%8']['Payment_Behaviour'] = np.nan"
   ]
  },
  {
   "cell_type": "code",
   "execution_count": 54,
   "id": "242f8c3a",
   "metadata": {
    "execution": {
     "iopub.execute_input": "2024-04-18T22:59:46.378553Z",
     "iopub.status.busy": "2024-04-18T22:59:46.378169Z",
     "iopub.status.idle": "2024-04-18T22:59:46.389798Z",
     "shell.execute_reply": "2024-04-18T22:59:46.388748Z"
    },
    "papermill": {
     "duration": 0.043548,
     "end_time": "2024-04-18T22:59:46.391912",
     "exception": false,
     "start_time": "2024-04-18T22:59:46.348364",
     "status": "completed"
    },
    "tags": []
   },
   "outputs": [
    {
     "data": {
      "text/plain": [
       "0"
      ]
     },
     "execution_count": 54,
     "metadata": {},
     "output_type": "execute_result"
    }
   ],
   "source": [
    "df['Payment_Behaviour'].isna().sum()"
   ]
  },
  {
   "cell_type": "code",
   "execution_count": 55,
   "id": "b1b809a6",
   "metadata": {
    "execution": {
     "iopub.execute_input": "2024-04-18T22:59:46.450372Z",
     "iopub.status.busy": "2024-04-18T22:59:46.450021Z",
     "iopub.status.idle": "2024-04-18T22:59:46.467823Z",
     "shell.execute_reply": "2024-04-18T22:59:46.466682Z"
    },
    "papermill": {
     "duration": 0.049427,
     "end_time": "2024-04-18T22:59:46.469787",
     "exception": false,
     "start_time": "2024-04-18T22:59:46.420360",
     "status": "completed"
    },
    "tags": []
   },
   "outputs": [
    {
     "name": "stderr",
     "output_type": "stream",
     "text": [
      "/tmp/ipykernel_18/3583474080.py:1: FutureWarning: Series.fillna with 'method' is deprecated and will raise in a future version. Use obj.ffill() or obj.bfill() instead.\n",
      "  df['Payment_Behaviour'].fillna(method='ffill',inplace=True)\n"
     ]
    }
   ],
   "source": [
    "df['Payment_Behaviour'].fillna(method='ffill',inplace=True)"
   ]
  },
  {
   "cell_type": "code",
   "execution_count": 56,
   "id": "138b1d81",
   "metadata": {
    "execution": {
     "iopub.execute_input": "2024-04-18T22:59:46.529161Z",
     "iopub.status.busy": "2024-04-18T22:59:46.528148Z",
     "iopub.status.idle": "2024-04-18T22:59:46.996396Z",
     "shell.execute_reply": "2024-04-18T22:59:46.994888Z"
    },
    "papermill": {
     "duration": 0.500652,
     "end_time": "2024-04-18T22:59:46.999178",
     "exception": false,
     "start_time": "2024-04-18T22:59:46.498526",
     "status": "completed"
    },
    "tags": []
   },
   "outputs": [
    {
     "data": {
      "text/plain": [
       "(array([0, 1, 2, 3, 4, 5, 6]),\n",
       " [Text(0, 0, 'HighspentSmallvaluepayments'),\n",
       "  Text(1, 0, 'LowspentSmallvaluepayments'),\n",
       "  Text(2, 0, 'HighspentMediumvaluepayments'),\n",
       "  Text(3, 0, '!@9#%8'),\n",
       "  Text(4, 0, 'HighspentLargevaluepayments'),\n",
       "  Text(5, 0, 'LowspentMediumvaluepayments'),\n",
       "  Text(6, 0, 'LowspentLargevaluepayments')])"
      ]
     },
     "execution_count": 56,
     "metadata": {},
     "output_type": "execute_result"
    },
    {
     "data": {
      "image/png": "[encoded data removed]",
      "text/plain": [
       "<Figure size 640x480 with 1 Axes>"
      ]
     },
     "metadata": {},
     "output_type": "display_data"
    }
   ],
   "source": [
    "plt.figure()\n",
    "sns.countplot(data=df,\n",
    "             x = 'Payment_Behaviour',\n",
    "             hue='Credit_Score')\n",
    "plt.xticks(rotation=90)"
   ]
  },
  {
   "cell_type": "markdown",
   "id": "d30be251",
   "metadata": {
    "papermill": {
     "duration": 0.030734,
     "end_time": "2024-04-18T22:59:47.062000",
     "exception": false,
     "start_time": "2024-04-18T22:59:47.031266",
     "status": "completed"
    },
    "tags": []
   },
   "source": [
    "### Monthly_Balance"
   ]
  },
  {
   "cell_type": "code",
   "execution_count": 57,
   "id": "2ab0c524",
   "metadata": {
    "execution": {
     "iopub.execute_input": "2024-04-18T22:59:47.128179Z",
     "iopub.status.busy": "2024-04-18T22:59:47.127790Z",
     "iopub.status.idle": "2024-04-18T22:59:47.173574Z",
     "shell.execute_reply": "2024-04-18T22:59:47.172371Z"
    },
    "papermill": {
     "duration": 0.080902,
     "end_time": "2024-04-18T22:59:47.175911",
     "exception": false,
     "start_time": "2024-04-18T22:59:47.095009",
     "status": "completed"
    },
    "tags": []
   },
   "outputs": [
    {
     "data": {
      "text/plain": [
       "9"
      ]
     },
     "execution_count": 57,
     "metadata": {},
     "output_type": "execute_result"
    }
   ],
   "source": [
    "df['Monthly_Balance'] = pd.to_numeric(df['Monthly_Balance'], errors='coerce')\n",
    "df[df['Monthly_Balance']<0]['Monthly_Balance'].count()"
   ]
  },
  {
   "cell_type": "code",
   "execution_count": 58,
   "id": "1adaaec2",
   "metadata": {
    "execution": {
     "iopub.execute_input": "2024-04-18T22:59:47.243873Z",
     "iopub.status.busy": "2024-04-18T22:59:47.242690Z",
     "iopub.status.idle": "2024-04-18T22:59:47.285660Z",
     "shell.execute_reply": "2024-04-18T22:59:47.284209Z"
    },
    "papermill": {
     "duration": 0.080815,
     "end_time": "2024-04-18T22:59:47.288575",
     "exception": false,
     "start_time": "2024-04-18T22:59:47.207760",
     "status": "completed"
    },
    "tags": []
   },
   "outputs": [],
   "source": [
    "df.drop(df[df['Monthly_Balance'] < 0].index, inplace = True)"
   ]
  },
  {
   "cell_type": "code",
   "execution_count": 59,
   "id": "614826da",
   "metadata": {
    "execution": {
     "iopub.execute_input": "2024-04-18T22:59:47.353414Z",
     "iopub.status.busy": "2024-04-18T22:59:47.352447Z",
     "iopub.status.idle": "2024-04-18T22:59:47.360013Z",
     "shell.execute_reply": "2024-04-18T22:59:47.358545Z"
    },
    "papermill": {
     "duration": 0.042429,
     "end_time": "2024-04-18T22:59:47.362473",
     "exception": false,
     "start_time": "2024-04-18T22:59:47.320044",
     "status": "completed"
    },
    "tags": []
   },
   "outputs": [
    {
     "name": "stderr",
     "output_type": "stream",
     "text": [
      "/tmp/ipykernel_18/2255816643.py:1: FutureWarning: A value is trying to be set on a copy of a DataFrame or Series through chained assignment using an inplace method.\n",
      "The behavior will change in pandas 3.0. This inplace method will never work because the intermediate object on which we are setting values always behaves as a copy.\n",
      "\n",
      "For example, when doing 'df[col].method(value, inplace=True)', try using 'df.method({col: value}, inplace=True)' or df[col] = df[col].method(value) instead, to perform the operation inplace on the original object.\n",
      "\n",
      "\n",
      "  df['Monthly_Balance'].fillna(method='ffill', inplace=True)\n",
      "/tmp/ipykernel_18/2255816643.py:1: FutureWarning: Series.fillna with 'method' is deprecated and will raise in a future version. Use obj.ffill() or obj.bfill() instead.\n",
      "  df['Monthly_Balance'].fillna(method='ffill', inplace=True)\n"
     ]
    }
   ],
   "source": [
    "df['Monthly_Balance'].fillna(method='ffill', inplace=True)"
   ]
  },
  {
   "cell_type": "code",
   "execution_count": 60,
   "id": "3f1bfde9",
   "metadata": {
    "execution": {
     "iopub.execute_input": "2024-04-18T22:59:47.431169Z",
     "iopub.status.busy": "2024-04-18T22:59:47.430150Z",
     "iopub.status.idle": "2024-04-18T22:59:48.633839Z",
     "shell.execute_reply": "2024-04-18T22:59:48.632583Z"
    },
    "papermill": {
     "duration": 1.240519,
     "end_time": "2024-04-18T22:59:48.636185",
     "exception": false,
     "start_time": "2024-04-18T22:59:47.395666",
     "status": "completed"
    },
    "tags": []
   },
   "outputs": [
    {
     "data": {
      "image/png": "[encoded data removed]",
      "text/plain": [
       "<Figure size 1800x1000 with 2 Axes>"
      ]
     },
     "metadata": {},
     "output_type": "display_data"
    }
   ],
   "source": [
    "plt.figure(figsize=(18, 10))\n",
    "sns.heatmap(df.select_dtypes(include='number').corr(), annot = True);"
   ]
  },
  {
   "cell_type": "code",
   "execution_count": 61,
   "id": "44837e1c",
   "metadata": {
    "execution": {
     "iopub.execute_input": "2024-04-18T22:59:48.708440Z",
     "iopub.status.busy": "2024-04-18T22:59:48.708087Z",
     "iopub.status.idle": "2024-04-18T22:59:48.715411Z",
     "shell.execute_reply": "2024-04-18T22:59:48.714667Z"
    },
    "papermill": {
     "duration": 0.044993,
     "end_time": "2024-04-18T22:59:48.718765",
     "exception": false,
     "start_time": "2024-04-18T22:59:48.673772",
     "status": "completed"
    },
    "tags": []
   },
   "outputs": [
    {
     "data": {
      "text/plain": [
       "Age                            int64\n",
       "Occupation                    object\n",
       "Annual_Income                 object\n",
       "Num_Bank_Accounts              int64\n",
       "Num_Credit_Card                int64\n",
       "Interest_Rate                  int64\n",
       "Num_of_Loan                    int64\n",
       "Delay_from_due_date            int64\n",
       "Num_of_Delayed_Payment       float64\n",
       "Num_Credit_Inquiries         float64\n",
       "Credit_Mix                    object\n",
       "Outstanding_Debt              object\n",
       "Credit_Utilization_Ratio     float64\n",
       "Payment_of_Min_Amount         object\n",
       "Total_EMI_per_month          float64\n",
       "Amount_invested_monthly      float64\n",
       "Payment_Behaviour             object\n",
       "Monthly_Balance              float64\n",
       "Credit_Score                   int64\n",
       "Credit_History_Age_Months      int64\n",
       "dtype: object"
      ]
     },
     "execution_count": 61,
     "metadata": {},
     "output_type": "execute_result"
    }
   ],
   "source": [
    "df.dtypes"
   ]
  },
  {
   "cell_type": "code",
   "execution_count": 62,
   "id": "84a1ed7c",
   "metadata": {
    "execution": {
     "iopub.execute_input": "2024-04-18T22:59:48.802352Z",
     "iopub.status.busy": "2024-04-18T22:59:48.801778Z",
     "iopub.status.idle": "2024-04-18T22:59:48.996096Z",
     "shell.execute_reply": "2024-04-18T22:59:48.994780Z"
    },
    "papermill": {
     "duration": 0.233239,
     "end_time": "2024-04-18T22:59:48.998793",
     "exception": false,
     "start_time": "2024-04-18T22:59:48.765554",
     "status": "completed"
    },
    "tags": []
   },
   "outputs": [
    {
     "data": {
      "text/html": [
       "<div>\n",
       "<style scoped>\n",
       "    .dataframe tbody tr th:only-of-type {\n",
       "        vertical-align: middle;\n",
       "    }\n",
       "\n",
       "    .dataframe tbody tr th {\n",
       "        vertical-align: top;\n",
       "    }\n",
       "\n",
       "    .dataframe thead th {\n",
       "        text-align: right;\n",
       "    }\n",
       "</style>\n",
       "<table border=\"1\" class=\"dataframe\">\n",
       "  <thead>\n",
       "    <tr style=\"text-align: right;\">\n",
       "      <th></th>\n",
       "      <th>Occupation</th>\n",
       "      <th>Annual_Income</th>\n",
       "      <th>Credit_Mix</th>\n",
       "      <th>Outstanding_Debt</th>\n",
       "      <th>Payment_of_Min_Amount</th>\n",
       "      <th>Payment_Behaviour</th>\n",
       "    </tr>\n",
       "  </thead>\n",
       "  <tbody>\n",
       "    <tr>\n",
       "      <th>0</th>\n",
       "      <td>13</td>\n",
       "      <td>4310</td>\n",
       "      <td>3</td>\n",
       "      <td>11165</td>\n",
       "      <td>1</td>\n",
       "      <td>3</td>\n",
       "    </tr>\n",
       "    <tr>\n",
       "      <th>3</th>\n",
       "      <td>13</td>\n",
       "      <td>4310</td>\n",
       "      <td>1</td>\n",
       "      <td>11165</td>\n",
       "      <td>1</td>\n",
       "      <td>6</td>\n",
       "    </tr>\n",
       "    <tr>\n",
       "      <th>4</th>\n",
       "      <td>13</td>\n",
       "      <td>4310</td>\n",
       "      <td>1</td>\n",
       "      <td>11165</td>\n",
       "      <td>1</td>\n",
       "      <td>2</td>\n",
       "    </tr>\n",
       "    <tr>\n",
       "      <th>5</th>\n",
       "      <td>13</td>\n",
       "      <td>4310</td>\n",
       "      <td>1</td>\n",
       "      <td>11165</td>\n",
       "      <td>1</td>\n",
       "      <td>0</td>\n",
       "    </tr>\n",
       "    <tr>\n",
       "      <th>6</th>\n",
       "      <td>13</td>\n",
       "      <td>4310</td>\n",
       "      <td>1</td>\n",
       "      <td>11165</td>\n",
       "      <td>1</td>\n",
       "      <td>6</td>\n",
       "    </tr>\n",
       "    <tr>\n",
       "      <th>...</th>\n",
       "      <td>...</td>\n",
       "      <td>...</td>\n",
       "      <td>...</td>\n",
       "      <td>...</td>\n",
       "      <td>...</td>\n",
       "      <td>...</td>\n",
       "    </tr>\n",
       "    <tr>\n",
       "      <th>99995</th>\n",
       "      <td>9</td>\n",
       "      <td>8175</td>\n",
       "      <td>3</td>\n",
       "      <td>9395</td>\n",
       "      <td>1</td>\n",
       "      <td>1</td>\n",
       "    </tr>\n",
       "    <tr>\n",
       "      <th>99996</th>\n",
       "      <td>9</td>\n",
       "      <td>8175</td>\n",
       "      <td>3</td>\n",
       "      <td>9395</td>\n",
       "      <td>1</td>\n",
       "      <td>2</td>\n",
       "    </tr>\n",
       "    <tr>\n",
       "      <th>99997</th>\n",
       "      <td>9</td>\n",
       "      <td>8175</td>\n",
       "      <td>1</td>\n",
       "      <td>9395</td>\n",
       "      <td>1</td>\n",
       "      <td>1</td>\n",
       "    </tr>\n",
       "    <tr>\n",
       "      <th>99998</th>\n",
       "      <td>9</td>\n",
       "      <td>8175</td>\n",
       "      <td>1</td>\n",
       "      <td>9395</td>\n",
       "      <td>1</td>\n",
       "      <td>4</td>\n",
       "    </tr>\n",
       "    <tr>\n",
       "      <th>99999</th>\n",
       "      <td>9</td>\n",
       "      <td>8175</td>\n",
       "      <td>1</td>\n",
       "      <td>9395</td>\n",
       "      <td>1</td>\n",
       "      <td>0</td>\n",
       "    </tr>\n",
       "  </tbody>\n",
       "</table>\n",
       "<p>92285 rows × 6 columns</p>\n",
       "</div>"
      ],
      "text/plain": [
       "       Occupation  Annual_Income  Credit_Mix  Outstanding_Debt  \\\n",
       "0              13           4310           3             11165   \n",
       "3              13           4310           1             11165   \n",
       "4              13           4310           1             11165   \n",
       "5              13           4310           1             11165   \n",
       "6              13           4310           1             11165   \n",
       "...           ...            ...         ...               ...   \n",
       "99995           9           8175           3              9395   \n",
       "99996           9           8175           3              9395   \n",
       "99997           9           8175           1              9395   \n",
       "99998           9           8175           1              9395   \n",
       "99999           9           8175           1              9395   \n",
       "\n",
       "       Payment_of_Min_Amount  Payment_Behaviour  \n",
       "0                          1                  3  \n",
       "3                          1                  6  \n",
       "4                          1                  2  \n",
       "5                          1                  0  \n",
       "6                          1                  6  \n",
       "...                      ...                ...  \n",
       "99995                      1                  1  \n",
       "99996                      1                  2  \n",
       "99997                      1                  1  \n",
       "99998                      1                  4  \n",
       "99999                      1                  0  \n",
       "\n",
       "[92285 rows x 6 columns]"
      ]
     },
     "execution_count": 62,
     "metadata": {},
     "output_type": "execute_result"
    }
   ],
   "source": [
    "categorical_columns = ['Occupation', 'Annual_Income', 'Credit_Mix', \n",
    "                      'Outstanding_Debt', 'Payment_of_Min_Amount',\n",
    "                      'Payment_Behaviour']\n",
    "for col in categorical_columns:\n",
    "    df[col] = LabelEncoder().fit_transform(df[col])\n",
    "df[categorical_columns]"
   ]
  },
  {
   "cell_type": "markdown",
   "id": "9994b75b",
   "metadata": {
    "papermill": {
     "duration": 0.034246,
     "end_time": "2024-04-18T22:59:49.068367",
     "exception": false,
     "start_time": "2024-04-18T22:59:49.034121",
     "status": "completed"
    },
    "tags": []
   },
   "source": [
    "# Vamos avaliar se tem linhas duplicadas"
   ]
  },
  {
   "cell_type": "code",
   "execution_count": 63,
   "id": "ca6959cb",
   "metadata": {
    "execution": {
     "iopub.execute_input": "2024-04-18T22:59:49.140967Z",
     "iopub.status.busy": "2024-04-18T22:59:49.140182Z",
     "iopub.status.idle": "2024-04-18T22:59:49.208668Z",
     "shell.execute_reply": "2024-04-18T22:59:49.206826Z"
    },
    "papermill": {
     "duration": 0.107946,
     "end_time": "2024-04-18T22:59:49.211323",
     "exception": false,
     "start_time": "2024-04-18T22:59:49.103377",
     "status": "completed"
    },
    "tags": []
   },
   "outputs": [
    {
     "data": {
      "text/plain": [
       "0"
      ]
     },
     "execution_count": 63,
     "metadata": {},
     "output_type": "execute_result"
    }
   ],
   "source": [
    "df.duplicated().sum()"
   ]
  },
  {
   "cell_type": "markdown",
   "id": "fa55d15e",
   "metadata": {
    "papermill": {
     "duration": 0.036826,
     "end_time": "2024-04-18T22:59:49.283099",
     "exception": false,
     "start_time": "2024-04-18T22:59:49.246273",
     "status": "completed"
    },
    "tags": []
   },
   "source": [
    "# Vamos avaliar quais variáveis vão entrar nos modelos de Machine Learning"
   ]
  },
  {
   "cell_type": "code",
   "execution_count": 64,
   "id": "faf255dd",
   "metadata": {
    "execution": {
     "iopub.execute_input": "2024-04-18T22:59:49.356128Z",
     "iopub.status.busy": "2024-04-18T22:59:49.355253Z",
     "iopub.status.idle": "2024-04-18T22:59:51.038461Z",
     "shell.execute_reply": "2024-04-18T22:59:51.036922Z"
    },
    "papermill": {
     "duration": 1.725595,
     "end_time": "2024-04-18T22:59:51.043673",
     "exception": false,
     "start_time": "2024-04-18T22:59:49.318078",
     "status": "completed"
    },
    "tags": []
   },
   "outputs": [
    {
     "data": {
      "image/png": "[encoded data removed]",
      "text/plain": [
       "<Figure size 2000x2000 with 2 Axes>"
      ]
     },
     "metadata": {},
     "output_type": "display_data"
    }
   ],
   "source": [
    "plt.figure(figsize=(20, 20))\n",
    "sns.heatmap(df.corr(), annot = True, fmt='.2f')\n",
    "plt.show()"
   ]
  },
  {
   "cell_type": "markdown",
   "id": "da986ee5",
   "metadata": {
    "papermill": {
     "duration": 0.038913,
     "end_time": "2024-04-18T22:59:51.124029",
     "exception": false,
     "start_time": "2024-04-18T22:59:51.085116",
     "status": "completed"
    },
    "tags": []
   },
   "source": [
    "Vemos que Delay_from_due_date, Age, Credit_Mix, Payment_of_Min_Amount, Monthly_Balance e Credit_History_Age_Months têm módulos de correlação com Credit_Score maior que os outros features. Então, serão essas variáveis utilizadas em nossos modelos de Machine Learning."
   ]
  },
  {
   "cell_type": "code",
   "execution_count": 65,
   "id": "2c6a3b57",
   "metadata": {
    "execution": {
     "iopub.execute_input": "2024-04-18T22:59:51.204408Z",
     "iopub.status.busy": "2024-04-18T22:59:51.203641Z",
     "iopub.status.idle": "2024-04-18T22:59:51.269532Z",
     "shell.execute_reply": "2024-04-18T22:59:51.267792Z"
    },
    "papermill": {
     "duration": 0.109219,
     "end_time": "2024-04-18T22:59:51.272245",
     "exception": false,
     "start_time": "2024-04-18T22:59:51.163026",
     "status": "completed"
    },
    "tags": []
   },
   "outputs": [
    {
     "name": "stdout",
     "output_type": "stream",
     "text": [
      "Shape of Train_df: (46142, 20)\n",
      "Shape of Val_df: (23071, 20)\n",
      "Shape of Test_df: (23072, 20)\n",
      "Shape of X_train: (46142, 6)\n",
      "Shape of y_train: (46142,)\n",
      "Shape of X_val: (23071, 6)\n",
      "Shape of y_val: (23071,)\n",
      "Shape of X_test: (23072, 6)\n",
      "Shape of y_test: (23072,)\n"
     ]
    }
   ],
   "source": [
    "train_df, test_df = train_test_split(df, test_size=0.5, random_state=42,shuffle=True)\n",
    "val_df, test_df = train_test_split(test_df, test_size=0.5, random_state=42,shuffle=True)\n",
    "print(\"Shape of Train_df:\", train_df.shape)\n",
    "print(\"Shape of Val_df:\", val_df.shape)\n",
    "print(\"Shape of Test_df:\", test_df.shape)\n",
    "\n",
    "X_train = train_df[['Age','Delay_from_due_date', 'Monthly_Balance',\n",
    "                    'Credit_Mix', 'Credit_History_Age_Months',\n",
    "               'Payment_of_Min_Amount']]\n",
    "y_train = train_df['Credit_Score']\n",
    "\n",
    "X_val = val_df[['Age','Delay_from_due_date', 'Monthly_Balance',\n",
    "                    'Credit_Mix', 'Credit_History_Age_Months',\n",
    "               'Payment_of_Min_Amount']]\n",
    "y_val = val_df['Credit_Score']\n",
    "\n",
    "X_test = test_df[['Age','Delay_from_due_date', 'Monthly_Balance',\n",
    "                    'Credit_Mix', 'Credit_History_Age_Months',\n",
    "               'Payment_of_Min_Amount']]\n",
    "y_test = test_df['Credit_Score']\n",
    "\n",
    "# Display the shapes of the datasets\n",
    "print(f\"Shape of X_train: {X_train.shape}\")\n",
    "print(f\"Shape of y_train: {y_train.shape}\")\n",
    "print(f\"Shape of X_val: {X_val.shape}\")\n",
    "print(f\"Shape of y_val: {y_val.shape}\")\n",
    "print(f\"Shape of X_test: {X_test.shape}\")\n",
    "print(f\"Shape of y_test: {y_test.shape}\")"
   ]
  },
  {
   "cell_type": "markdown",
   "id": "a9546930",
   "metadata": {
    "papermill": {
     "duration": 0.038817,
     "end_time": "2024-04-18T22:59:51.351012",
     "exception": false,
     "start_time": "2024-04-18T22:59:51.312195",
     "status": "completed"
    },
    "tags": []
   },
   "source": [
    "# Random Forest"
   ]
  },
  {
   "cell_type": "code",
   "execution_count": 66,
   "id": "d092eb4b",
   "metadata": {
    "execution": {
     "iopub.execute_input": "2024-04-18T22:59:51.433564Z",
     "iopub.status.busy": "2024-04-18T22:59:51.432483Z",
     "iopub.status.idle": "2024-04-18T22:59:51.443505Z",
     "shell.execute_reply": "2024-04-18T22:59:51.442769Z"
    },
    "papermill": {
     "duration": 0.054061,
     "end_time": "2024-04-18T22:59:51.445587",
     "exception": false,
     "start_time": "2024-04-18T22:59:51.391526",
     "status": "completed"
    },
    "tags": []
   },
   "outputs": [
    {
     "data": {
      "text/html": [
       "<div>\n",
       "<style scoped>\n",
       "    .dataframe tbody tr th:only-of-type {\n",
       "        vertical-align: middle;\n",
       "    }\n",
       "\n",
       "    .dataframe tbody tr th {\n",
       "        vertical-align: top;\n",
       "    }\n",
       "\n",
       "    .dataframe thead th {\n",
       "        text-align: right;\n",
       "    }\n",
       "</style>\n",
       "<table border=\"1\" class=\"dataframe\">\n",
       "  <thead>\n",
       "    <tr style=\"text-align: right;\">\n",
       "      <th></th>\n",
       "      <th>n_estimators</th>\n",
       "      <th>max_depth</th>\n",
       "      <th>min_samples_leaf</th>\n",
       "      <th>accuracy_valid</th>\n",
       "      <th>accuracy_test</th>\n",
       "    </tr>\n",
       "  </thead>\n",
       "  <tbody>\n",
       "  </tbody>\n",
       "</table>\n",
       "</div>"
      ],
      "text/plain": [
       "Empty DataFrame\n",
       "Columns: [n_estimators, max_depth, min_samples_leaf, accuracy_valid, accuracy_test]\n",
       "Index: []"
      ]
     },
     "execution_count": 66,
     "metadata": {},
     "output_type": "execute_result"
    }
   ],
   "source": [
    "n = [100,200]\n",
    "depth = [5,10]\n",
    "samples = [1,2]\n",
    "\n",
    "d = ['n_estimators', 'max_depth', 'min_samples_leaf', 'accuracy_valid', 'accuracy_test']\n",
    "best = pd.DataFrame(columns=d)\n",
    "best"
   ]
  },
  {
   "cell_type": "code",
   "execution_count": 67,
   "id": "07c1d0ec",
   "metadata": {
    "execution": {
     "iopub.execute_input": "2024-04-18T22:59:51.526070Z",
     "iopub.status.busy": "2024-04-18T22:59:51.525667Z",
     "iopub.status.idle": "2024-04-18T23:00:45.361094Z",
     "shell.execute_reply": "2024-04-18T23:00:45.359712Z"
    },
    "papermill": {
     "duration": 53.879474,
     "end_time": "2024-04-18T23:00:45.364248",
     "exception": false,
     "start_time": "2024-04-18T22:59:51.484774",
     "status": "completed"
    },
    "tags": []
   },
   "outputs": [],
   "source": [
    "for i in n:\n",
    "    for d in depth:\n",
    "        for s in samples:\n",
    "            clf = RandomForestClassifier(n_estimators = i,\n",
    "                                         max_depth = d,\n",
    "                                         min_samples_leaf = s,\n",
    "                                         random_state=42)\n",
    "            clf.fit(X_train,y_train)\n",
    "            val_pred = clf.predict(X_val)\n",
    "            test_pred = clf.predict(X_test)\n",
    "            best.loc[len(best.index)] = [i,d,s,accuracy_score(y_val,val_pred), \n",
    "                                        accuracy_score(y_test,test_pred)]"
   ]
  },
  {
   "cell_type": "code",
   "execution_count": 68,
   "id": "57b64dc2",
   "metadata": {
    "execution": {
     "iopub.execute_input": "2024-04-18T23:00:45.447417Z",
     "iopub.status.busy": "2024-04-18T23:00:45.446976Z",
     "iopub.status.idle": "2024-04-18T23:00:45.463064Z",
     "shell.execute_reply": "2024-04-18T23:00:45.461921Z"
    },
    "papermill": {
     "duration": 0.061067,
     "end_time": "2024-04-18T23:00:45.465244",
     "exception": false,
     "start_time": "2024-04-18T23:00:45.404177",
     "status": "completed"
    },
    "tags": []
   },
   "outputs": [
    {
     "data": {
      "text/html": [
       "<div>\n",
       "<style scoped>\n",
       "    .dataframe tbody tr th:only-of-type {\n",
       "        vertical-align: middle;\n",
       "    }\n",
       "\n",
       "    .dataframe tbody tr th {\n",
       "        vertical-align: top;\n",
       "    }\n",
       "\n",
       "    .dataframe thead th {\n",
       "        text-align: right;\n",
       "    }\n",
       "</style>\n",
       "<table border=\"1\" class=\"dataframe\">\n",
       "  <thead>\n",
       "    <tr style=\"text-align: right;\">\n",
       "      <th></th>\n",
       "      <th>n_estimators</th>\n",
       "      <th>max_depth</th>\n",
       "      <th>min_samples_leaf</th>\n",
       "      <th>accuracy_valid</th>\n",
       "      <th>accuracy_test</th>\n",
       "    </tr>\n",
       "  </thead>\n",
       "  <tbody>\n",
       "    <tr>\n",
       "      <th>0</th>\n",
       "      <td>100.0</td>\n",
       "      <td>5.0</td>\n",
       "      <td>1.0</td>\n",
       "      <td>0.635083</td>\n",
       "      <td>0.631501</td>\n",
       "    </tr>\n",
       "    <tr>\n",
       "      <th>1</th>\n",
       "      <td>100.0</td>\n",
       "      <td>5.0</td>\n",
       "      <td>2.0</td>\n",
       "      <td>0.635083</td>\n",
       "      <td>0.631025</td>\n",
       "    </tr>\n",
       "    <tr>\n",
       "      <th>2</th>\n",
       "      <td>100.0</td>\n",
       "      <td>10.0</td>\n",
       "      <td>1.0</td>\n",
       "      <td>0.645096</td>\n",
       "      <td>0.643811</td>\n",
       "    </tr>\n",
       "    <tr>\n",
       "      <th>3</th>\n",
       "      <td>100.0</td>\n",
       "      <td>10.0</td>\n",
       "      <td>2.0</td>\n",
       "      <td>0.643492</td>\n",
       "      <td>0.643074</td>\n",
       "    </tr>\n",
       "    <tr>\n",
       "      <th>4</th>\n",
       "      <td>200.0</td>\n",
       "      <td>5.0</td>\n",
       "      <td>1.0</td>\n",
       "      <td>0.632266</td>\n",
       "      <td>0.629421</td>\n",
       "    </tr>\n",
       "    <tr>\n",
       "      <th>5</th>\n",
       "      <td>200.0</td>\n",
       "      <td>5.0</td>\n",
       "      <td>2.0</td>\n",
       "      <td>0.632786</td>\n",
       "      <td>0.629464</td>\n",
       "    </tr>\n",
       "    <tr>\n",
       "      <th>6</th>\n",
       "      <td>200.0</td>\n",
       "      <td>10.0</td>\n",
       "      <td>1.0</td>\n",
       "      <td>0.645009</td>\n",
       "      <td>0.643811</td>\n",
       "    </tr>\n",
       "    <tr>\n",
       "      <th>7</th>\n",
       "      <td>200.0</td>\n",
       "      <td>10.0</td>\n",
       "      <td>2.0</td>\n",
       "      <td>0.644272</td>\n",
       "      <td>0.643161</td>\n",
       "    </tr>\n",
       "  </tbody>\n",
       "</table>\n",
       "</div>"
      ],
      "text/plain": [
       "   n_estimators  max_depth  min_samples_leaf  accuracy_valid  accuracy_test\n",
       "0         100.0        5.0               1.0        0.635083       0.631501\n",
       "1         100.0        5.0               2.0        0.635083       0.631025\n",
       "2         100.0       10.0               1.0        0.645096       0.643811\n",
       "3         100.0       10.0               2.0        0.643492       0.643074\n",
       "4         200.0        5.0               1.0        0.632266       0.629421\n",
       "5         200.0        5.0               2.0        0.632786       0.629464\n",
       "6         200.0       10.0               1.0        0.645009       0.643811\n",
       "7         200.0       10.0               2.0        0.644272       0.643161"
      ]
     },
     "execution_count": 68,
     "metadata": {},
     "output_type": "execute_result"
    }
   ],
   "source": [
    "best"
   ]
  },
  {
   "cell_type": "markdown",
   "id": "e3204693",
   "metadata": {
    "papermill": {
     "duration": 0.037939,
     "end_time": "2024-04-18T23:00:45.543107",
     "exception": false,
     "start_time": "2024-04-18T23:00:45.505168",
     "status": "completed"
    },
    "tags": []
   },
   "source": [
    "## E se adicionarmos mais variáveis?"
   ]
  },
  {
   "cell_type": "code",
   "execution_count": 69,
   "id": "fd778df1",
   "metadata": {
    "execution": {
     "iopub.execute_input": "2024-04-18T23:00:45.621652Z",
     "iopub.status.busy": "2024-04-18T23:00:45.621161Z",
     "iopub.status.idle": "2024-04-18T23:00:45.640308Z",
     "shell.execute_reply": "2024-04-18T23:00:45.638634Z"
    },
    "papermill": {
     "duration": 0.06192,
     "end_time": "2024-04-18T23:00:45.642827",
     "exception": false,
     "start_time": "2024-04-18T23:00:45.580907",
     "status": "completed"
    },
    "tags": []
   },
   "outputs": [
    {
     "name": "stdout",
     "output_type": "stream",
     "text": [
      "Shape of X_train: (46142, 15)\n",
      "Shape of y_train: (46142,)\n",
      "Shape of X_val: (23071, 15)\n",
      "Shape of y_val: (23071,)\n",
      "Shape of X_test: (23072, 15)\n",
      "Shape of y_test: (23072,)\n"
     ]
    }
   ],
   "source": [
    "X_train = train_df[['Age','Annual_Income', 'Num_Bank_Accounts','Num_Credit_Card', \n",
    "                    'Interest_Rate', 'Num_of_Loan','Delay_from_due_date', \n",
    "                    'Num_of_Delayed_Payment','Num_Credit_Inquiries', \n",
    "                    'Credit_Mix', 'Outstanding_Debt','Credit_Utilization_Ratio', \n",
    "                    'Credit_History_Age_Months', 'Monthly_Balance',\n",
    "                   'Payment_of_Min_Amount']]\n",
    "y_train = train_df['Credit_Score']\n",
    "\n",
    "X_val = val_df[['Age','Annual_Income', 'Num_Bank_Accounts','Num_Credit_Card', \n",
    "                    'Interest_Rate', 'Num_of_Loan','Delay_from_due_date', \n",
    "                    'Num_of_Delayed_Payment','Num_Credit_Inquiries', \n",
    "                    'Credit_Mix', 'Outstanding_Debt','Credit_Utilization_Ratio', \n",
    "                    'Credit_History_Age_Months', 'Monthly_Balance',\n",
    "                   'Payment_of_Min_Amount']]\n",
    "y_val = val_df['Credit_Score']\n",
    "\n",
    "X_test = test_df[['Age','Annual_Income', 'Num_Bank_Accounts','Num_Credit_Card', \n",
    "                    'Interest_Rate', 'Num_of_Loan','Delay_from_due_date', \n",
    "                    'Num_of_Delayed_Payment','Num_Credit_Inquiries', \n",
    "                    'Credit_Mix', 'Outstanding_Debt','Credit_Utilization_Ratio', \n",
    "                    'Credit_History_Age_Months', 'Monthly_Balance',\n",
    "                   'Payment_of_Min_Amount']]\n",
    "y_test = test_df['Credit_Score']\n",
    "\n",
    "\n",
    "print(f\"Shape of X_train: {X_train.shape}\")\n",
    "print(f\"Shape of y_train: {y_train.shape}\")\n",
    "print(f\"Shape of X_val: {X_val.shape}\")\n",
    "print(f\"Shape of y_val: {y_val.shape}\")\n",
    "print(f\"Shape of X_test: {X_test.shape}\")\n",
    "print(f\"Shape of y_test: {y_test.shape}\")"
   ]
  },
  {
   "cell_type": "code",
   "execution_count": 70,
   "id": "7bd3f5ba",
   "metadata": {
    "execution": {
     "iopub.execute_input": "2024-04-18T23:00:45.722069Z",
     "iopub.status.busy": "2024-04-18T23:00:45.721293Z",
     "iopub.status.idle": "2024-04-18T23:00:45.734484Z",
     "shell.execute_reply": "2024-04-18T23:00:45.733141Z"
    },
    "papermill": {
     "duration": 0.054782,
     "end_time": "2024-04-18T23:00:45.736533",
     "exception": false,
     "start_time": "2024-04-18T23:00:45.681751",
     "status": "completed"
    },
    "tags": []
   },
   "outputs": [
    {
     "data": {
      "text/html": [
       "<div>\n",
       "<style scoped>\n",
       "    .dataframe tbody tr th:only-of-type {\n",
       "        vertical-align: middle;\n",
       "    }\n",
       "\n",
       "    .dataframe tbody tr th {\n",
       "        vertical-align: top;\n",
       "    }\n",
       "\n",
       "    .dataframe thead th {\n",
       "        text-align: right;\n",
       "    }\n",
       "</style>\n",
       "<table border=\"1\" class=\"dataframe\">\n",
       "  <thead>\n",
       "    <tr style=\"text-align: right;\">\n",
       "      <th></th>\n",
       "      <th>n_estimators</th>\n",
       "      <th>max_depth</th>\n",
       "      <th>min_samples_leaf</th>\n",
       "      <th>accuracy_valid</th>\n",
       "      <th>accuracy_test</th>\n",
       "    </tr>\n",
       "  </thead>\n",
       "  <tbody>\n",
       "  </tbody>\n",
       "</table>\n",
       "</div>"
      ],
      "text/plain": [
       "Empty DataFrame\n",
       "Columns: [n_estimators, max_depth, min_samples_leaf, accuracy_valid, accuracy_test]\n",
       "Index: []"
      ]
     },
     "execution_count": 70,
     "metadata": {},
     "output_type": "execute_result"
    }
   ],
   "source": [
    "n = [100,200]\n",
    "depth = [5,10]\n",
    "samples = [1,2]\n",
    "\n",
    "d = ['n_estimators', 'max_depth', 'min_samples_leaf', 'accuracy_valid', 'accuracy_test']\n",
    "best = pd.DataFrame(columns=d)\n",
    "best"
   ]
  },
  {
   "cell_type": "code",
   "execution_count": 71,
   "id": "3298f785",
   "metadata": {
    "execution": {
     "iopub.execute_input": "2024-04-18T23:00:45.816503Z",
     "iopub.status.busy": "2024-04-18T23:00:45.815183Z",
     "iopub.status.idle": "2024-04-18T23:02:04.258620Z",
     "shell.execute_reply": "2024-04-18T23:02:04.257231Z"
    },
    "papermill": {
     "duration": 78.48684,
     "end_time": "2024-04-18T23:02:04.261325",
     "exception": false,
     "start_time": "2024-04-18T23:00:45.774485",
     "status": "completed"
    },
    "tags": []
   },
   "outputs": [],
   "source": [
    "for i in n:\n",
    "    for d in depth:\n",
    "        for s in samples:\n",
    "            clf = RandomForestClassifier(n_estimators = i,\n",
    "                                         max_depth = d,\n",
    "                                         min_samples_leaf = s,\n",
    "                                         random_state=42)\n",
    "            clf.fit(X_train,y_train)\n",
    "            val_pred = clf.predict(X_val)\n",
    "            test_pred = clf.predict(X_test)\n",
    "            best.loc[len(best.index)] = [i,d,s,accuracy_score(y_val,val_pred), \n",
    "                                        accuracy_score(y_test,test_pred)]"
   ]
  },
  {
   "cell_type": "code",
   "execution_count": 72,
   "id": "c8015600",
   "metadata": {
    "execution": {
     "iopub.execute_input": "2024-04-18T23:02:04.340488Z",
     "iopub.status.busy": "2024-04-18T23:02:04.340033Z",
     "iopub.status.idle": "2024-04-18T23:02:04.356132Z",
     "shell.execute_reply": "2024-04-18T23:02:04.354691Z"
    },
    "papermill": {
     "duration": 0.058412,
     "end_time": "2024-04-18T23:02:04.358301",
     "exception": false,
     "start_time": "2024-04-18T23:02:04.299889",
     "status": "completed"
    },
    "tags": []
   },
   "outputs": [
    {
     "data": {
      "text/html": [
       "<div>\n",
       "<style scoped>\n",
       "    .dataframe tbody tr th:only-of-type {\n",
       "        vertical-align: middle;\n",
       "    }\n",
       "\n",
       "    .dataframe tbody tr th {\n",
       "        vertical-align: top;\n",
       "    }\n",
       "\n",
       "    .dataframe thead th {\n",
       "        text-align: right;\n",
       "    }\n",
       "</style>\n",
       "<table border=\"1\" class=\"dataframe\">\n",
       "  <thead>\n",
       "    <tr style=\"text-align: right;\">\n",
       "      <th></th>\n",
       "      <th>n_estimators</th>\n",
       "      <th>max_depth</th>\n",
       "      <th>min_samples_leaf</th>\n",
       "      <th>accuracy_valid</th>\n",
       "      <th>accuracy_test</th>\n",
       "    </tr>\n",
       "  </thead>\n",
       "  <tbody>\n",
       "    <tr>\n",
       "      <th>0</th>\n",
       "      <td>100.0</td>\n",
       "      <td>5.0</td>\n",
       "      <td>1.0</td>\n",
       "      <td>0.659703</td>\n",
       "      <td>0.652566</td>\n",
       "    </tr>\n",
       "    <tr>\n",
       "      <th>1</th>\n",
       "      <td>100.0</td>\n",
       "      <td>5.0</td>\n",
       "      <td>2.0</td>\n",
       "      <td>0.659443</td>\n",
       "      <td>0.652783</td>\n",
       "    </tr>\n",
       "    <tr>\n",
       "      <th>2</th>\n",
       "      <td>100.0</td>\n",
       "      <td>10.0</td>\n",
       "      <td>1.0</td>\n",
       "      <td>0.710979</td>\n",
       "      <td>0.707784</td>\n",
       "    </tr>\n",
       "    <tr>\n",
       "      <th>3</th>\n",
       "      <td>100.0</td>\n",
       "      <td>10.0</td>\n",
       "      <td>2.0</td>\n",
       "      <td>0.710979</td>\n",
       "      <td>0.705964</td>\n",
       "    </tr>\n",
       "    <tr>\n",
       "      <th>4</th>\n",
       "      <td>200.0</td>\n",
       "      <td>5.0</td>\n",
       "      <td>1.0</td>\n",
       "      <td>0.659963</td>\n",
       "      <td>0.654733</td>\n",
       "    </tr>\n",
       "    <tr>\n",
       "      <th>5</th>\n",
       "      <td>200.0</td>\n",
       "      <td>5.0</td>\n",
       "      <td>2.0</td>\n",
       "      <td>0.659529</td>\n",
       "      <td>0.654473</td>\n",
       "    </tr>\n",
       "    <tr>\n",
       "      <th>6</th>\n",
       "      <td>200.0</td>\n",
       "      <td>10.0</td>\n",
       "      <td>1.0</td>\n",
       "      <td>0.712583</td>\n",
       "      <td>0.707221</td>\n",
       "    </tr>\n",
       "    <tr>\n",
       "      <th>7</th>\n",
       "      <td>200.0</td>\n",
       "      <td>10.0</td>\n",
       "      <td>2.0</td>\n",
       "      <td>0.713450</td>\n",
       "      <td>0.706961</td>\n",
       "    </tr>\n",
       "  </tbody>\n",
       "</table>\n",
       "</div>"
      ],
      "text/plain": [
       "   n_estimators  max_depth  min_samples_leaf  accuracy_valid  accuracy_test\n",
       "0         100.0        5.0               1.0        0.659703       0.652566\n",
       "1         100.0        5.0               2.0        0.659443       0.652783\n",
       "2         100.0       10.0               1.0        0.710979       0.707784\n",
       "3         100.0       10.0               2.0        0.710979       0.705964\n",
       "4         200.0        5.0               1.0        0.659963       0.654733\n",
       "5         200.0        5.0               2.0        0.659529       0.654473\n",
       "6         200.0       10.0               1.0        0.712583       0.707221\n",
       "7         200.0       10.0               2.0        0.713450       0.706961"
      ]
     },
     "execution_count": 72,
     "metadata": {},
     "output_type": "execute_result"
    }
   ],
   "source": [
    "best"
   ]
  },
  {
   "cell_type": "markdown",
   "id": "b96dee34",
   "metadata": {
    "papermill": {
     "duration": 0.038132,
     "end_time": "2024-04-18T23:02:04.434709",
     "exception": false,
     "start_time": "2024-04-18T23:02:04.396577",
     "status": "completed"
    },
    "tags": []
   },
   "source": [
    "Vemos que os melhores parâmetros foram: n_estimators = 200, max_depth = 10, min_samples_leaf = 1.\n",
    "\n",
    "Note também que, ao aumentarmos n_estimators e fixarmos max_depth = 10 e min_samples_leaf = 1, os resultados estão tendendo a uma melhora. Vamos então fazer mais testes."
   ]
  },
  {
   "cell_type": "code",
   "execution_count": 73,
   "id": "6dbde182",
   "metadata": {
    "execution": {
     "iopub.execute_input": "2024-04-18T23:02:04.515031Z",
     "iopub.status.busy": "2024-04-18T23:02:04.513643Z",
     "iopub.status.idle": "2024-04-18T23:03:42.709447Z",
     "shell.execute_reply": "2024-04-18T23:03:42.708336Z"
    },
    "papermill": {
     "duration": 98.239012,
     "end_time": "2024-04-18T23:03:42.712006",
     "exception": false,
     "start_time": "2024-04-18T23:02:04.472994",
     "status": "completed"
    },
    "tags": []
   },
   "outputs": [],
   "source": [
    "n = [300,400,500]\n",
    "\n",
    "for i in n:\n",
    "    clf = RandomForestClassifier(n_estimators = i,\n",
    "                                 max_depth = d,\n",
    "                                 min_samples_leaf = s,\n",
    "                                 random_state=42)\n",
    "    clf.fit(X_train,y_train)\n",
    "    val_pred = clf.predict(X_val)\n",
    "    test_pred = clf.predict(X_test)\n",
    "    best.loc[len(best.index)] = [i,10,1,accuracy_score(y_val,val_pred), \n",
    "                                accuracy_score(y_test,test_pred)]"
   ]
  },
  {
   "cell_type": "code",
   "execution_count": 74,
   "id": "515ba53a",
   "metadata": {
    "execution": {
     "iopub.execute_input": "2024-04-18T23:03:42.791892Z",
     "iopub.status.busy": "2024-04-18T23:03:42.791162Z",
     "iopub.status.idle": "2024-04-18T23:03:42.806804Z",
     "shell.execute_reply": "2024-04-18T23:03:42.805623Z"
    },
    "papermill": {
     "duration": 0.058406,
     "end_time": "2024-04-18T23:03:42.809108",
     "exception": false,
     "start_time": "2024-04-18T23:03:42.750702",
     "status": "completed"
    },
    "tags": []
   },
   "outputs": [
    {
     "data": {
      "text/html": [
       "<div>\n",
       "<style scoped>\n",
       "    .dataframe tbody tr th:only-of-type {\n",
       "        vertical-align: middle;\n",
       "    }\n",
       "\n",
       "    .dataframe tbody tr th {\n",
       "        vertical-align: top;\n",
       "    }\n",
       "\n",
       "    .dataframe thead th {\n",
       "        text-align: right;\n",
       "    }\n",
       "</style>\n",
       "<table border=\"1\" class=\"dataframe\">\n",
       "  <thead>\n",
       "    <tr style=\"text-align: right;\">\n",
       "      <th></th>\n",
       "      <th>n_estimators</th>\n",
       "      <th>max_depth</th>\n",
       "      <th>min_samples_leaf</th>\n",
       "      <th>accuracy_valid</th>\n",
       "      <th>accuracy_test</th>\n",
       "    </tr>\n",
       "  </thead>\n",
       "  <tbody>\n",
       "    <tr>\n",
       "      <th>0</th>\n",
       "      <td>100.0</td>\n",
       "      <td>5.0</td>\n",
       "      <td>1.0</td>\n",
       "      <td>0.659703</td>\n",
       "      <td>0.652566</td>\n",
       "    </tr>\n",
       "    <tr>\n",
       "      <th>1</th>\n",
       "      <td>100.0</td>\n",
       "      <td>5.0</td>\n",
       "      <td>2.0</td>\n",
       "      <td>0.659443</td>\n",
       "      <td>0.652783</td>\n",
       "    </tr>\n",
       "    <tr>\n",
       "      <th>2</th>\n",
       "      <td>100.0</td>\n",
       "      <td>10.0</td>\n",
       "      <td>1.0</td>\n",
       "      <td>0.710979</td>\n",
       "      <td>0.707784</td>\n",
       "    </tr>\n",
       "    <tr>\n",
       "      <th>3</th>\n",
       "      <td>100.0</td>\n",
       "      <td>10.0</td>\n",
       "      <td>2.0</td>\n",
       "      <td>0.710979</td>\n",
       "      <td>0.705964</td>\n",
       "    </tr>\n",
       "    <tr>\n",
       "      <th>4</th>\n",
       "      <td>200.0</td>\n",
       "      <td>5.0</td>\n",
       "      <td>1.0</td>\n",
       "      <td>0.659963</td>\n",
       "      <td>0.654733</td>\n",
       "    </tr>\n",
       "    <tr>\n",
       "      <th>5</th>\n",
       "      <td>200.0</td>\n",
       "      <td>5.0</td>\n",
       "      <td>2.0</td>\n",
       "      <td>0.659529</td>\n",
       "      <td>0.654473</td>\n",
       "    </tr>\n",
       "    <tr>\n",
       "      <th>6</th>\n",
       "      <td>200.0</td>\n",
       "      <td>10.0</td>\n",
       "      <td>1.0</td>\n",
       "      <td>0.712583</td>\n",
       "      <td>0.707221</td>\n",
       "    </tr>\n",
       "    <tr>\n",
       "      <th>7</th>\n",
       "      <td>200.0</td>\n",
       "      <td>10.0</td>\n",
       "      <td>2.0</td>\n",
       "      <td>0.713450</td>\n",
       "      <td>0.706961</td>\n",
       "    </tr>\n",
       "    <tr>\n",
       "      <th>8</th>\n",
       "      <td>300.0</td>\n",
       "      <td>10.0</td>\n",
       "      <td>1.0</td>\n",
       "      <td>0.713580</td>\n",
       "      <td>0.707524</td>\n",
       "    </tr>\n",
       "    <tr>\n",
       "      <th>9</th>\n",
       "      <td>400.0</td>\n",
       "      <td>10.0</td>\n",
       "      <td>1.0</td>\n",
       "      <td>0.713363</td>\n",
       "      <td>0.707871</td>\n",
       "    </tr>\n",
       "    <tr>\n",
       "      <th>10</th>\n",
       "      <td>500.0</td>\n",
       "      <td>10.0</td>\n",
       "      <td>1.0</td>\n",
       "      <td>0.713450</td>\n",
       "      <td>0.708564</td>\n",
       "    </tr>\n",
       "  </tbody>\n",
       "</table>\n",
       "</div>"
      ],
      "text/plain": [
       "    n_estimators  max_depth  min_samples_leaf  accuracy_valid  accuracy_test\n",
       "0          100.0        5.0               1.0        0.659703       0.652566\n",
       "1          100.0        5.0               2.0        0.659443       0.652783\n",
       "2          100.0       10.0               1.0        0.710979       0.707784\n",
       "3          100.0       10.0               2.0        0.710979       0.705964\n",
       "4          200.0        5.0               1.0        0.659963       0.654733\n",
       "5          200.0        5.0               2.0        0.659529       0.654473\n",
       "6          200.0       10.0               1.0        0.712583       0.707221\n",
       "7          200.0       10.0               2.0        0.713450       0.706961\n",
       "8          300.0       10.0               1.0        0.713580       0.707524\n",
       "9          400.0       10.0               1.0        0.713363       0.707871\n",
       "10         500.0       10.0               1.0        0.713450       0.708564"
      ]
     },
     "execution_count": 74,
     "metadata": {},
     "output_type": "execute_result"
    }
   ],
   "source": [
    "best"
   ]
  },
  {
   "cell_type": "markdown",
   "id": "cfe31142",
   "metadata": {
    "papermill": {
     "duration": 0.038886,
     "end_time": "2024-04-18T23:03:42.886446",
     "exception": false,
     "start_time": "2024-04-18T23:03:42.847560",
     "status": "completed"
    },
    "tags": []
   },
   "source": [
    "De fato há uma melhora, mas não muito significativa.\n",
    "\n",
    "Para os testes com Gradient Boosting, vamos manter as features que adicionamos."
   ]
  },
  {
   "cell_type": "markdown",
   "id": "7c38f688",
   "metadata": {
    "papermill": {
     "duration": 0.038417,
     "end_time": "2024-04-18T23:03:42.963836",
     "exception": false,
     "start_time": "2024-04-18T23:03:42.925419",
     "status": "completed"
    },
    "tags": []
   },
   "source": [
    "# Gradient Boosting Classifier"
   ]
  },
  {
   "cell_type": "code",
   "execution_count": 75,
   "id": "2e9a5eb9",
   "metadata": {
    "execution": {
     "iopub.execute_input": "2024-04-18T23:03:43.044933Z",
     "iopub.status.busy": "2024-04-18T23:03:43.043398Z",
     "iopub.status.idle": "2024-04-18T23:03:43.056470Z",
     "shell.execute_reply": "2024-04-18T23:03:43.055136Z"
    },
    "papermill": {
     "duration": 0.056402,
     "end_time": "2024-04-18T23:03:43.059126",
     "exception": false,
     "start_time": "2024-04-18T23:03:43.002724",
     "status": "completed"
    },
    "tags": []
   },
   "outputs": [
    {
     "data": {
      "text/html": [
       "<div>\n",
       "<style scoped>\n",
       "    .dataframe tbody tr th:only-of-type {\n",
       "        vertical-align: middle;\n",
       "    }\n",
       "\n",
       "    .dataframe tbody tr th {\n",
       "        vertical-align: top;\n",
       "    }\n",
       "\n",
       "    .dataframe thead th {\n",
       "        text-align: right;\n",
       "    }\n",
       "</style>\n",
       "<table border=\"1\" class=\"dataframe\">\n",
       "  <thead>\n",
       "    <tr style=\"text-align: right;\">\n",
       "      <th></th>\n",
       "      <th>n_estimators</th>\n",
       "      <th>learning_rate</th>\n",
       "      <th>accuracy_valid</th>\n",
       "      <th>accuracy_test</th>\n",
       "    </tr>\n",
       "  </thead>\n",
       "  <tbody>\n",
       "  </tbody>\n",
       "</table>\n",
       "</div>"
      ],
      "text/plain": [
       "Empty DataFrame\n",
       "Columns: [n_estimators, learning_rate, accuracy_valid, accuracy_test]\n",
       "Index: []"
      ]
     },
     "execution_count": 75,
     "metadata": {},
     "output_type": "execute_result"
    }
   ],
   "source": [
    "n = [100,200,300]\n",
    "learning = [0.1,0.01]\n",
    "\n",
    "d = ['n_estimators', 'learning_rate', 'accuracy_valid', 'accuracy_test']\n",
    "best = pd.DataFrame(columns=d)\n",
    "best"
   ]
  },
  {
   "cell_type": "code",
   "execution_count": 76,
   "id": "bb63ba1c",
   "metadata": {
    "execution": {
     "iopub.execute_input": "2024-04-18T23:03:43.140429Z",
     "iopub.status.busy": "2024-04-18T23:03:43.139454Z",
     "iopub.status.idle": "2024-04-18T23:12:15.959463Z",
     "shell.execute_reply": "2024-04-18T23:12:15.957888Z"
    },
    "papermill": {
     "duration": 512.86402,
     "end_time": "2024-04-18T23:12:15.962420",
     "exception": false,
     "start_time": "2024-04-18T23:03:43.098400",
     "status": "completed"
    },
    "tags": []
   },
   "outputs": [],
   "source": [
    "for i in n:\n",
    "    for d in learning:\n",
    "        clf = GradientBoostingClassifier(n_estimators = i,\n",
    "                                         learning_rate = d,\n",
    "                                         random_state=42)\n",
    "        clf.fit(X_train,y_train)\n",
    "        val_pred = clf.predict(X_val)\n",
    "        test_pred = clf.predict(X_test)\n",
    "        best.loc[len(best.index)] = [i,d,accuracy_score(y_val,val_pred), \n",
    "                                    accuracy_score(y_test,test_pred)]"
   ]
  },
  {
   "cell_type": "code",
   "execution_count": 77,
   "id": "2c995a9c",
   "metadata": {
    "execution": {
     "iopub.execute_input": "2024-04-18T23:12:16.044477Z",
     "iopub.status.busy": "2024-04-18T23:12:16.044011Z",
     "iopub.status.idle": "2024-04-18T23:12:16.057940Z",
     "shell.execute_reply": "2024-04-18T23:12:16.056572Z"
    },
    "papermill": {
     "duration": 0.058417,
     "end_time": "2024-04-18T23:12:16.060564",
     "exception": false,
     "start_time": "2024-04-18T23:12:16.002147",
     "status": "completed"
    },
    "tags": []
   },
   "outputs": [
    {
     "data": {
      "text/html": [
       "<div>\n",
       "<style scoped>\n",
       "    .dataframe tbody tr th:only-of-type {\n",
       "        vertical-align: middle;\n",
       "    }\n",
       "\n",
       "    .dataframe tbody tr th {\n",
       "        vertical-align: top;\n",
       "    }\n",
       "\n",
       "    .dataframe thead th {\n",
       "        text-align: right;\n",
       "    }\n",
       "</style>\n",
       "<table border=\"1\" class=\"dataframe\">\n",
       "  <thead>\n",
       "    <tr style=\"text-align: right;\">\n",
       "      <th></th>\n",
       "      <th>n_estimators</th>\n",
       "      <th>learning_rate</th>\n",
       "      <th>accuracy_valid</th>\n",
       "      <th>accuracy_test</th>\n",
       "    </tr>\n",
       "  </thead>\n",
       "  <tbody>\n",
       "    <tr>\n",
       "      <th>0</th>\n",
       "      <td>100.0</td>\n",
       "      <td>0.10</td>\n",
       "      <td>0.698669</td>\n",
       "      <td>0.693871</td>\n",
       "    </tr>\n",
       "    <tr>\n",
       "      <th>1</th>\n",
       "      <td>100.0</td>\n",
       "      <td>0.01</td>\n",
       "      <td>0.649863</td>\n",
       "      <td>0.646238</td>\n",
       "    </tr>\n",
       "    <tr>\n",
       "      <th>2</th>\n",
       "      <td>200.0</td>\n",
       "      <td>0.10</td>\n",
       "      <td>0.704694</td>\n",
       "      <td>0.699376</td>\n",
       "    </tr>\n",
       "    <tr>\n",
       "      <th>3</th>\n",
       "      <td>200.0</td>\n",
       "      <td>0.01</td>\n",
       "      <td>0.679121</td>\n",
       "      <td>0.671940</td>\n",
       "    </tr>\n",
       "    <tr>\n",
       "      <th>4</th>\n",
       "      <td>300.0</td>\n",
       "      <td>0.10</td>\n",
       "      <td>0.709245</td>\n",
       "      <td>0.704404</td>\n",
       "    </tr>\n",
       "    <tr>\n",
       "      <th>5</th>\n",
       "      <td>300.0</td>\n",
       "      <td>0.01</td>\n",
       "      <td>0.684452</td>\n",
       "      <td>0.676404</td>\n",
       "    </tr>\n",
       "  </tbody>\n",
       "</table>\n",
       "</div>"
      ],
      "text/plain": [
       "   n_estimators  learning_rate  accuracy_valid  accuracy_test\n",
       "0         100.0           0.10        0.698669       0.693871\n",
       "1         100.0           0.01        0.649863       0.646238\n",
       "2         200.0           0.10        0.704694       0.699376\n",
       "3         200.0           0.01        0.679121       0.671940\n",
       "4         300.0           0.10        0.709245       0.704404\n",
       "5         300.0           0.01        0.684452       0.676404"
      ]
     },
     "execution_count": 77,
     "metadata": {},
     "output_type": "execute_result"
    }
   ],
   "source": [
    "best"
   ]
  },
  {
   "cell_type": "markdown",
   "id": "c0af5b08",
   "metadata": {
    "papermill": {
     "duration": 0.040355,
     "end_time": "2024-04-18T23:12:16.141291",
     "exception": false,
     "start_time": "2024-04-18T23:12:16.100936",
     "status": "completed"
    },
    "tags": []
   },
   "source": [
    "Os resultados com n_estimators crescendo e learning_rate = 0.1 vêm crescendo, então vamos fazer mais testes."
   ]
  },
  {
   "cell_type": "code",
   "execution_count": 78,
   "id": "7b64fc0f",
   "metadata": {
    "execution": {
     "iopub.execute_input": "2024-04-18T23:12:16.225254Z",
     "iopub.status.busy": "2024-04-18T23:12:16.224797Z",
     "iopub.status.idle": "2024-04-18T23:22:57.018299Z",
     "shell.execute_reply": "2024-04-18T23:22:57.017221Z"
    },
    "papermill": {
     "duration": 640.83959,
     "end_time": "2024-04-18T23:22:57.021284",
     "exception": false,
     "start_time": "2024-04-18T23:12:16.181694",
     "status": "completed"
    },
    "tags": []
   },
   "outputs": [],
   "source": [
    "n = [400,500,600]\n",
    "\n",
    "for i in n:\n",
    "    clf = GradientBoostingClassifier(n_estimators = i,\n",
    "                                         learning_rate = 0.1,\n",
    "                                         random_state=42)\n",
    "    clf.fit(X_train,y_train)\n",
    "    val_pred = clf.predict(X_val)\n",
    "    test_pred = clf.predict(X_test)\n",
    "    best.loc[len(best.index)] = [i,0.1,accuracy_score(y_val,val_pred), \n",
    "                                accuracy_score(y_test,test_pred)]"
   ]
  },
  {
   "cell_type": "code",
   "execution_count": 79,
   "id": "812587d7",
   "metadata": {
    "execution": {
     "iopub.execute_input": "2024-04-18T23:22:57.105713Z",
     "iopub.status.busy": "2024-04-18T23:22:57.104468Z",
     "iopub.status.idle": "2024-04-18T23:22:57.118182Z",
     "shell.execute_reply": "2024-04-18T23:22:57.117243Z"
    },
    "papermill": {
     "duration": 0.05847,
     "end_time": "2024-04-18T23:22:57.120448",
     "exception": false,
     "start_time": "2024-04-18T23:22:57.061978",
     "status": "completed"
    },
    "tags": []
   },
   "outputs": [
    {
     "data": {
      "text/html": [
       "<div>\n",
       "<style scoped>\n",
       "    .dataframe tbody tr th:only-of-type {\n",
       "        vertical-align: middle;\n",
       "    }\n",
       "\n",
       "    .dataframe tbody tr th {\n",
       "        vertical-align: top;\n",
       "    }\n",
       "\n",
       "    .dataframe thead th {\n",
       "        text-align: right;\n",
       "    }\n",
       "</style>\n",
       "<table border=\"1\" class=\"dataframe\">\n",
       "  <thead>\n",
       "    <tr style=\"text-align: right;\">\n",
       "      <th></th>\n",
       "      <th>n_estimators</th>\n",
       "      <th>learning_rate</th>\n",
       "      <th>accuracy_valid</th>\n",
       "      <th>accuracy_test</th>\n",
       "    </tr>\n",
       "  </thead>\n",
       "  <tbody>\n",
       "    <tr>\n",
       "      <th>0</th>\n",
       "      <td>100.0</td>\n",
       "      <td>0.10</td>\n",
       "      <td>0.698669</td>\n",
       "      <td>0.693871</td>\n",
       "    </tr>\n",
       "    <tr>\n",
       "      <th>1</th>\n",
       "      <td>100.0</td>\n",
       "      <td>0.01</td>\n",
       "      <td>0.649863</td>\n",
       "      <td>0.646238</td>\n",
       "    </tr>\n",
       "    <tr>\n",
       "      <th>2</th>\n",
       "      <td>200.0</td>\n",
       "      <td>0.10</td>\n",
       "      <td>0.704694</td>\n",
       "      <td>0.699376</td>\n",
       "    </tr>\n",
       "    <tr>\n",
       "      <th>3</th>\n",
       "      <td>200.0</td>\n",
       "      <td>0.01</td>\n",
       "      <td>0.679121</td>\n",
       "      <td>0.671940</td>\n",
       "    </tr>\n",
       "    <tr>\n",
       "      <th>4</th>\n",
       "      <td>300.0</td>\n",
       "      <td>0.10</td>\n",
       "      <td>0.709245</td>\n",
       "      <td>0.704404</td>\n",
       "    </tr>\n",
       "    <tr>\n",
       "      <th>5</th>\n",
       "      <td>300.0</td>\n",
       "      <td>0.01</td>\n",
       "      <td>0.684452</td>\n",
       "      <td>0.676404</td>\n",
       "    </tr>\n",
       "    <tr>\n",
       "      <th>6</th>\n",
       "      <td>400.0</td>\n",
       "      <td>0.10</td>\n",
       "      <td>0.711283</td>\n",
       "      <td>0.707784</td>\n",
       "    </tr>\n",
       "    <tr>\n",
       "      <th>7</th>\n",
       "      <td>500.0</td>\n",
       "      <td>0.10</td>\n",
       "      <td>0.713797</td>\n",
       "      <td>0.711685</td>\n",
       "    </tr>\n",
       "    <tr>\n",
       "      <th>8</th>\n",
       "      <td>600.0</td>\n",
       "      <td>0.10</td>\n",
       "      <td>0.717264</td>\n",
       "      <td>0.714806</td>\n",
       "    </tr>\n",
       "  </tbody>\n",
       "</table>\n",
       "</div>"
      ],
      "text/plain": [
       "   n_estimators  learning_rate  accuracy_valid  accuracy_test\n",
       "0         100.0           0.10        0.698669       0.693871\n",
       "1         100.0           0.01        0.649863       0.646238\n",
       "2         200.0           0.10        0.704694       0.699376\n",
       "3         200.0           0.01        0.679121       0.671940\n",
       "4         300.0           0.10        0.709245       0.704404\n",
       "5         300.0           0.01        0.684452       0.676404\n",
       "6         400.0           0.10        0.711283       0.707784\n",
       "7         500.0           0.10        0.713797       0.711685\n",
       "8         600.0           0.10        0.717264       0.714806"
      ]
     },
     "execution_count": 79,
     "metadata": {},
     "output_type": "execute_result"
    }
   ],
   "source": [
    "best"
   ]
  },
  {
   "cell_type": "markdown",
   "id": "0ea678cc",
   "metadata": {
    "papermill": {
     "duration": 0.04007,
     "end_time": "2024-04-18T23:22:57.200918",
     "exception": false,
     "start_time": "2024-04-18T23:22:57.160848",
     "status": "completed"
    },
    "tags": []
   },
   "source": [
    "De fato, ao aumentarmos o n_estimators, o resultado melhorou. Será que ao fazermos uma cross-validation, podemos melhorar o resultado sem aumentar o n_estimators? Veremos."
   ]
  },
  {
   "cell_type": "markdown",
   "id": "78d34f19",
   "metadata": {
    "papermill": {
     "duration": 0.04125,
     "end_time": "2024-04-18T23:22:57.282357",
     "exception": false,
     "start_time": "2024-04-18T23:22:57.241107",
     "status": "completed"
    },
    "tags": []
   },
   "source": [
    "# Random Forest com CV"
   ]
  },
  {
   "cell_type": "code",
   "execution_count": 80,
   "id": "8c1d1296",
   "metadata": {
    "execution": {
     "iopub.execute_input": "2024-04-18T23:22:57.365932Z",
     "iopub.status.busy": "2024-04-18T23:22:57.365469Z",
     "iopub.status.idle": "2024-04-18T23:29:09.586356Z",
     "shell.execute_reply": "2024-04-18T23:29:09.585319Z"
    },
    "papermill": {
     "duration": 372.307999,
     "end_time": "2024-04-18T23:29:09.631265",
     "exception": false,
     "start_time": "2024-04-18T23:22:57.323266",
     "status": "completed"
    },
    "tags": []
   },
   "outputs": [
    {
     "data": {
      "text/html": [
       "<style>#sk-container-id-1 {color: black;background-color: white;}#sk-container-id-1 pre{padding: 0;}#sk-container-id-1 div.sk-toggleable {background-color: white;}#sk-container-id-1 label.sk-toggleable__label {cursor: pointer;display: block;width: 100%;margin-bottom: 0;padding: 0.3em;box-sizing: border-box;text-align: center;}#sk-container-id-1 label.sk-toggleable__label-arrow:before {content: \"▸\";float: left;margin-right: 0.25em;color: #696969;}#sk-container-id-1 label.sk-toggleable__label-arrow:hover:before {color: black;}#sk-container-id-1 div.sk-estimator:hover label.sk-toggleable__label-arrow:before {color: black;}#sk-container-id-1 div.sk-toggleable__content {max-height: 0;max-width: 0;overflow: hidden;text-align: left;background-color: #f0f8ff;}#sk-container-id-1 div.sk-toggleable__content pre {margin: 0.2em;color: black;border-radius: 0.25em;background-color: #f0f8ff;}#sk-container-id-1 input.sk-toggleable__control:checked~div.sk-toggleable__content {max-height: 200px;max-width: 100%;overflow: auto;}#sk-container-id-1 input.sk-toggleable__control:checked~label.sk-toggleable__label-arrow:before {content: \"▾\";}#sk-container-id-1 div.sk-estimator input.sk-toggleable__control:checked~label.sk-toggleable__label {background-color: #d4ebff;}#sk-container-id-1 div.sk-label input.sk-toggleable__control:checked~label.sk-toggleable__label {background-color: #d4ebff;}#sk-container-id-1 input.sk-hidden--visually {border: 0;clip: rect(1px 1px 1px 1px);clip: rect(1px, 1px, 1px, 1px);height: 1px;margin: -1px;overflow: hidden;padding: 0;position: absolute;width: 1px;}#sk-container-id-1 div.sk-estimator {font-family: monospace;background-color: #f0f8ff;border: 1px dotted black;border-radius: 0.25em;box-sizing: border-box;margin-bottom: 0.5em;}#sk-container-id-1 div.sk-estimator:hover {background-color: #d4ebff;}#sk-container-id-1 div.sk-parallel-item::after {content: \"\";width: 100%;border-bottom: 1px solid gray;flex-grow: 1;}#sk-container-id-1 div.sk-label:hover label.sk-toggleable__label {background-color: #d4ebff;}#sk-container-id-1 div.sk-serial::before {content: \"\";position: absolute;border-left: 1px solid gray;box-sizing: border-box;top: 0;bottom: 0;left: 50%;z-index: 0;}#sk-container-id-1 div.sk-serial {display: flex;flex-direction: column;align-items: center;background-color: white;padding-right: 0.2em;padding-left: 0.2em;position: relative;}#sk-container-id-1 div.sk-item {position: relative;z-index: 1;}#sk-container-id-1 div.sk-parallel {display: flex;align-items: stretch;justify-content: center;background-color: white;position: relative;}#sk-container-id-1 div.sk-item::before, #sk-container-id-1 div.sk-parallel-item::before {content: \"\";position: absolute;border-left: 1px solid gray;box-sizing: border-box;top: 0;bottom: 0;left: 50%;z-index: -1;}#sk-container-id-1 div.sk-parallel-item {display: flex;flex-direction: column;z-index: 1;position: relative;background-color: white;}#sk-container-id-1 div.sk-parallel-item:first-child::after {align-self: flex-end;width: 50%;}#sk-container-id-1 div.sk-parallel-item:last-child::after {align-self: flex-start;width: 50%;}#sk-container-id-1 div.sk-parallel-item:only-child::after {width: 0;}#sk-container-id-1 div.sk-dashed-wrapped {border: 1px dashed gray;margin: 0 0.4em 0.5em 0.4em;box-sizing: border-box;padding-bottom: 0.4em;background-color: white;}#sk-container-id-1 div.sk-label label {font-family: monospace;font-weight: bold;display: inline-block;line-height: 1.2em;}#sk-container-id-1 div.sk-label-container {text-align: center;}#sk-container-id-1 div.sk-container {/* jupyter's `normalize.less` sets `[hidden] { display: none; }` but bootstrap.min.css set `[hidden] { display: none !important; }` so we also need the `!important` here to be able to override the default hidden behavior on the sphinx rendered scikit-learn.org. See: https://github.com/scikit-learn/scikit-learn/issues/21755 */display: inline-block !important;position: relative;}#sk-container-id-1 div.sk-text-repr-fallback {display: none;}</style><div id=\"sk-container-id-1\" class=\"sk-top-container\"><div class=\"sk-text-repr-fallback\"><pre>GridSearchCV(cv=3, estimator=RandomForestClassifier(random_state=42), n_jobs=-1,\n",
       "             param_grid={&#x27;max_depth&#x27;: [5, 10, 15], &#x27;min_samples_leaf&#x27;: [1, 2],\n",
       "                         &#x27;n_estimators&#x27;: [100, 200, 300, 400]})</pre><b>In a Jupyter environment, please rerun this cell to show the HTML representation or trust the notebook. <br />On GitHub, the HTML representation is unable to render, please try loading this page with nbviewer.org.</b></div><div class=\"sk-container\" hidden><div class=\"sk-item sk-dashed-wrapped\"><div class=\"sk-label-container\"><div class=\"sk-label sk-toggleable\"><input class=\"sk-toggleable__control sk-hidden--visually\" id=\"sk-estimator-id-1\" type=\"checkbox\" ><label for=\"sk-estimator-id-1\" class=\"sk-toggleable__label sk-toggleable__label-arrow\">GridSearchCV</label><div class=\"sk-toggleable__content\"><pre>GridSearchCV(cv=3, estimator=RandomForestClassifier(random_state=42), n_jobs=-1,\n",
       "             param_grid={&#x27;max_depth&#x27;: [5, 10, 15], &#x27;min_samples_leaf&#x27;: [1, 2],\n",
       "                         &#x27;n_estimators&#x27;: [100, 200, 300, 400]})</pre></div></div></div><div class=\"sk-parallel\"><div class=\"sk-parallel-item\"><div class=\"sk-item\"><div class=\"sk-label-container\"><div class=\"sk-label sk-toggleable\"><input class=\"sk-toggleable__control sk-hidden--visually\" id=\"sk-estimator-id-2\" type=\"checkbox\" ><label for=\"sk-estimator-id-2\" class=\"sk-toggleable__label sk-toggleable__label-arrow\">estimator: RandomForestClassifier</label><div class=\"sk-toggleable__content\"><pre>RandomForestClassifier(random_state=42)</pre></div></div></div><div class=\"sk-serial\"><div class=\"sk-item\"><div class=\"sk-estimator sk-toggleable\"><input class=\"sk-toggleable__control sk-hidden--visually\" id=\"sk-estimator-id-3\" type=\"checkbox\" ><label for=\"sk-estimator-id-3\" class=\"sk-toggleable__label sk-toggleable__label-arrow\">RandomForestClassifier</label><div class=\"sk-toggleable__content\"><pre>RandomForestClassifier(random_state=42)</pre></div></div></div></div></div></div></div></div></div></div>"
      ],
      "text/plain": [
       "GridSearchCV(cv=3, estimator=RandomForestClassifier(random_state=42), n_jobs=-1,\n",
       "             param_grid={'max_depth': [5, 10, 15], 'min_samples_leaf': [1, 2],\n",
       "                         'n_estimators': [100, 200, 300, 400]})"
      ]
     },
     "execution_count": 80,
     "metadata": {},
     "output_type": "execute_result"
    }
   ],
   "source": [
    "params = {\n",
    "    'n_estimators' : [100,200,300,400],\n",
    "    'max_depth' : [5,10,15],\n",
    "    'min_samples_leaf' : [1,2]\n",
    "}\n",
    "\n",
    "clf = RandomForestClassifier(random_state=42)\n",
    "grid = GridSearchCV(clf, param_grid=params, cv=3, n_jobs=-1)\n",
    "grid.fit(X_train,y_train)"
   ]
  },
  {
   "cell_type": "code",
   "execution_count": 81,
   "id": "2c6a2702",
   "metadata": {
    "execution": {
     "iopub.execute_input": "2024-04-18T23:29:09.732011Z",
     "iopub.status.busy": "2024-04-18T23:29:09.730914Z",
     "iopub.status.idle": "2024-04-18T23:29:09.739171Z",
     "shell.execute_reply": "2024-04-18T23:29:09.737851Z"
    },
    "papermill": {
     "duration": 0.06739,
     "end_time": "2024-04-18T23:29:09.741971",
     "exception": false,
     "start_time": "2024-04-18T23:29:09.674581",
     "status": "completed"
    },
    "tags": []
   },
   "outputs": [
    {
     "data": {
      "text/plain": [
       "{'max_depth': 15, 'min_samples_leaf': 1, 'n_estimators': 400}"
      ]
     },
     "execution_count": 81,
     "metadata": {},
     "output_type": "execute_result"
    }
   ],
   "source": [
    "grid.best_params_"
   ]
  },
  {
   "cell_type": "code",
   "execution_count": 82,
   "id": "ea5a9a3c",
   "metadata": {
    "execution": {
     "iopub.execute_input": "2024-04-18T23:29:09.834898Z",
     "iopub.status.busy": "2024-04-18T23:29:09.833837Z",
     "iopub.status.idle": "2024-04-18T23:29:13.381834Z",
     "shell.execute_reply": "2024-04-18T23:29:13.380810Z"
    },
    "papermill": {
     "duration": 3.595064,
     "end_time": "2024-04-18T23:29:13.384186",
     "exception": false,
     "start_time": "2024-04-18T23:29:09.789122",
     "status": "completed"
    },
    "tags": []
   },
   "outputs": [
    {
     "name": "stdout",
     "output_type": "stream",
     "text": [
      "Acurácia na validação: {}\n",
      "Acurácia no teste: {} 0.7440076286246803 0.7403346047156727\n"
     ]
    }
   ],
   "source": [
    "best = grid.best_estimator_\n",
    "val_pred = best.predict(X_val)\n",
    "test_pred = best.predict(X_test)\n",
    "\n",
    "print('Acurácia na validação: {}\\nAcurácia no teste: {}', \n",
    "      accuracy_score(y_val,val_pred), accuracy_score(y_test,test_pred))"
   ]
  },
  {
   "cell_type": "markdown",
   "id": "e1cf9784",
   "metadata": {
    "papermill": {
     "duration": 0.042681,
     "end_time": "2024-04-18T23:29:13.468026",
     "exception": false,
     "start_time": "2024-04-18T23:29:13.425345",
     "status": "completed"
    },
    "tags": []
   },
   "source": [
    "Os resultados realmente tiveram uma melhora com o cross-validation.\n",
    "\n",
    "Vamos ver no caso do Gradient Boosting."
   ]
  },
  {
   "cell_type": "markdown",
   "id": "38169a15",
   "metadata": {
    "papermill": {
     "duration": 0.114112,
     "end_time": "2024-04-18T23:29:13.622903",
     "exception": false,
     "start_time": "2024-04-18T23:29:13.508791",
     "status": "completed"
    },
    "tags": []
   },
   "source": [
    "# Gradient Boosting com CV"
   ]
  },
  {
   "cell_type": "code",
   "execution_count": 83,
   "id": "b53c75a8",
   "metadata": {
    "execution": {
     "iopub.execute_input": "2024-04-18T23:29:13.705978Z",
     "iopub.status.busy": "2024-04-18T23:29:13.705614Z",
     "iopub.status.idle": "2024-04-18T23:47:52.073945Z",
     "shell.execute_reply": "2024-04-18T23:47:52.072771Z"
    },
    "papermill": {
     "duration": 1118.453618,
     "end_time": "2024-04-18T23:47:52.117023",
     "exception": false,
     "start_time": "2024-04-18T23:29:13.663405",
     "status": "completed"
    },
    "tags": []
   },
   "outputs": [
    {
     "data": {
      "text/html": [
       "<style>#sk-container-id-2 {color: black;background-color: white;}#sk-container-id-2 pre{padding: 0;}#sk-container-id-2 div.sk-toggleable {background-color: white;}#sk-container-id-2 label.sk-toggleable__label {cursor: pointer;display: block;width: 100%;margin-bottom: 0;padding: 0.3em;box-sizing: border-box;text-align: center;}#sk-container-id-2 label.sk-toggleable__label-arrow:before {content: \"▸\";float: left;margin-right: 0.25em;color: #696969;}#sk-container-id-2 label.sk-toggleable__label-arrow:hover:before {color: black;}#sk-container-id-2 div.sk-estimator:hover label.sk-toggleable__label-arrow:before {color: black;}#sk-container-id-2 div.sk-toggleable__content {max-height: 0;max-width: 0;overflow: hidden;text-align: left;background-color: #f0f8ff;}#sk-container-id-2 div.sk-toggleable__content pre {margin: 0.2em;color: black;border-radius: 0.25em;background-color: #f0f8ff;}#sk-container-id-2 input.sk-toggleable__control:checked~div.sk-toggleable__content {max-height: 200px;max-width: 100%;overflow: auto;}#sk-container-id-2 input.sk-toggleable__control:checked~label.sk-toggleable__label-arrow:before {content: \"▾\";}#sk-container-id-2 div.sk-estimator input.sk-toggleable__control:checked~label.sk-toggleable__label {background-color: #d4ebff;}#sk-container-id-2 div.sk-label input.sk-toggleable__control:checked~label.sk-toggleable__label {background-color: #d4ebff;}#sk-container-id-2 input.sk-hidden--visually {border: 0;clip: rect(1px 1px 1px 1px);clip: rect(1px, 1px, 1px, 1px);height: 1px;margin: -1px;overflow: hidden;padding: 0;position: absolute;width: 1px;}#sk-container-id-2 div.sk-estimator {font-family: monospace;background-color: #f0f8ff;border: 1px dotted black;border-radius: 0.25em;box-sizing: border-box;margin-bottom: 0.5em;}#sk-container-id-2 div.sk-estimator:hover {background-color: #d4ebff;}#sk-container-id-2 div.sk-parallel-item::after {content: \"\";width: 100%;border-bottom: 1px solid gray;flex-grow: 1;}#sk-container-id-2 div.sk-label:hover label.sk-toggleable__label {background-color: #d4ebff;}#sk-container-id-2 div.sk-serial::before {content: \"\";position: absolute;border-left: 1px solid gray;box-sizing: border-box;top: 0;bottom: 0;left: 50%;z-index: 0;}#sk-container-id-2 div.sk-serial {display: flex;flex-direction: column;align-items: center;background-color: white;padding-right: 0.2em;padding-left: 0.2em;position: relative;}#sk-container-id-2 div.sk-item {position: relative;z-index: 1;}#sk-container-id-2 div.sk-parallel {display: flex;align-items: stretch;justify-content: center;background-color: white;position: relative;}#sk-container-id-2 div.sk-item::before, #sk-container-id-2 div.sk-parallel-item::before {content: \"\";position: absolute;border-left: 1px solid gray;box-sizing: border-box;top: 0;bottom: 0;left: 50%;z-index: -1;}#sk-container-id-2 div.sk-parallel-item {display: flex;flex-direction: column;z-index: 1;position: relative;background-color: white;}#sk-container-id-2 div.sk-parallel-item:first-child::after {align-self: flex-end;width: 50%;}#sk-container-id-2 div.sk-parallel-item:last-child::after {align-self: flex-start;width: 50%;}#sk-container-id-2 div.sk-parallel-item:only-child::after {width: 0;}#sk-container-id-2 div.sk-dashed-wrapped {border: 1px dashed gray;margin: 0 0.4em 0.5em 0.4em;box-sizing: border-box;padding-bottom: 0.4em;background-color: white;}#sk-container-id-2 div.sk-label label {font-family: monospace;font-weight: bold;display: inline-block;line-height: 1.2em;}#sk-container-id-2 div.sk-label-container {text-align: center;}#sk-container-id-2 div.sk-container {/* jupyter's `normalize.less` sets `[hidden] { display: none; }` but bootstrap.min.css set `[hidden] { display: none !important; }` so we also need the `!important` here to be able to override the default hidden behavior on the sphinx rendered scikit-learn.org. See: https://github.com/scikit-learn/scikit-learn/issues/21755 */display: inline-block !important;position: relative;}#sk-container-id-2 div.sk-text-repr-fallback {display: none;}</style><div id=\"sk-container-id-2\" class=\"sk-top-container\"><div class=\"sk-text-repr-fallback\"><pre>GridSearchCV(cv=3, estimator=GradientBoostingClassifier(random_state=42),\n",
       "             n_jobs=-1,\n",
       "             param_grid={&#x27;learning_rate&#x27;: [0.1, 0.01, 0.001],\n",
       "                         &#x27;n_estimators&#x27;: [100, 200, 300, 400]})</pre><b>In a Jupyter environment, please rerun this cell to show the HTML representation or trust the notebook. <br />On GitHub, the HTML representation is unable to render, please try loading this page with nbviewer.org.</b></div><div class=\"sk-container\" hidden><div class=\"sk-item sk-dashed-wrapped\"><div class=\"sk-label-container\"><div class=\"sk-label sk-toggleable\"><input class=\"sk-toggleable__control sk-hidden--visually\" id=\"sk-estimator-id-4\" type=\"checkbox\" ><label for=\"sk-estimator-id-4\" class=\"sk-toggleable__label sk-toggleable__label-arrow\">GridSearchCV</label><div class=\"sk-toggleable__content\"><pre>GridSearchCV(cv=3, estimator=GradientBoostingClassifier(random_state=42),\n",
       "             n_jobs=-1,\n",
       "             param_grid={&#x27;learning_rate&#x27;: [0.1, 0.01, 0.001],\n",
       "                         &#x27;n_estimators&#x27;: [100, 200, 300, 400]})</pre></div></div></div><div class=\"sk-parallel\"><div class=\"sk-parallel-item\"><div class=\"sk-item\"><div class=\"sk-label-container\"><div class=\"sk-label sk-toggleable\"><input class=\"sk-toggleable__control sk-hidden--visually\" id=\"sk-estimator-id-5\" type=\"checkbox\" ><label for=\"sk-estimator-id-5\" class=\"sk-toggleable__label sk-toggleable__label-arrow\">estimator: GradientBoostingClassifier</label><div class=\"sk-toggleable__content\"><pre>GradientBoostingClassifier(random_state=42)</pre></div></div></div><div class=\"sk-serial\"><div class=\"sk-item\"><div class=\"sk-estimator sk-toggleable\"><input class=\"sk-toggleable__control sk-hidden--visually\" id=\"sk-estimator-id-6\" type=\"checkbox\" ><label for=\"sk-estimator-id-6\" class=\"sk-toggleable__label sk-toggleable__label-arrow\">GradientBoostingClassifier</label><div class=\"sk-toggleable__content\"><pre>GradientBoostingClassifier(random_state=42)</pre></div></div></div></div></div></div></div></div></div></div>"
      ],
      "text/plain": [
       "GridSearchCV(cv=3, estimator=GradientBoostingClassifier(random_state=42),\n",
       "             n_jobs=-1,\n",
       "             param_grid={'learning_rate': [0.1, 0.01, 0.001],\n",
       "                         'n_estimators': [100, 200, 300, 400]})"
      ]
     },
     "execution_count": 83,
     "metadata": {},
     "output_type": "execute_result"
    }
   ],
   "source": [
    "params = {\n",
    "    'n_estimators' : [100,200,300,400],\n",
    "    'learning_rate' : [0.1,0.01,0.001]\n",
    "}\n",
    "\n",
    "clf = GradientBoostingClassifier(random_state=42)\n",
    "grid = GridSearchCV(clf, param_grid=params, cv=3, n_jobs=-1)\n",
    "grid.fit(X_train,y_train)"
   ]
  },
  {
   "cell_type": "code",
   "execution_count": 84,
   "id": "c8b69029",
   "metadata": {
    "execution": {
     "iopub.execute_input": "2024-04-18T23:47:52.201204Z",
     "iopub.status.busy": "2024-04-18T23:47:52.200815Z",
     "iopub.status.idle": "2024-04-18T23:47:52.207330Z",
     "shell.execute_reply": "2024-04-18T23:47:52.206402Z"
    },
    "papermill": {
     "duration": 0.051226,
     "end_time": "2024-04-18T23:47:52.209365",
     "exception": false,
     "start_time": "2024-04-18T23:47:52.158139",
     "status": "completed"
    },
    "tags": []
   },
   "outputs": [
    {
     "data": {
      "text/plain": [
       "{'learning_rate': 0.1, 'n_estimators': 400}"
      ]
     },
     "execution_count": 84,
     "metadata": {},
     "output_type": "execute_result"
    }
   ],
   "source": [
    "grid.best_params_"
   ]
  },
  {
   "cell_type": "code",
   "execution_count": 85,
   "id": "b25f4b97",
   "metadata": {
    "execution": {
     "iopub.execute_input": "2024-04-18T23:47:52.294943Z",
     "iopub.status.busy": "2024-04-18T23:47:52.293527Z",
     "iopub.status.idle": "2024-04-18T23:47:53.026344Z",
     "shell.execute_reply": "2024-04-18T23:47:53.025085Z"
    },
    "papermill": {
     "duration": 0.778181,
     "end_time": "2024-04-18T23:47:53.028983",
     "exception": false,
     "start_time": "2024-04-18T23:47:52.250802",
     "status": "completed"
    },
    "tags": []
   },
   "outputs": [
    {
     "name": "stdout",
     "output_type": "stream",
     "text": [
      "Acurácia na validação: {}\n",
      "Acurácia no teste: {} 0.7112825625243813 0.7077843273231623\n"
     ]
    }
   ],
   "source": [
    "best = grid.best_estimator_\n",
    "val_pred = best.predict(X_val)\n",
    "test_pred = best.predict(X_test)\n",
    "\n",
    "print('Acurácia na validação: {}\\nAcurácia no teste: {}', \n",
    "      accuracy_score(y_val,val_pred), accuracy_score(y_test,test_pred))"
   ]
  },
  {
   "cell_type": "markdown",
   "id": "09eb09cd",
   "metadata": {
    "papermill": {
     "duration": 0.042306,
     "end_time": "2024-04-18T23:47:53.115101",
     "exception": false,
     "start_time": "2024-04-18T23:47:53.072795",
     "status": "completed"
    },
    "tags": []
   },
   "source": [
    "No caso do Gradient Boosting, não houve melhora com o cross-validation."
   ]
  }
 ],
 "metadata": {
  "kaggle": {
   "accelerator": "none",
   "dataSources": [
    {
     "datasetId": 2289007,
     "sourceId": 3846912,
     "sourceType": "datasetVersion"
    }
   ],
   "dockerImageVersionId": 30684,
   "isGpuEnabled": false,
   "isInternetEnabled": false,
   "language": "python",
   "sourceType": "notebook"
  },
  "kernelspec": {
   "display_name": "Python 3",
   "language": "python",
   "name": "python3"
  },
  "language_info": {
   "codemirror_mode": {
    "name": "ipython",
    "version": 3
   },
   "file_extension": ".py",
   "mimetype": "text/x-python",
   "name": "python",
   "nbconvert_exporter": "python",
   "pygments_lexer": "ipython3",
   "version": "3.10.13"
  },
  "papermill": {
   "default_parameters": {},
   "duration": 2904.649411,
   "end_time": "2024-04-18T23:47:55.784819",
   "environment_variables": {},
   "exception": null,
   "input_path": "__notebook__.ipynb",
   "output_path": "__notebook__.ipynb",
   "parameters": {},
   "start_time": "2024-04-18T22:59:31.135408",
   "version": "2.5.0"
  }
 },
 "nbformat": 4,
 "nbformat_minor": 5
}
